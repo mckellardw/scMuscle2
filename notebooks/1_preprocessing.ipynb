{
 "cells": [
  {
   "cell_type": "markdown",
   "id": "c8109bbc-6998-4006-b00a-f2a93a64f127",
   "metadata": {},
   "source": [
    "# Preprocessing of individual datasets"
   ]
  },
  {
   "cell_type": "markdown",
   "id": "8ad8028d-85b2-4db3-a4cb-3421da5167fc",
   "metadata": {},
   "source": [
    "Import packages... \n",
    "- [scanpy](https://scanpy.readthedocs.io/en/stable/index.html)\n"
   ]
  },
  {
   "cell_type": "code",
   "execution_count": 1,
   "id": "5ce71d39-2b08-4d41-b7d7-0543e0d05066",
   "metadata": {},
   "outputs": [],
   "source": [
    "import scanpy as sc\n",
    "import scanpy.external as sce\n",
    "import pandas as pd\n",
    "\n",
    "import os"
   ]
  },
  {
   "cell_type": "code",
   "execution_count": 2,
   "id": "9add09aa-98af-49d2-a954-5c5377d8b53e",
   "metadata": {},
   "outputs": [],
   "source": [
    "DATADIR=\"/workdir/dwm269/scMuscle2/data/align_out\""
   ]
  },
  {
   "cell_type": "markdown",
   "id": "aba526dd-37fd-4dc9-bcff-6d302d6e0715",
   "metadata": {},
   "source": [
    "Load metadata"
   ]
  },
  {
   "cell_type": "code",
   "execution_count": 78,
   "id": "3bb981bb-0dc6-428f-a859-9d1286be39c5",
   "metadata": {},
   "outputs": [
    {
     "data": {
      "text/html": [
       "<div>\n",
       "<style scoped>\n",
       "    .dataframe tbody tr th:only-of-type {\n",
       "        vertical-align: middle;\n",
       "    }\n",
       "\n",
       "    .dataframe tbody tr th {\n",
       "        vertical-align: top;\n",
       "    }\n",
       "\n",
       "    .dataframe thead th {\n",
       "        text-align: right;\n",
       "    }\n",
       "</style>\n",
       "<table border=\"1\" class=\"dataframe\">\n",
       "  <thead>\n",
       "    <tr style=\"text-align: right;\">\n",
       "      <th></th>\n",
       "      <th>source.label</th>\n",
       "      <th>sample</th>\n",
       "      <th>description</th>\n",
       "      <th>tissue</th>\n",
       "      <th>subtissue</th>\n",
       "      <th>comments</th>\n",
       "      <th>include</th>\n",
       "      <th>species</th>\n",
       "      <th>GSE.accession</th>\n",
       "      <th>GSM.accession</th>\n",
       "      <th>...</th>\n",
       "      <th>sample.accession</th>\n",
       "      <th>SAMN.accession</th>\n",
       "      <th>file_checksum</th>\n",
       "      <th>other.accession</th>\n",
       "      <th>source</th>\n",
       "      <th>manuscript.doi</th>\n",
       "      <th>manuscript.pubmed</th>\n",
       "      <th>experiment.instrument</th>\n",
       "      <th>study.title</th>\n",
       "      <th>study.abstract</th>\n",
       "    </tr>\n",
       "  </thead>\n",
       "  <tbody>\n",
       "    <tr>\n",
       "      <th>0</th>\n",
       "      <td>Dyer 2022</td>\n",
       "      <td>SJRHB030680_R1</td>\n",
       "      <td>A single-cell/nucleus atlas of pediatric rhabd...</td>\n",
       "      <td>muscle</td>\n",
       "      <td>tumor</td>\n",
       "      <td>Patient tumor</td>\n",
       "      <td>True</td>\n",
       "      <td>Homo sapiens</td>\n",
       "      <td>GSE174376</td>\n",
       "      <td>GSM5293229</td>\n",
       "      <td>...</td>\n",
       "      <td>NaN</td>\n",
       "      <td>SAMN19159611</td>\n",
       "      <td>NaN</td>\n",
       "      <td>NaN</td>\n",
       "      <td>NaN</td>\n",
       "      <td>NaN</td>\n",
       "      <td>NaN</td>\n",
       "      <td>Illumina NovaSeq 6000</td>\n",
       "      <td>NaN</td>\n",
       "      <td>NaN</td>\n",
       "    </tr>\n",
       "    <tr>\n",
       "      <th>1</th>\n",
       "      <td>Nakajima 2021</td>\n",
       "      <td>1_iPS</td>\n",
       "      <td>Human iPS cell line, 1231A3</td>\n",
       "      <td>tendon</td>\n",
       "      <td>iPSC</td>\n",
       "      <td>NaN</td>\n",
       "      <td>True</td>\n",
       "      <td>Homo sapiens</td>\n",
       "      <td>GSE156753</td>\n",
       "      <td>GSM4743488</td>\n",
       "      <td>...</td>\n",
       "      <td>SRS7251319</td>\n",
       "      <td>SAMN15893659</td>\n",
       "      <td>NaN</td>\n",
       "      <td>NaN</td>\n",
       "      <td>Najajima et al, Nature Communications, 20021</td>\n",
       "      <td>NaN</td>\n",
       "      <td>https://pubmed.ncbi.nlm.nih.gov/34408142/</td>\n",
       "      <td>Illumina HiSeq 2500</td>\n",
       "      <td>Grafting induced pluripotent stem cells-derive...</td>\n",
       "      <td>Self-renewal of tendons is rare since the vasc...</td>\n",
       "    </tr>\n",
       "    <tr>\n",
       "      <th>2</th>\n",
       "      <td>Nakajima 2021</td>\n",
       "      <td>2_PSM</td>\n",
       "      <td>iPS-derived presomitic mesoderm</td>\n",
       "      <td>tendon</td>\n",
       "      <td>iPSC</td>\n",
       "      <td>NaN</td>\n",
       "      <td>True</td>\n",
       "      <td>Homo sapiens</td>\n",
       "      <td>GSE156753</td>\n",
       "      <td>GSM4743489</td>\n",
       "      <td>...</td>\n",
       "      <td>SRS7251320</td>\n",
       "      <td>SAMN15893658</td>\n",
       "      <td>NaN</td>\n",
       "      <td>NaN</td>\n",
       "      <td>Najajima et al, Nature Communications, 20021</td>\n",
       "      <td>NaN</td>\n",
       "      <td>https://pubmed.ncbi.nlm.nih.gov/34408142/</td>\n",
       "      <td>Illumina HiSeq 2500</td>\n",
       "      <td>Grafting induced pluripotent stem cells-derive...</td>\n",
       "      <td>Self-renewal of tendons is rare since the vasc...</td>\n",
       "    </tr>\n",
       "    <tr>\n",
       "      <th>3</th>\n",
       "      <td>Nakajima 2021</td>\n",
       "      <td>3_SM</td>\n",
       "      <td>iPS-derived somitic mesoderm</td>\n",
       "      <td>tendon</td>\n",
       "      <td>iPSC</td>\n",
       "      <td>NaN</td>\n",
       "      <td>True</td>\n",
       "      <td>Homo sapiens</td>\n",
       "      <td>GSE156753</td>\n",
       "      <td>GSM4743490</td>\n",
       "      <td>...</td>\n",
       "      <td>SRS7251321</td>\n",
       "      <td>SAMN15893657</td>\n",
       "      <td>NaN</td>\n",
       "      <td>NaN</td>\n",
       "      <td>Najajima et al, Nature Communications, 20021</td>\n",
       "      <td>NaN</td>\n",
       "      <td>https://pubmed.ncbi.nlm.nih.gov/34408142/</td>\n",
       "      <td>Illumina HiSeq 2500</td>\n",
       "      <td>Grafting induced pluripotent stem cells-derive...</td>\n",
       "      <td>Self-renewal of tendons is rare since the vasc...</td>\n",
       "    </tr>\n",
       "    <tr>\n",
       "      <th>4</th>\n",
       "      <td>Nakajima 2021</td>\n",
       "      <td>4_SCL</td>\n",
       "      <td>iPS-derived sclerotome</td>\n",
       "      <td>tendon</td>\n",
       "      <td>iPSC</td>\n",
       "      <td>NaN</td>\n",
       "      <td>True</td>\n",
       "      <td>Homo sapiens</td>\n",
       "      <td>GSE156753</td>\n",
       "      <td>GSM4743491</td>\n",
       "      <td>...</td>\n",
       "      <td>SRS7251322</td>\n",
       "      <td>SAMN15893656</td>\n",
       "      <td>NaN</td>\n",
       "      <td>NaN</td>\n",
       "      <td>Najajima et al, Nature Communications, 20021</td>\n",
       "      <td>NaN</td>\n",
       "      <td>https://pubmed.ncbi.nlm.nih.gov/34408142/</td>\n",
       "      <td>Illumina HiSeq 2500</td>\n",
       "      <td>Grafting induced pluripotent stem cells-derive...</td>\n",
       "      <td>Self-renewal of tendons is rare since the vasc...</td>\n",
       "    </tr>\n",
       "    <tr>\n",
       "      <th>...</th>\n",
       "      <td>...</td>\n",
       "      <td>...</td>\n",
       "      <td>...</td>\n",
       "      <td>...</td>\n",
       "      <td>...</td>\n",
       "      <td>...</td>\n",
       "      <td>...</td>\n",
       "      <td>...</td>\n",
       "      <td>...</td>\n",
       "      <td>...</td>\n",
       "      <td>...</td>\n",
       "      <td>...</td>\n",
       "      <td>...</td>\n",
       "      <td>...</td>\n",
       "      <td>...</td>\n",
       "      <td>...</td>\n",
       "      <td>...</td>\n",
       "      <td>...</td>\n",
       "      <td>...</td>\n",
       "      <td>...</td>\n",
       "      <td>...</td>\n",
       "    </tr>\n",
       "    <tr>\n",
       "      <th>110</th>\n",
       "      <td>Lee 2021</td>\n",
       "      <td>BTS_D7_2</td>\n",
       "      <td>Day 7 post Burn/Tenotomy with sham neurectomy ...</td>\n",
       "      <td>tendon</td>\n",
       "      <td>NaN</td>\n",
       "      <td>151bp R1; 28bp until poly(T)</td>\n",
       "      <td>True</td>\n",
       "      <td>Homo sapiens</td>\n",
       "      <td>GSE163446</td>\n",
       "      <td>GSM4979414</td>\n",
       "      <td>...</td>\n",
       "      <td>SRS7895118</td>\n",
       "      <td>SAMN17106058</td>\n",
       "      <td>NaN</td>\n",
       "      <td>NaN</td>\n",
       "      <td>Lee et al, Nature Communications, 2021</td>\n",
       "      <td>NaN</td>\n",
       "      <td>https://pubmed.ncbi.nlm.nih.gov/34400627/</td>\n",
       "      <td>Illumina NovaSeq 6000</td>\n",
       "      <td>scRNA sequencing of cells harvested from the t...</td>\n",
       "      <td>scRNA sequencing was performed on cells harves...</td>\n",
       "    </tr>\n",
       "    <tr>\n",
       "      <th>111</th>\n",
       "      <td>Lee 2021</td>\n",
       "      <td>BTS_D7_3</td>\n",
       "      <td>Day 7 post Burn/Tenotomy with sham neurectomy ...</td>\n",
       "      <td>tendon</td>\n",
       "      <td>NaN</td>\n",
       "      <td>151bp R1; 28bp until poly(T)</td>\n",
       "      <td>True</td>\n",
       "      <td>Homo sapiens</td>\n",
       "      <td>GSE163446</td>\n",
       "      <td>GSM4979415</td>\n",
       "      <td>...</td>\n",
       "      <td>SRS7895119</td>\n",
       "      <td>SAMN17106057</td>\n",
       "      <td>NaN</td>\n",
       "      <td>NaN</td>\n",
       "      <td>Lee et al, Nature Communications, 2021</td>\n",
       "      <td>NaN</td>\n",
       "      <td>https://pubmed.ncbi.nlm.nih.gov/34400627/</td>\n",
       "      <td>Illumina NovaSeq 6000</td>\n",
       "      <td>scRNA sequencing of cells harvested from the t...</td>\n",
       "      <td>scRNA sequencing was performed on cells harves...</td>\n",
       "    </tr>\n",
       "    <tr>\n",
       "      <th>112</th>\n",
       "      <td>Lee 2021</td>\n",
       "      <td>BTN_D7_1</td>\n",
       "      <td>Day 7 post Burn/Tenotomy with neurectomy injur...</td>\n",
       "      <td>tendon</td>\n",
       "      <td>NaN</td>\n",
       "      <td>151bp R1; 28bp until poly(T)</td>\n",
       "      <td>True</td>\n",
       "      <td>Homo sapiens</td>\n",
       "      <td>GSE163446</td>\n",
       "      <td>GSM4979416</td>\n",
       "      <td>...</td>\n",
       "      <td>SRS7895120</td>\n",
       "      <td>SAMN17106056</td>\n",
       "      <td>NaN</td>\n",
       "      <td>NaN</td>\n",
       "      <td>Lee et al, Nature Communications, 2021</td>\n",
       "      <td>NaN</td>\n",
       "      <td>https://pubmed.ncbi.nlm.nih.gov/34400627/</td>\n",
       "      <td>Illumina NovaSeq 6000</td>\n",
       "      <td>scRNA sequencing of cells harvested from the t...</td>\n",
       "      <td>scRNA sequencing was performed on cells harves...</td>\n",
       "    </tr>\n",
       "    <tr>\n",
       "      <th>113</th>\n",
       "      <td>Lee 2021</td>\n",
       "      <td>BTN_D7_2</td>\n",
       "      <td>Day 7 post Burn/Tenotomy with neurectomy injur...</td>\n",
       "      <td>tendon</td>\n",
       "      <td>NaN</td>\n",
       "      <td>151bp R1; 28bp until poly(T)</td>\n",
       "      <td>True</td>\n",
       "      <td>Homo sapiens</td>\n",
       "      <td>GSE163446</td>\n",
       "      <td>GSM4979417</td>\n",
       "      <td>...</td>\n",
       "      <td>SRS7895121</td>\n",
       "      <td>SAMN17106065</td>\n",
       "      <td>NaN</td>\n",
       "      <td>NaN</td>\n",
       "      <td>Lee et al, Nature Communications, 2021</td>\n",
       "      <td>NaN</td>\n",
       "      <td>https://pubmed.ncbi.nlm.nih.gov/34400627/</td>\n",
       "      <td>Illumina NovaSeq 6000</td>\n",
       "      <td>scRNA sequencing of cells harvested from the t...</td>\n",
       "      <td>scRNA sequencing was performed on cells harves...</td>\n",
       "    </tr>\n",
       "    <tr>\n",
       "      <th>114</th>\n",
       "      <td>Lee 2021</td>\n",
       "      <td>BTN_D7_3</td>\n",
       "      <td>Day 7 post Burn/Tenotomy with neurectomy injur...</td>\n",
       "      <td>tendon</td>\n",
       "      <td>NaN</td>\n",
       "      <td>151bp R1; 28bp until poly(T)</td>\n",
       "      <td>True</td>\n",
       "      <td>Homo sapiens</td>\n",
       "      <td>GSE163446</td>\n",
       "      <td>GSM4979418</td>\n",
       "      <td>...</td>\n",
       "      <td>SRS7895122</td>\n",
       "      <td>SAMN17106064</td>\n",
       "      <td>NaN</td>\n",
       "      <td>NaN</td>\n",
       "      <td>Lee et al, Nature Communications, 2021</td>\n",
       "      <td>NaN</td>\n",
       "      <td>https://pubmed.ncbi.nlm.nih.gov/34400627/</td>\n",
       "      <td>Illumina NovaSeq 6000</td>\n",
       "      <td>scRNA sequencing of cells harvested from the t...</td>\n",
       "      <td>scRNA sequencing was performed on cells harves...</td>\n",
       "    </tr>\n",
       "  </tbody>\n",
       "</table>\n",
       "<p>115 rows × 26 columns</p>\n",
       "</div>"
      ],
      "text/plain": [
       "      source.label          sample  \\\n",
       "0        Dyer 2022  SJRHB030680_R1   \n",
       "1    Nakajima 2021           1_iPS   \n",
       "2    Nakajima 2021           2_PSM   \n",
       "3    Nakajima 2021            3_SM   \n",
       "4    Nakajima 2021           4_SCL   \n",
       "..             ...             ...   \n",
       "110       Lee 2021        BTS_D7_2   \n",
       "111       Lee 2021        BTS_D7_3   \n",
       "112       Lee 2021        BTN_D7_1   \n",
       "113       Lee 2021        BTN_D7_2   \n",
       "114       Lee 2021        BTN_D7_3   \n",
       "\n",
       "                                           description  tissue subtissue  \\\n",
       "0    A single-cell/nucleus atlas of pediatric rhabd...  muscle     tumor   \n",
       "1                          Human iPS cell line, 1231A3  tendon      iPSC   \n",
       "2                      iPS-derived presomitic mesoderm  tendon      iPSC   \n",
       "3                         iPS-derived somitic mesoderm  tendon      iPSC   \n",
       "4                               iPS-derived sclerotome  tendon      iPSC   \n",
       "..                                                 ...     ...       ...   \n",
       "110  Day 7 post Burn/Tenotomy with sham neurectomy ...  tendon       NaN   \n",
       "111  Day 7 post Burn/Tenotomy with sham neurectomy ...  tendon       NaN   \n",
       "112  Day 7 post Burn/Tenotomy with neurectomy injur...  tendon       NaN   \n",
       "113  Day 7 post Burn/Tenotomy with neurectomy injur...  tendon       NaN   \n",
       "114  Day 7 post Burn/Tenotomy with neurectomy injur...  tendon       NaN   \n",
       "\n",
       "                         comments  include       species GSE.accession  \\\n",
       "0                   Patient tumor     True  Homo sapiens     GSE174376   \n",
       "1                             NaN     True  Homo sapiens     GSE156753   \n",
       "2                             NaN     True  Homo sapiens     GSE156753   \n",
       "3                             NaN     True  Homo sapiens     GSE156753   \n",
       "4                             NaN     True  Homo sapiens     GSE156753   \n",
       "..                            ...      ...           ...           ...   \n",
       "110  151bp R1; 28bp until poly(T)     True  Homo sapiens     GSE163446   \n",
       "111  151bp R1; 28bp until poly(T)     True  Homo sapiens     GSE163446   \n",
       "112  151bp R1; 28bp until poly(T)     True  Homo sapiens     GSE163446   \n",
       "113  151bp R1; 28bp until poly(T)     True  Homo sapiens     GSE163446   \n",
       "114  151bp R1; 28bp until poly(T)     True  Homo sapiens     GSE163446   \n",
       "\n",
       "    GSM.accession  ... sample.accession SAMN.accession file_checksum  \\\n",
       "0      GSM5293229  ...              NaN   SAMN19159611           NaN   \n",
       "1      GSM4743488  ...       SRS7251319   SAMN15893659           NaN   \n",
       "2      GSM4743489  ...       SRS7251320   SAMN15893658           NaN   \n",
       "3      GSM4743490  ...       SRS7251321   SAMN15893657           NaN   \n",
       "4      GSM4743491  ...       SRS7251322   SAMN15893656           NaN   \n",
       "..            ...  ...              ...            ...           ...   \n",
       "110    GSM4979414  ...       SRS7895118   SAMN17106058           NaN   \n",
       "111    GSM4979415  ...       SRS7895119   SAMN17106057           NaN   \n",
       "112    GSM4979416  ...       SRS7895120   SAMN17106056           NaN   \n",
       "113    GSM4979417  ...       SRS7895121   SAMN17106065           NaN   \n",
       "114    GSM4979418  ...       SRS7895122   SAMN17106064           NaN   \n",
       "\n",
       "    other.accession                                        source  \\\n",
       "0               NaN                                           NaN   \n",
       "1               NaN  Najajima et al, Nature Communications, 20021   \n",
       "2               NaN  Najajima et al, Nature Communications, 20021   \n",
       "3               NaN  Najajima et al, Nature Communications, 20021   \n",
       "4               NaN  Najajima et al, Nature Communications, 20021   \n",
       "..              ...                                           ...   \n",
       "110             NaN        Lee et al, Nature Communications, 2021   \n",
       "111             NaN        Lee et al, Nature Communications, 2021   \n",
       "112             NaN        Lee et al, Nature Communications, 2021   \n",
       "113             NaN        Lee et al, Nature Communications, 2021   \n",
       "114             NaN        Lee et al, Nature Communications, 2021   \n",
       "\n",
       "    manuscript.doi                          manuscript.pubmed  \\\n",
       "0              NaN                                        NaN   \n",
       "1              NaN  https://pubmed.ncbi.nlm.nih.gov/34408142/   \n",
       "2              NaN  https://pubmed.ncbi.nlm.nih.gov/34408142/   \n",
       "3              NaN  https://pubmed.ncbi.nlm.nih.gov/34408142/   \n",
       "4              NaN  https://pubmed.ncbi.nlm.nih.gov/34408142/   \n",
       "..             ...                                        ...   \n",
       "110            NaN  https://pubmed.ncbi.nlm.nih.gov/34400627/   \n",
       "111            NaN  https://pubmed.ncbi.nlm.nih.gov/34400627/   \n",
       "112            NaN  https://pubmed.ncbi.nlm.nih.gov/34400627/   \n",
       "113            NaN  https://pubmed.ncbi.nlm.nih.gov/34400627/   \n",
       "114            NaN  https://pubmed.ncbi.nlm.nih.gov/34400627/   \n",
       "\n",
       "     experiment.instrument                                        study.title  \\\n",
       "0    Illumina NovaSeq 6000                                                NaN   \n",
       "1      Illumina HiSeq 2500  Grafting induced pluripotent stem cells-derive...   \n",
       "2      Illumina HiSeq 2500  Grafting induced pluripotent stem cells-derive...   \n",
       "3      Illumina HiSeq 2500  Grafting induced pluripotent stem cells-derive...   \n",
       "4      Illumina HiSeq 2500  Grafting induced pluripotent stem cells-derive...   \n",
       "..                     ...                                                ...   \n",
       "110  Illumina NovaSeq 6000  scRNA sequencing of cells harvested from the t...   \n",
       "111  Illumina NovaSeq 6000  scRNA sequencing of cells harvested from the t...   \n",
       "112  Illumina NovaSeq 6000  scRNA sequencing of cells harvested from the t...   \n",
       "113  Illumina NovaSeq 6000  scRNA sequencing of cells harvested from the t...   \n",
       "114  Illumina NovaSeq 6000  scRNA sequencing of cells harvested from the t...   \n",
       "\n",
       "                                        study.abstract  \n",
       "0                                                  NaN  \n",
       "1    Self-renewal of tendons is rare since the vasc...  \n",
       "2    Self-renewal of tendons is rare since the vasc...  \n",
       "3    Self-renewal of tendons is rare since the vasc...  \n",
       "4    Self-renewal of tendons is rare since the vasc...  \n",
       "..                                                 ...  \n",
       "110  scRNA sequencing was performed on cells harves...  \n",
       "111  scRNA sequencing was performed on cells harves...  \n",
       "112  scRNA sequencing was performed on cells harves...  \n",
       "113  scRNA sequencing was performed on cells harves...  \n",
       "114  scRNA sequencing was performed on cells harves...  \n",
       "\n",
       "[115 rows x 26 columns]"
      ]
     },
     "execution_count": 78,
     "metadata": {},
     "output_type": "execute_result"
    }
   ],
   "source": [
    "meta = pd.read_csv(\"../scMuscle2_metadata_v1-0.csv\")\n",
    "meta = meta.loc[meta[\"include\"],] # remove unwanted metadata\n",
    "meta = meta[[x in [\"fastq\", \"bam\"] for x in meta[\"file.format\"]]] # remove samples w/ download issues\n",
    "\n",
    "meta = meta[[x in [\"muscle\", \"tendon\"] for x in meta[\"tissue\"]]] # subset by tissue \n",
    "meta = meta[[x in [\"Homo sapiens\"] for x in meta[\"species\"]]] # subset by species , \"Mus musculus\"\n",
    "# meta = meta.iloc[[8,12,23,34,45],] # subset by row index\n",
    "\n",
    "meta = meta[[x != \"\" for x in meta[\"GSM.accession\"]]] # \n",
    "meta = meta[[x != \"\" for x in meta[\"sample\"]]] # \n",
    "\n",
    "meta.index = list(range(0, len(meta))) # reset row indices\n",
    "meta"
   ]
  },
  {
   "cell_type": "code",
   "execution_count": 25,
   "id": "a68dbb35-4bd1-4aff-808c-ce3d883a910a",
   "metadata": {},
   "outputs": [
    {
     "data": {
      "text/plain": [
       "Mus musculus                        378\n",
       "Homo sapiens                        172\n",
       "Danio rerio                          38\n",
       "Homo sapiens and Pan troglodytes     22\n",
       "Rattus norvegicus                     8\n",
       "Gallus gallus                         7\n",
       "Macaca fascicularis                   1\n",
       "Name: species, dtype: int64"
      ]
     },
     "execution_count": 25,
     "metadata": {},
     "output_type": "execute_result"
    }
   ],
   "source": [
    "meta.species.value_counts()"
   ]
  },
  {
   "cell_type": "code",
   "execution_count": 4,
   "id": "01955ec1-a2fb-44c8-b130-40b2cefdfe55",
   "metadata": {},
   "outputs": [],
   "source": [
    "# Calculate the number of PCs that contain some proportion (default is 95%) of the variance\n",
    "def npcs(\n",
    "  ADATA,\n",
    "  var_perc=0.95,\n",
    "  reduction=\"pca\"\n",
    "):\n",
    "    import numpy as np\n",
    "    get_var = lambda i: np.var(ADATA.obsm[reduction][:,i])\n",
    "\n",
    "    if ADATA.obsm[reduction] is None:\n",
    "        print(f\"Reduction {reduction}, not found!\")\n",
    "        return None\n",
    "    else:\n",
    "        var_tmp = [get_var(i) for i in list(range(0,ADATA.obsm[reduction].shape[1]))]\n",
    "        var_cut = var_perc * np.sum(var_tmp)\n",
    "        n_pcs = 0\n",
    "        var_sum = 0\n",
    "        while var_sum<var_cut and n_pcs<ADATA.obsm[reduction].shape[1]-1:\n",
    "            var_sum = var_sum + var_tmp[n_pcs]\n",
    "            n_pcs = n_pcs + 1\n",
    "\n",
    "        return(n_pcs)"
   ]
  },
  {
   "cell_type": "markdown",
   "id": "aacf4679-94c8-40a3-8710-24d45a120424",
   "metadata": {},
   "source": [
    "Read in count data & initialize anndata objects. ALso add metadata to each object"
   ]
  },
  {
   "cell_type": "code",
   "execution_count": 85,
   "id": "d7bf66d5-996e-4cf0-b477-a5f720c269a6",
   "metadata": {},
   "outputs": [],
   "source": [
    "# try:\n",
    "#     scm_list.index\n",
    "# except:\n",
    "scm_list = pd.Series(\n",
    "    index = meta[\"GSM.accession\"],\n",
    "    data = [\"\"]*meta.shape[0]\n",
    ")"
   ]
  },
  {
   "cell_type": "code",
   "execution_count": 86,
   "id": "e19412a5-75c8-4888-ab2e-1ef28905ef9d",
   "metadata": {},
   "outputs": [
    {
     "name": "stdout",
     "output_type": "stream",
     "text": [
      "Can't find counts for GSM5293229...\n",
      "Sample: GSM4743488\n",
      "     Loaded 4838 cells and 61860 genes...\n",
      "Sample: GSM4743489\n",
      "     Loaded 3151 cells and 61860 genes...\n",
      "Sample: GSM4743490\n",
      "     Loaded 3047 cells and 61860 genes...\n",
      "Sample: GSM4743491\n",
      "     Loaded 2500 cells and 61860 genes...\n",
      "Sample: GSM4743492\n",
      "     Loaded 2172 cells and 61860 genes...\n",
      "Sample: GSM4743493\n",
      "     Loaded 2642 cells and 61860 genes...\n",
      "Sample: GSM4743494\n",
      "     Loaded 2706 cells and 61860 genes...\n",
      "Sample: GSM4743495\n",
      "     Loaded 3199 cells and 61860 genes...\n",
      "Sample: GSM5848681\n",
      "     Loaded 5498 cells and 61860 genes...\n",
      "Sample: GSM5848680\n",
      "     Loaded 5875 cells and 61860 genes...\n",
      "Sample: GSM5848679\n",
      "     Loaded 6434 cells and 61860 genes...\n",
      "Sample: GSM5848678\n",
      "     Loaded 10062 cells and 61860 genes...\n",
      "Sample: GSM4272893\n",
      "     Loaded 2392 cells and 61860 genes...\n",
      "Sample: GSM4272894\n",
      "     Loaded 902 cells and 61860 genes...\n",
      "Sample: GSM4272895\n",
      "     Loaded 1667 cells and 61860 genes...\n",
      "Sample: GSM4272896\n",
      "     Loaded 381 cells and 61860 genes...\n",
      "Sample: GSM4272897\n",
      "     Loaded 2141 cells and 61860 genes...\n",
      "Sample: GSM4272898\n",
      "     Loaded 6557 cells and 61860 genes...\n",
      "Sample: GSM4272899\n",
      "     Loaded 2797 cells and 61860 genes...\n",
      "Sample: GSM4272900\n",
      "     Loaded 5411 cells and 61860 genes...\n",
      "Sample: GSM4272901\n",
      "     Loaded 13542 cells and 61860 genes...\n",
      "Sample: GSM4272902\n",
      "     Loaded 9920 cells and 61860 genes...\n",
      "Sample: GSM5098737\n",
      "     Loaded 6441 cells and 61860 genes...\n",
      "Sample: GSM5098738\n",
      "     Loaded 7748 cells and 61860 genes...\n",
      "Sample: GSM5098739\n",
      "     Loaded 4335 cells and 61860 genes...\n",
      "Sample: GSM5098740\n",
      "     Loaded 14670 cells and 61860 genes...\n",
      "Sample: GSM5098741\n",
      "     Loaded 6059 cells and 61860 genes...\n",
      "Sample: GSM5098742\n",
      "     Loaded 5780 cells and 61860 genes...\n",
      "Sample: GSM5098743\n",
      "     Loaded 4232 cells and 61860 genes...\n",
      "Sample: GSM5098744\n",
      "     Loaded 4037 cells and 61860 genes...\n",
      "Sample: GSM5098745\n",
      "     Loaded 9432 cells and 61860 genes...\n",
      "Sample: GSM5098746\n",
      "     Loaded 4778 cells and 61860 genes...\n",
      "Sample: GSM5098747\n",
      "     Loaded 4128 cells and 61860 genes...\n",
      "Sample: GSM5098748\n",
      "     Loaded 5410 cells and 61860 genes...\n",
      "Sample: GSM5098749\n",
      "     Loaded 3799 cells and 61860 genes...\n",
      "Sample: GSM5098750\n",
      "     Loaded 3427 cells and 61860 genes...\n",
      "Sample: GSM5098751\n",
      "     Loaded 13305 cells and 61860 genes...\n",
      "Sample: GSM5098752\n",
      "     Loaded 12880 cells and 61860 genes...\n",
      "Sample: GSM5098753\n",
      "     Loaded 17689 cells and 61860 genes...\n",
      "Sample: GSM5672476\n",
      "     Loaded 10033 cells and 61860 genes...\n",
      "Sample: GSM5672477\n",
      "     Loaded 8609 cells and 61860 genes...\n",
      "Sample: GSM5672478\n",
      "     Loaded 8447 cells and 61860 genes...\n",
      "Sample: GSM5672479\n",
      "     Loaded 6452 cells and 61860 genes...\n",
      "Sample: GSM5672480\n",
      "     Loaded 8971 cells and 61860 genes...\n",
      "Sample: GSM3672210\n",
      "     Loaded 196 cells and 61860 genes...\n",
      "Sample: GSM5390515\n",
      "     Loaded 8299 cells and 61860 genes...\n",
      "Sample: GSM4110112\n",
      "     Loaded 586 cells and 61860 genes...\n",
      "Sample: GSM4110113\n",
      "     Loaded 251 cells and 61860 genes...\n",
      "Sample: GSM4110114\n",
      "     Loaded 272 cells and 61860 genes...\n",
      "Sample: GSM4110115\n",
      "     Loaded 110 cells and 61860 genes...\n",
      "Sample: GSM4743496\n",
      "     Loaded 3919 cells and 61860 genes...\n",
      "Sample: GSM5390456\n",
      "     Loaded 4021 cells and 61860 genes...\n",
      "Sample: GSM5390457\n",
      "     Loaded 156 cells and 61860 genes...\n",
      "Sample: GSM5390458\n",
      "     Loaded 128 cells and 61860 genes...\n",
      "Sample: GSM5390459\n",
      "     Loaded 107 cells and 61860 genes...\n",
      "Sample: GSM5390460\n",
      "     Loaded 7426 cells and 61860 genes...\n",
      "Sample: GSM5390461\n",
      "     Loaded 140 cells and 61860 genes...\n",
      "Sample: GSM5390462\n",
      "     Loaded 128 cells and 61860 genes...\n",
      "Sample: GSM5390463\n",
      "     Loaded 8839 cells and 61860 genes...\n",
      "Sample: GSM5390464\n",
      "     Loaded 109 cells and 61860 genes...\n",
      "Sample: GSM5390465\n",
      "     Loaded 88 cells and 61860 genes...\n",
      "Sample: GSM5390466\n",
      "     Loaded 152 cells and 61860 genes...\n",
      "Sample: GSM5390467\n",
      "     Loaded 133 cells and 61860 genes...\n",
      "Sample: GSM5390468\n",
      "     Loaded 176 cells and 61860 genes...\n",
      "Sample: GSM5390469\n",
      "     Loaded 239 cells and 61860 genes...\n",
      "Sample: GSM5390470\n",
      "     Loaded 146 cells and 61860 genes...\n",
      "Sample: GSM5390471\n",
      "     Loaded 90 cells and 61860 genes...\n",
      "Sample: GSM5390472\n",
      "     Loaded 154 cells and 61860 genes...\n",
      "Sample: GSM5390473\n",
      "     Loaded 110 cells and 61860 genes...\n",
      "Sample: GSM5390474\n",
      "     Loaded 7387 cells and 61860 genes...\n",
      "Sample: GSM5848676\n",
      "     Loaded 11027 cells and 61860 genes...\n",
      "Sample: GSM5848675\n",
      "     Loaded 20619 cells and 61860 genes...\n",
      "Sample: GSM5848674\n",
      "     Loaded 4631 cells and 61860 genes...\n",
      "Sample: GSM5848673\n",
      "     Loaded 11506 cells and 61860 genes...\n",
      "Sample: GSM5390475\n",
      "     Loaded 8261 cells and 61860 genes...\n",
      "Sample: GSM5390476\n",
      "     Loaded 9596 cells and 61860 genes...\n",
      "Sample: GSM5390477\n",
      "     Loaded 4820 cells and 61860 genes...\n",
      "Sample: GSM5390478\n",
      "     Loaded 5367 cells and 61860 genes...\n",
      "Sample: GSM5390479\n",
      "     Loaded 5020 cells and 61860 genes...\n",
      "Sample: GSM5390480\n",
      "     Loaded 5258 cells and 61860 genes...\n",
      "Sample: GSM5390481\n",
      "     Loaded 10433 cells and 61860 genes...\n",
      "Sample: GSM5390482\n",
      "     Loaded 93 cells and 61860 genes...\n",
      "Sample: GSM5390483\n",
      "     Loaded 6181 cells and 61860 genes...\n",
      "Sample: GSM5390484\n",
      "     Loaded 174 cells and 61860 genes...\n",
      "Sample: GSM5390485\n",
      "     Loaded 213 cells and 61860 genes...\n",
      "Sample: GSM5390486\n",
      "     Loaded 131 cells and 61860 genes...\n",
      "Sample: GSM5390487\n",
      "     Loaded 127 cells and 61860 genes...\n",
      "Sample: GSM5390488\n",
      "     Loaded 134 cells and 61860 genes...\n",
      "Sample: GSM5390489\n",
      "     Loaded 5730 cells and 61860 genes...\n",
      "Sample: GSM5390490\n",
      "     Loaded 5181 cells and 61860 genes...\n",
      "Sample: GSM5390491\n",
      "     Loaded 122 cells and 61860 genes...\n",
      "Sample: GSM5390492\n",
      "     Loaded 88 cells and 61860 genes...\n",
      "Sample: GSM5390516\n",
      "     Loaded 96 cells and 61860 genes...\n",
      "Sample: GSM5390517\n",
      "     Loaded 872 cells and 61860 genes...\n",
      "Sample: GSM5390518\n",
      "     Loaded 595 cells and 61860 genes...\n",
      "Sample: GSM5848693\n",
      "     Loaded 6227 cells and 61860 genes...\n",
      "Sample: GSM5848694\n",
      "     Loaded 6616 cells and 61860 genes...\n",
      "Sample: GSM5848692\n",
      "     Loaded 15235 cells and 61860 genes...\n",
      "Sample: GSM5848691\n",
      "     Loaded 10420 cells and 61860 genes...\n",
      "Sample: GSM5848690\n",
      "     Loaded 7434 cells and 61860 genes...\n",
      "Sample: GSM5848689\n",
      "     Loaded 6223 cells and 61860 genes...\n",
      "Sample: GSM5848688\n",
      "     Loaded 16871 cells and 61860 genes...\n",
      "Sample: GSM5848687\n",
      "     Loaded 6076 cells and 61860 genes...\n",
      "Sample: GSM5848685\n",
      "     Loaded 13153 cells and 61860 genes...\n",
      "Sample: GSM5848686\n",
      "     Loaded 18336 cells and 61860 genes...\n",
      "Sample: GSM5848684\n",
      "     Loaded 20129 cells and 61860 genes...\n",
      "Sample: GSM5848683\n",
      "     Loaded 8104 cells and 61860 genes...\n",
      "Sample: GSM5848682\n",
      "     Loaded 5989 cells and 61860 genes...\n",
      "Sample: GSM4979413\n",
      "     Loaded 2678 cells and 61860 genes...\n",
      "Sample: GSM4979414\n",
      "     Loaded 2876 cells and 61860 genes...\n",
      "Sample: GSM4979415\n",
      "     Loaded 3537 cells and 61860 genes...\n",
      "Sample: GSM4979416\n",
      "     Loaded 2902 cells and 61860 genes...\n",
      "Sample: GSM4979417\n",
      "     Loaded 3802 cells and 61860 genes...\n",
      "Sample: GSM4979418\n",
      "     Loaded 2798 cells and 61860 genes...\n"
     ]
    }
   ],
   "source": [
    "for i in range(0,meta.shape[0]):\n",
    "    if os.path.exists(DATADIR+\"/\"+meta[\"GSM.accession\"][i]+\"/STARsolo/Solo.out/GeneFull/filtered/matrix.mtx.gz\"):\n",
    "        print(\"Sample: \" + meta[\"GSM.accession\"][i]) \n",
    "#         try:\n",
    "        scm_list[i] = sc.read_10x_mtx(\n",
    "                path=DATADIR+\"/\"+meta[\"GSM.accession\"][i]+\"/STARsolo/Solo.out/GeneFull/filtered\", \n",
    "                var_names='gene_symbols',\n",
    "                make_unique=True,\n",
    "                cache=True\n",
    "            )\n",
    "          \n",
    "        scm_list[i].var_names_make_unique()  # this is unnecessary if using `var_names='gene_ids'` in `sc.read_10x_mtx`\n",
    "\n",
    "        for j in range(0,meta.shape[1]): #metadata features\n",
    "            scm_list[i].obs[meta.columns[j]] = meta.iloc[i,j]\n",
    "\n",
    "        scm_list[i].layers['counts'] = scm_list[i].X # save counts as a layer for future plotting\n",
    "\n",
    "        print(\"     Loaded \" + str(scm_list[i].shape[0]) + \" cells and \" + str(scm_list[i].shape[1]) + \" genes...\")\n",
    "    else:\n",
    "        print(\"Can't find counts for \" + str(meta[\"GSM.accession\"][i]) + \"...\")\n",
    "#         except:\n",
    "#             print(\"Exception with \" + meta[\"sample\"][i])"
   ]
  },
  {
   "cell_type": "markdown",
   "id": "77190686-bba7-4420-8699-6ca9a06e4456",
   "metadata": {},
   "source": [
    "Add ambient-RNA-scrubbed counts"
   ]
  },
  {
   "cell_type": "code",
   "execution_count": null,
   "id": "a9639b1a-1640-4714-8c65-39b74b7e0b85",
   "metadata": {},
   "outputs": [],
   "source": [
    "#TODO"
   ]
  },
  {
   "cell_type": "code",
   "execution_count": 83,
   "id": "61a79f35-0607-4383-ae18-287d0345c010",
   "metadata": {},
   "outputs": [
    {
     "data": {
      "text/plain": [
       "272464425"
      ]
     },
     "execution_count": 83,
     "metadata": {},
     "output_type": "execute_result"
    }
   ],
   "source": [
    "import gc\n",
    "\n",
    "gc.collect()"
   ]
  },
  {
   "cell_type": "markdown",
   "id": "f5d9260f-0c1e-4e08-b8c3-72a468e68159",
   "metadata": {},
   "source": [
    "QC filter and preprocess individual datasets"
   ]
  },
  {
   "cell_type": "code",
   "execution_count": 87,
   "id": "661665b7-17ef-4cc8-81d7-9a475101a77a",
   "metadata": {},
   "outputs": [
    {
     "name": "stdout",
     "output_type": "stream",
     "text": [
      "Exception with SJRHB030680_R1\n",
      " \n",
      "1_iPS: 4838 cells and 61860 features...\n",
      "After filtering: 3051 cells and 61860 features...\n",
      " \n",
      "2_PSM: 3151 cells and 61860 features...\n",
      "After filtering: 1811 cells and 61860 features...\n",
      " \n",
      "3_SM: 3047 cells and 61860 features...\n",
      "After filtering: 2233 cells and 61860 features...\n",
      " \n",
      "4_SCL: 2500 cells and 61860 features...\n",
      "After filtering: 1869 cells and 61860 features...\n",
      " \n",
      "5_SYN_day2: 2172 cells and 61860 features...\n",
      "After filtering: 1936 cells and 61860 features...\n",
      " \n",
      "6_SYN_day4: 2642 cells and 61860 features...\n",
      "After filtering: 2484 cells and 61860 features...\n",
      " \n",
      "7_SYN_day6: 2706 cells and 61860 features...\n",
      "After filtering: 2577 cells and 61860 features...\n",
      " \n",
      "8_SYN_day8: 3199 cells and 61860 features...\n",
      "After filtering: 2531 cells and 61860 features...\n",
      " \n",
      "RD cell line with LARRY barcodes after washing out Differentiation medium at third time point: 5498 cells and 61860 features...\n",
      "After filtering: 5274 cells and 61860 features...\n",
      " \n",
      "RD cell line with LARRY barcodes with Differentiation medium at second time point: 5875 cells and 61860 features...\n",
      "After filtering: 5233 cells and 61860 features...\n",
      " \n",
      "RD cell line with LARRY barcodes with Regular medium at second time point: 6434 cells and 61860 features...\n",
      "After filtering: 6003 cells and 61860 features...\n",
      " \n",
      "RD cell line with LARRY barcodes with Regular medium at first time point: 10062 cells and 61860 features...\n",
      "After filtering: 9882 cells and 61860 features...\n",
      " \n",
      "hu07_021219: 2392 cells and 61860 features...\n",
      "After filtering: 1688 cells and 61860 features...\n",
      " \n",
      "hu01_061419: 902 cells and 61860 features...\n",
      "After filtering: 725 cells and 61860 features...\n",
      " \n",
      "hu02_062419: 1667 cells and 61860 features...\n",
      "After filtering: 1195 cells and 61860 features...\n",
      " \n",
      "hu03_062719: 381 cells and 61860 features...\n",
      "After filtering: 253 cells and 61860 features...\n",
      " \n",
      "hu04_080619: 2141 cells and 61860 features...\n",
      "After filtering: 920 cells and 61860 features...\n",
      " \n",
      "hu08_092618: 6557 cells and 61860 features...\n",
      "After filtering: 5579 cells and 61860 features...\n",
      " \n",
      "hu09_092718: 2797 cells and 61860 features...\n",
      "After filtering: 2565 cells and 61860 features...\n",
      " \n",
      "hu10_101018: 5411 cells and 61860 features...\n",
      "After filtering: 4831 cells and 61860 features...\n",
      " \n",
      "hu05_111418: 13542 cells and 61860 features...\n",
      "After filtering: 9551 cells and 61860 features...\n",
      " \n",
      "hu06_120518: 9920 cells and 61860 features...\n",
      "After filtering: 7759 cells and 61860 features...\n",
      " \n",
      "OldHM1: 6441 cells and 61860 features...\n",
      "After filtering: 3586 cells and 61860 features...\n",
      " \n",
      "OldHM2: 7748 cells and 61860 features...\n",
      "After filtering: 5203 cells and 61860 features...\n",
      " \n",
      "OldHM3: 4335 cells and 61860 features...\n",
      "After filtering: 3030 cells and 61860 features...\n",
      " \n",
      "OldHM4: 14670 cells and 61860 features...\n",
      "After filtering: 1556 cells and 61860 features...\n",
      " \n",
      "YouHM5: 6059 cells and 61860 features...\n",
      "After filtering: 3208 cells and 61860 features...\n",
      " \n",
      "OldHM6: 5780 cells and 61860 features...\n",
      "After filtering: 2695 cells and 61860 features...\n",
      " \n",
      "OldHM7: 4232 cells and 61860 features...\n",
      "After filtering: 1451 cells and 61860 features...\n",
      " \n",
      "YouHM8: 4037 cells and 61860 features...\n",
      "After filtering: 1515 cells and 61860 features...\n",
      " \n",
      "OldHM9: 9432 cells and 61860 features...\n",
      "After filtering: 5177 cells and 61860 features...\n",
      " \n",
      "YouHM10: 4778 cells and 61860 features...\n",
      "After filtering: 3750 cells and 61860 features...\n",
      " \n",
      "OldHM11: 4128 cells and 61860 features...\n",
      "After filtering: 2692 cells and 61860 features...\n",
      " \n",
      "OldHM12: 5410 cells and 61860 features...\n",
      "After filtering: 4066 cells and 61860 features...\n",
      " \n",
      "YouHM13: 3799 cells and 61860 features...\n",
      "After filtering: 3041 cells and 61860 features...\n",
      " \n",
      "OldHM15: 3427 cells and 61860 features...\n",
      "After filtering: 2033 cells and 61860 features...\n",
      " \n",
      "YouHM21: 13305 cells and 61860 features...\n",
      "After filtering: 9348 cells and 61860 features...\n",
      " \n",
      "YouHM22: 12880 cells and 61860 features...\n",
      "After filtering: 8137 cells and 61860 features...\n",
      " \n",
      "OldHM23: 17689 cells and 61860 features...\n",
      "After filtering: 11387 cells and 61860 features...\n",
      " \n",
      "2D expanded cells: 10033 cells and 61860 features...\n",
      "After filtering: 7799 cells and 61860 features...\n",
      " \n",
      "3-day differentiated myobundles: 8609 cells and 61860 features...\n",
      "After filtering: 6644 cells and 61860 features...\n",
      " \n",
      "9-day differentiated myobundles: 8447 cells and 61860 features...\n",
      "After filtering: 6673 cells and 61860 features...\n",
      " \n",
      "2 days post injury of 7-day differentiated myobundles: 6452 cells and 61860 features...\n",
      "After filtering: 5623 cells and 61860 features...\n",
      " \n",
      "5 days post injury of 7-day differentiated myobundles: 8971 cells and 61860 features...\n",
      "After filtering: 8466 cells and 61860 features...\n",
      " \n",
      "NMorganoids_D50_4: 196 cells and 61860 features...\n",
      "After filtering: 195 cells and 61860 features...\n",
      " \n",
      "SJRHB030680_X1_organoid: 8299 cells and 61860 features...\n",
      "After filtering: 8125 cells and 61860 features...\n",
      " \n",
      "BL6_Ach_1: 586 cells and 61860 features...\n",
      "After filtering: 495 cells and 61860 features...\n",
      " \n",
      "BL6_Ach_2: 251 cells and 61860 features...\n",
      "After filtering: 179 cells and 61860 features...\n",
      " \n",
      "BL6_Ach_3: 272 cells and 61860 features...\n",
      "After filtering: 233 cells and 61860 features...\n",
      " \n",
      "BL6_Ach_4: 110 cells and 61860 features...\n",
      "After filtering: 89 cells and 61860 features...\n",
      " \n",
      "9_primary_tenocyte: 3919 cells and 61860 features...\n",
      "After filtering: 2286 cells and 61860 features...\n",
      " \n",
      "SJRHB031320_D1: 4021 cells and 61860 features...\n",
      "After filtering: 3788 cells and 61860 features...\n",
      " \n",
      "SJRHB000026_R3: 156 cells and 61860 features...\n",
      "After filtering: 149 cells and 61860 features...\n",
      " \n",
      "SJRHB000026_R3: 128 cells and 61860 features...\n",
      "After filtering: 122 cells and 61860 features...\n",
      " \n",
      "SJRHB010927_D1: 107 cells and 61860 features...\n",
      "After filtering: 91 cells and 61860 features...\n",
      " \n",
      "SJRHB010928_R1: 7426 cells and 61860 features...\n",
      "After filtering: 4573 cells and 61860 features...\n",
      " \n",
      "SJRHB011_D: 140 cells and 61860 features...\n",
      "After filtering: 101 cells and 61860 features...\n",
      " \n",
      "SJRHB012_R: 128 cells and 61860 features...\n",
      "After filtering: 87 cells and 61860 features...\n",
      " \n",
      "SJRHB012_S: 8839 cells and 61860 features...\n",
      "After filtering: 7920 cells and 61860 features...\n",
      " \n",
      "SJRHB012405_D1: 109 cells and 61860 features...\n",
      "After filtering: 99 cells and 61860 features...\n",
      " \n",
      "SJRHB013758_D1: 88 cells and 61860 features...\n",
      "After filtering: 75 cells and 61860 features...\n",
      " \n",
      "SJRHB013758_D2: 152 cells and 61860 features...\n",
      "After filtering: 150 cells and 61860 features...\n",
      " \n",
      "SJRHB049189_D1: 133 cells and 61860 features...\n",
      "After filtering: 130 cells and 61860 features...\n",
      " \n",
      "SJRHB030680_R1_sn: 176 cells and 61860 features...\n",
      "After filtering: 89 cells and 61860 features...\n",
      " \n",
      "SJRHB010468_D1: 239 cells and 61860 features...\n",
      "After filtering: 115 cells and 61860 features...\n",
      " \n",
      "SJRHB013757_D2: 146 cells and 61860 features...\n",
      "After filtering: 127 cells and 61860 features...\n",
      " \n",
      "SJRHB013759_A1: 90 cells and 61860 features...\n",
      "After filtering: 78 cells and 61860 features...\n",
      " \n",
      "SJRHB013759_A2: 154 cells and 61860 features...\n",
      "After filtering: 146 cells and 61860 features...\n",
      " \n",
      "SJRHB046156_A1: 110 cells and 61860 features...\n",
      "After filtering: 106 cells and 61860 features...\n",
      " \n",
      "SJRHB031320_D1_sn: 7387 cells and 61860 features...\n",
      "After filtering: 6620 cells and 61860 features...\n",
      " \n",
      "29806 rhabdomyosarcoma primary patient sample: 11027 cells and 61860 features...\n",
      "After filtering: 10493 cells and 61860 features...\n",
      " \n",
      "21202 rhabdomyosarcoma primary patient sample: 20619 cells and 61860 features...\n",
      "After filtering: 16998 cells and 61860 features...\n",
      " \n",
      "20696 rhabdomyosarcoma primary patient sample: 4631 cells and 61860 features...\n",
      "After filtering: 3552 cells and 61860 features...\n",
      " \n",
      "20082 rhabdomyosarcoma primary patient sample: 11506 cells and 61860 features...\n",
      "After filtering: 10724 cells and 61860 features...\n",
      " \n",
      "SJRHB000026_X1: 8261 cells and 61860 features...\n",
      "After filtering: 8091 cells and 61860 features...\n",
      " \n",
      "SJRHB000026_X2: 9596 cells and 61860 features...\n",
      "After filtering: 7142 cells and 61860 features...\n",
      " \n",
      "SJRHB010927_X1: 4820 cells and 61860 features...\n",
      "After filtering: 4524 cells and 61860 features...\n",
      " \n",
      "SJRHB010928_X1: 5367 cells and 61860 features...\n",
      "After filtering: 5035 cells and 61860 features...\n",
      " \n",
      "SJRHB011_X: 5020 cells and 61860 features...\n",
      "After filtering: 4881 cells and 61860 features...\n",
      " \n",
      "SJRHB012_Y: 5258 cells and 61860 features...\n",
      "After filtering: 4944 cells and 61860 features...\n",
      " \n",
      "SJRHB012_Z: 10433 cells and 61860 features...\n",
      "After filtering: 7726 cells and 61860 features...\n",
      " \n",
      "SJRHB012405_X1: 93 cells and 61860 features...\n",
      "After filtering: 90 cells and 61860 features...\n",
      " \n",
      "SJRHB013758_X1: 6181 cells and 61860 features...\n",
      "After filtering: 6039 cells and 61860 features...\n",
      " \n",
      "SJRHB013758_X2: 174 cells and 61860 features...\n",
      "After filtering: 112 cells and 61860 features...\n",
      " \n",
      "SJRHB049189_X1: 213 cells and 61860 features...\n",
      "After filtering: 189 cells and 61860 features...\n",
      " \n",
      "SJRHB030680_X1: 131 cells and 61860 features...\n",
      "After filtering: 116 cells and 61860 features...\n",
      " \n",
      "SJRHB010468_X1: 127 cells and 61860 features...\n",
      "After filtering: 127 cells and 61860 features...\n",
      " \n",
      "SJRHB013757_X1: 134 cells and 61860 features...\n",
      "After filtering: 115 cells and 61860 features...\n",
      " \n",
      "SJRHB013759_X14: 5730 cells and 61860 features...\n",
      "After filtering: 5631 cells and 61860 features...\n",
      " \n",
      "SJRHB013759_X15: 5181 cells and 61860 features...\n",
      "After filtering: 5111 cells and 61860 features...\n",
      " \n",
      "SJRHB046156_X1: 122 cells and 61860 features...\n",
      "After filtering: 94 cells and 61860 features...\n",
      " \n",
      "SJRHB031320_X1: 88 cells and 61860 features...\n",
      "After filtering: 87 cells and 61860 features...\n",
      " \n",
      "SJRHB00026_X1_treat_day0: 96 cells and 61860 features...\n",
      "After filtering: 94 cells and 61860 features...\n",
      " \n",
      "SJRHB00026_X1_treat_day3: 872 cells and 61860 features...\n",
      "After filtering: 47 cells and 61860 features...\n",
      " \n",
      "SJRHB00026_X1_treat_day28: 595 cells and 61860 features...\n",
      "After filtering: 59 cells and 61860 features...\n",
      " \n",
      "MSK74711 PDX sample: 6227 cells and 61860 features...\n",
      "After filtering: 5082 cells and 61860 features...\n",
      " \n",
      "MSK82489 PDX sample: 6616 cells and 61860 features...\n",
      "After filtering: 3652 cells and 61860 features...\n",
      " \n",
      "MSK72117-SC PDX sample: 15235 cells and 61860 features...\n",
      "After filtering: 15102 cells and 61860 features...\n",
      " \n",
      "MSK72117 PDX sample: 10420 cells and 61860 features...\n",
      "After filtering: 10299 cells and 61860 features...\n",
      " \n",
      "MAST95 PDX sample: 7434 cells and 61860 features...\n",
      "After filtering: 6292 cells and 61860 features...\n",
      " \n",
      "MAST85-r2-SC PDX sample: 6223 cells and 61860 features...\n",
      "After filtering: 5581 cells and 61860 features...\n",
      " \n",
      "MAST85-r2 PDX sample: 16871 cells and 61860 features...\n",
      "After filtering: 14176 cells and 61860 features...\n",
      " \n",
      "MAST85-r1 PDX sample: 6076 cells and 61860 features...\n",
      "After filtering: 5078 cells and 61860 features...\n",
      " \n",
      "MAST139-SC PDX sample: 13153 cells and 61860 features...\n",
      "After filtering: 8482 cells and 61860 features...\n",
      " \n",
      "MAST39 PDX sample: 18336 cells and 61860 features...\n",
      "After filtering: 15441 cells and 61860 features...\n",
      " \n",
      "MAST139 PDX sample: 20129 cells and 61860 features...\n",
      "After filtering: 19194 cells and 61860 features...\n",
      " \n",
      "MAST118 PDX sample: 8104 cells and 61860 features...\n",
      "After filtering: 7520 cells and 61860 features...\n",
      " \n",
      "MAST111 PDX sample: 5989 cells and 61860 features...\n",
      "After filtering: 4011 cells and 61860 features...\n",
      " \n",
      "BTS_D7_1: 2678 cells and 61860 features...\n",
      "After filtering: 2065 cells and 61860 features...\n",
      " \n",
      "BTS_D7_2: 2876 cells and 61860 features...\n",
      "After filtering: 2306 cells and 61860 features...\n",
      " \n",
      "BTS_D7_3: 3537 cells and 61860 features...\n",
      "After filtering: 2866 cells and 61860 features...\n",
      " \n",
      "BTN_D7_1: 2902 cells and 61860 features...\n",
      "After filtering: 2446 cells and 61860 features...\n",
      " \n",
      "BTN_D7_2: 3802 cells and 61860 features...\n",
      "After filtering: 3158 cells and 61860 features...\n",
      " \n",
      "BTN_D7_3: 2798 cells and 61860 features...\n",
      "After filtering: 2298 cells and 61860 features...\n",
      " \n"
     ]
    }
   ],
   "source": [
    "# gene/transcript, mito filters count filters\n",
    "for i in range(0,meta.shape[0]):\n",
    "    try:\n",
    "        print(meta[\"sample\"][i] + ': ' + str(scm_list[i].shape[0]) + \" cells and \" + str(scm_list[i].shape[1]) +' features...')  \n",
    "\n",
    "        # Hard filters for feature and UMI counts\n",
    "        sc.pp.filter_cells(\n",
    "            scm_list[i],\n",
    "            min_genes=500\n",
    "        )\n",
    "        sc.pp.filter_cells(\n",
    "            scm_list[i], \n",
    "            min_counts=1000\n",
    "        )\n",
    "#         sc.pp.filter_cells(\n",
    "#             scm_list[i], \n",
    "#             max_counts=25000\n",
    "#         )\n",
    "\n",
    "        # Hard filter for sparsely detected features\n",
    "#         sc.pp.filter_genes(\n",
    "#             scm_list[i],\n",
    "#             min_cells=5\n",
    "#         ) \n",
    "\n",
    "        scm_list[i].var['mito'] = scm_list[i].var_names.str.startswith('MT-')  # annotate the group of mitochondrial genes as 'mt'\n",
    "        sc.pp.calculate_qc_metrics(\n",
    "            scm_list[i], \n",
    "            qc_vars=['mito'], \n",
    "            percent_top=None, \n",
    "            log1p=False, \n",
    "            inplace=True\n",
    "        )  \n",
    "\n",
    "        # QC filter(s)\n",
    "        scm_list[i] = scm_list[i][scm_list[i].obs.pct_counts_mito < 40, :] \n",
    "\n",
    "        print('After filtering: ' + str(scm_list[i].shape[0]) + \" cells and \" + str(scm_list[i].shape[1]) +' features...')  \n",
    "    \n",
    "    except:\n",
    "            print(\"Exception with \" + meta[\"sample\"][i])\n",
    "        \n",
    "    print(\" \")"
   ]
  },
  {
   "cell_type": "markdown",
   "id": "1e293663-931f-4c88-b496-4c86432340f1",
   "metadata": {},
   "source": [
    "Add metadata to each object"
   ]
  },
  {
   "cell_type": "markdown",
   "id": "428b8836-81e7-4884-8334-ec2003f74ab9",
   "metadata": {},
   "source": [
    "## Doublet removal via Scrublet"
   ]
  },
  {
   "cell_type": "markdown",
   "id": "9ecef4e5-21b2-4d5d-8dec-0621f8e1ac11",
   "metadata": {},
   "source": [
    "Estimate doublet scores"
   ]
  },
  {
   "cell_type": "code",
   "execution_count": null,
   "id": "5a473a94-49d1-43c1-bb10-4898c1fa1a84",
   "metadata": {},
   "outputs": [
    {
     "name": "stdout",
     "output_type": "stream",
     "text": [
      "Exception with SJRHB030680_R1\n",
      " \n"
     ]
    },
    {
     "name": "stderr",
     "output_type": "stream",
     "text": [
      "/home/dwm269/miniconda3/envs/pyRNA4/lib/python3.9/site-packages/scanpy/preprocessing/_normalization.py:170: UserWarning: Received a view of an AnnData. Making a copy.\n",
      "  view_to_actual(adata)\n",
      "Trying to set attribute `.obs` of view, copying.\n"
     ]
    },
    {
     "name": "stdout",
     "output_type": "stream",
     "text": [
      "Automatically set threshold at doublet score = 0.48\n",
      "Detected doublet rate = 0.1%\n",
      "Estimated detectable doublet fraction = 0.7%\n",
      "Overall doublet rate:\n",
      "\tExpected   = 5.0%\n",
      "\tEstimated  = 9.1%\n"
     ]
    },
    {
     "name": "stderr",
     "output_type": "stream",
     "text": [
      "/home/dwm269/miniconda3/envs/pyRNA4/lib/python3.9/site-packages/scanpy/plotting/_utils.py:314: UserWarning: Matplotlib is currently using agg, which is a non-GUI backend, so cannot show the figure.\n",
      "  pl.show()\n"
     ]
    },
    {
     "name": "stdout",
     "output_type": "stream",
     "text": [
      " \n"
     ]
    },
    {
     "name": "stderr",
     "output_type": "stream",
     "text": [
      "/home/dwm269/miniconda3/envs/pyRNA4/lib/python3.9/site-packages/scanpy/preprocessing/_normalization.py:170: UserWarning: Received a view of an AnnData. Making a copy.\n",
      "  view_to_actual(adata)\n",
      "Trying to set attribute `.obs` of view, copying.\n"
     ]
    },
    {
     "name": "stdout",
     "output_type": "stream",
     "text": [
      "Automatically set threshold at doublet score = 0.41\n",
      "Detected doublet rate = 0.1%\n",
      "Estimated detectable doublet fraction = 2.0%\n",
      "Overall doublet rate:\n",
      "\tExpected   = 5.0%\n",
      "\tEstimated  = 2.7%\n"
     ]
    },
    {
     "name": "stderr",
     "output_type": "stream",
     "text": [
      "/home/dwm269/miniconda3/envs/pyRNA4/lib/python3.9/site-packages/scanpy/plotting/_utils.py:314: UserWarning: Matplotlib is currently using agg, which is a non-GUI backend, so cannot show the figure.\n",
      "  pl.show()\n"
     ]
    },
    {
     "name": "stdout",
     "output_type": "stream",
     "text": [
      " \n"
     ]
    },
    {
     "name": "stderr",
     "output_type": "stream",
     "text": [
      "/home/dwm269/miniconda3/envs/pyRNA4/lib/python3.9/site-packages/scanpy/preprocessing/_normalization.py:170: UserWarning: Received a view of an AnnData. Making a copy.\n",
      "  view_to_actual(adata)\n",
      "Trying to set attribute `.obs` of view, copying.\n"
     ]
    },
    {
     "name": "stdout",
     "output_type": "stream",
     "text": [
      "Automatically set threshold at doublet score = 0.44\n",
      "Detected doublet rate = 0.1%\n",
      "Estimated detectable doublet fraction = 3.3%\n",
      "Overall doublet rate:\n",
      "\tExpected   = 5.0%\n",
      "\tEstimated  = 2.7%\n"
     ]
    },
    {
     "name": "stderr",
     "output_type": "stream",
     "text": [
      "/home/dwm269/miniconda3/envs/pyRNA4/lib/python3.9/site-packages/scanpy/plotting/_utils.py:314: UserWarning: Matplotlib is currently using agg, which is a non-GUI backend, so cannot show the figure.\n",
      "  pl.show()\n"
     ]
    },
    {
     "name": "stdout",
     "output_type": "stream",
     "text": [
      " \n"
     ]
    },
    {
     "name": "stderr",
     "output_type": "stream",
     "text": [
      "/home/dwm269/miniconda3/envs/pyRNA4/lib/python3.9/site-packages/scanpy/preprocessing/_normalization.py:170: UserWarning: Received a view of an AnnData. Making a copy.\n",
      "  view_to_actual(adata)\n",
      "Trying to set attribute `.obs` of view, copying.\n"
     ]
    },
    {
     "name": "stdout",
     "output_type": "stream",
     "text": [
      "Automatically set threshold at doublet score = 0.42\n",
      "Detected doublet rate = 0.2%\n",
      "Estimated detectable doublet fraction = 1.4%\n",
      "Overall doublet rate:\n",
      "\tExpected   = 5.0%\n",
      "\tEstimated  = 11.5%\n"
     ]
    },
    {
     "name": "stderr",
     "output_type": "stream",
     "text": [
      "/home/dwm269/miniconda3/envs/pyRNA4/lib/python3.9/site-packages/scanpy/plotting/_utils.py:314: UserWarning: Matplotlib is currently using agg, which is a non-GUI backend, so cannot show the figure.\n",
      "  pl.show()\n"
     ]
    },
    {
     "name": "stdout",
     "output_type": "stream",
     "text": [
      " \n"
     ]
    },
    {
     "name": "stderr",
     "output_type": "stream",
     "text": [
      "/home/dwm269/miniconda3/envs/pyRNA4/lib/python3.9/site-packages/scanpy/preprocessing/_normalization.py:170: UserWarning: Received a view of an AnnData. Making a copy.\n",
      "  view_to_actual(adata)\n",
      "Trying to set attribute `.obs` of view, copying.\n"
     ]
    },
    {
     "name": "stdout",
     "output_type": "stream",
     "text": [
      "Automatically set threshold at doublet score = 0.42\n",
      "Detected doublet rate = 0.2%\n",
      "Estimated detectable doublet fraction = 6.6%\n",
      "Overall doublet rate:\n",
      "\tExpected   = 5.0%\n",
      "\tEstimated  = 3.1%\n"
     ]
    },
    {
     "name": "stderr",
     "output_type": "stream",
     "text": [
      "/home/dwm269/miniconda3/envs/pyRNA4/lib/python3.9/site-packages/scanpy/plotting/_utils.py:314: UserWarning: Matplotlib is currently using agg, which is a non-GUI backend, so cannot show the figure.\n",
      "  pl.show()\n"
     ]
    },
    {
     "name": "stdout",
     "output_type": "stream",
     "text": [
      " \n"
     ]
    },
    {
     "name": "stderr",
     "output_type": "stream",
     "text": [
      "/home/dwm269/miniconda3/envs/pyRNA4/lib/python3.9/site-packages/scanpy/preprocessing/_normalization.py:170: UserWarning: Received a view of an AnnData. Making a copy.\n",
      "  view_to_actual(adata)\n",
      "Trying to set attribute `.obs` of view, copying.\n"
     ]
    },
    {
     "name": "stdout",
     "output_type": "stream",
     "text": [
      "Automatically set threshold at doublet score = 0.45\n",
      "Detected doublet rate = 0.1%\n",
      "Estimated detectable doublet fraction = 2.1%\n",
      "Overall doublet rate:\n",
      "\tExpected   = 5.0%\n",
      "\tEstimated  = 5.8%\n"
     ]
    },
    {
     "name": "stderr",
     "output_type": "stream",
     "text": [
      "/home/dwm269/miniconda3/envs/pyRNA4/lib/python3.9/site-packages/scanpy/plotting/_utils.py:314: UserWarning: Matplotlib is currently using agg, which is a non-GUI backend, so cannot show the figure.\n",
      "  pl.show()\n"
     ]
    },
    {
     "name": "stdout",
     "output_type": "stream",
     "text": [
      " \n"
     ]
    },
    {
     "name": "stderr",
     "output_type": "stream",
     "text": [
      "/home/dwm269/miniconda3/envs/pyRNA4/lib/python3.9/site-packages/scanpy/preprocessing/_normalization.py:170: UserWarning: Received a view of an AnnData. Making a copy.\n",
      "  view_to_actual(adata)\n",
      "Trying to set attribute `.obs` of view, copying.\n"
     ]
    },
    {
     "name": "stdout",
     "output_type": "stream",
     "text": [
      "Automatically set threshold at doublet score = 0.45\n",
      "Detected doublet rate = 0.3%\n",
      "Estimated detectable doublet fraction = 2.6%\n",
      "Overall doublet rate:\n",
      "\tExpected   = 5.0%\n",
      "\tEstimated  = 10.3%\n"
     ]
    },
    {
     "name": "stderr",
     "output_type": "stream",
     "text": [
      "/home/dwm269/miniconda3/envs/pyRNA4/lib/python3.9/site-packages/scanpy/plotting/_utils.py:314: UserWarning: Matplotlib is currently using agg, which is a non-GUI backend, so cannot show the figure.\n",
      "  pl.show()\n"
     ]
    },
    {
     "name": "stdout",
     "output_type": "stream",
     "text": [
      " \n"
     ]
    },
    {
     "name": "stderr",
     "output_type": "stream",
     "text": [
      "/home/dwm269/miniconda3/envs/pyRNA4/lib/python3.9/site-packages/scanpy/preprocessing/_normalization.py:170: UserWarning: Received a view of an AnnData. Making a copy.\n",
      "  view_to_actual(adata)\n",
      "Trying to set attribute `.obs` of view, copying.\n"
     ]
    },
    {
     "name": "stdout",
     "output_type": "stream",
     "text": [
      "Automatically set threshold at doublet score = 0.45\n",
      "Detected doublet rate = 0.2%\n",
      "Estimated detectable doublet fraction = 2.4%\n",
      "Overall doublet rate:\n",
      "\tExpected   = 5.0%\n",
      "\tEstimated  = 6.7%\n"
     ]
    },
    {
     "name": "stderr",
     "output_type": "stream",
     "text": [
      "/home/dwm269/miniconda3/envs/pyRNA4/lib/python3.9/site-packages/scanpy/plotting/_utils.py:314: UserWarning: Matplotlib is currently using agg, which is a non-GUI backend, so cannot show the figure.\n",
      "  pl.show()\n"
     ]
    },
    {
     "name": "stdout",
     "output_type": "stream",
     "text": [
      " \n"
     ]
    },
    {
     "name": "stderr",
     "output_type": "stream",
     "text": [
      "/home/dwm269/miniconda3/envs/pyRNA4/lib/python3.9/site-packages/scanpy/preprocessing/_normalization.py:170: UserWarning: Received a view of an AnnData. Making a copy.\n",
      "  view_to_actual(adata)\n",
      "Trying to set attribute `.obs` of view, copying.\n"
     ]
    },
    {
     "name": "stdout",
     "output_type": "stream",
     "text": [
      "Automatically set threshold at doublet score = 0.55\n",
      "Detected doublet rate = 0.1%\n",
      "Estimated detectable doublet fraction = 0.6%\n",
      "Overall doublet rate:\n",
      "\tExpected   = 5.0%\n",
      "\tEstimated  = 9.4%\n"
     ]
    },
    {
     "name": "stderr",
     "output_type": "stream",
     "text": [
      "/home/dwm269/miniconda3/envs/pyRNA4/lib/python3.9/site-packages/scanpy/plotting/_utils.py:314: UserWarning: Matplotlib is currently using agg, which is a non-GUI backend, so cannot show the figure.\n",
      "  pl.show()\n"
     ]
    },
    {
     "name": "stdout",
     "output_type": "stream",
     "text": [
      " \n"
     ]
    },
    {
     "name": "stderr",
     "output_type": "stream",
     "text": [
      "/home/dwm269/miniconda3/envs/pyRNA4/lib/python3.9/site-packages/scanpy/preprocessing/_normalization.py:170: UserWarning: Received a view of an AnnData. Making a copy.\n",
      "  view_to_actual(adata)\n",
      "Trying to set attribute `.obs` of view, copying.\n"
     ]
    },
    {
     "name": "stdout",
     "output_type": "stream",
     "text": [
      "Automatically set threshold at doublet score = 0.55\n",
      "Detected doublet rate = 0.1%\n",
      "Estimated detectable doublet fraction = 0.9%\n",
      "Overall doublet rate:\n",
      "\tExpected   = 5.0%\n",
      "\tEstimated  = 8.9%\n"
     ]
    },
    {
     "name": "stderr",
     "output_type": "stream",
     "text": [
      "/home/dwm269/miniconda3/envs/pyRNA4/lib/python3.9/site-packages/scanpy/plotting/_utils.py:314: UserWarning: Matplotlib is currently using agg, which is a non-GUI backend, so cannot show the figure.\n",
      "  pl.show()\n"
     ]
    },
    {
     "name": "stdout",
     "output_type": "stream",
     "text": [
      " \n"
     ]
    },
    {
     "name": "stderr",
     "output_type": "stream",
     "text": [
      "/home/dwm269/miniconda3/envs/pyRNA4/lib/python3.9/site-packages/scanpy/preprocessing/_normalization.py:170: UserWarning: Received a view of an AnnData. Making a copy.\n",
      "  view_to_actual(adata)\n",
      "Trying to set attribute `.obs` of view, copying.\n"
     ]
    },
    {
     "name": "stdout",
     "output_type": "stream",
     "text": [
      "Automatically set threshold at doublet score = 0.56\n",
      "Detected doublet rate = 0.0%\n",
      "Estimated detectable doublet fraction = 1.0%\n",
      "Overall doublet rate:\n",
      "\tExpected   = 5.0%\n",
      "\tEstimated  = 3.3%\n"
     ]
    },
    {
     "name": "stderr",
     "output_type": "stream",
     "text": [
      "/home/dwm269/miniconda3/envs/pyRNA4/lib/python3.9/site-packages/scanpy/plotting/_utils.py:314: UserWarning: Matplotlib is currently using agg, which is a non-GUI backend, so cannot show the figure.\n",
      "  pl.show()\n"
     ]
    },
    {
     "name": "stdout",
     "output_type": "stream",
     "text": [
      " \n"
     ]
    },
    {
     "name": "stderr",
     "output_type": "stream",
     "text": [
      "/home/dwm269/miniconda3/envs/pyRNA4/lib/python3.9/site-packages/scanpy/preprocessing/_normalization.py:170: UserWarning: Received a view of an AnnData. Making a copy.\n",
      "  view_to_actual(adata)\n",
      "Trying to set attribute `.obs` of view, copying.\n"
     ]
    },
    {
     "name": "stdout",
     "output_type": "stream",
     "text": [
      "Automatically set threshold at doublet score = 0.63\n",
      "Detected doublet rate = 0.0%\n",
      "Estimated detectable doublet fraction = 0.1%\n",
      "Overall doublet rate:\n",
      "\tExpected   = 5.0%\n",
      "\tEstimated  = 20.0%\n"
     ]
    },
    {
     "name": "stderr",
     "output_type": "stream",
     "text": [
      "/home/dwm269/miniconda3/envs/pyRNA4/lib/python3.9/site-packages/scanpy/plotting/_utils.py:314: UserWarning: Matplotlib is currently using agg, which is a non-GUI backend, so cannot show the figure.\n",
      "  pl.show()\n"
     ]
    },
    {
     "name": "stdout",
     "output_type": "stream",
     "text": [
      " \n"
     ]
    },
    {
     "name": "stderr",
     "output_type": "stream",
     "text": [
      "/home/dwm269/miniconda3/envs/pyRNA4/lib/python3.9/site-packages/scanpy/preprocessing/_normalization.py:170: UserWarning: Received a view of an AnnData. Making a copy.\n",
      "  view_to_actual(adata)\n",
      "Trying to set attribute `.obs` of view, copying.\n"
     ]
    },
    {
     "name": "stdout",
     "output_type": "stream",
     "text": [
      "Automatically set threshold at doublet score = 0.41\n",
      "Detected doublet rate = 0.7%\n",
      "Estimated detectable doublet fraction = 10.3%\n",
      "Overall doublet rate:\n",
      "\tExpected   = 5.0%\n",
      "\tEstimated  = 6.9%\n"
     ]
    },
    {
     "name": "stderr",
     "output_type": "stream",
     "text": [
      "/home/dwm269/miniconda3/envs/pyRNA4/lib/python3.9/site-packages/scanpy/plotting/_utils.py:314: UserWarning: Matplotlib is currently using agg, which is a non-GUI backend, so cannot show the figure.\n",
      "  pl.show()\n"
     ]
    },
    {
     "name": "stdout",
     "output_type": "stream",
     "text": [
      " \n"
     ]
    },
    {
     "name": "stderr",
     "output_type": "stream",
     "text": [
      "/home/dwm269/miniconda3/envs/pyRNA4/lib/python3.9/site-packages/scanpy/preprocessing/_normalization.py:170: UserWarning: Received a view of an AnnData. Making a copy.\n",
      "  view_to_actual(adata)\n",
      "Trying to set attribute `.obs` of view, copying.\n"
     ]
    },
    {
     "name": "stdout",
     "output_type": "stream",
     "text": [
      "Automatically set threshold at doublet score = 0.29\n",
      "Detected doublet rate = 0.6%\n",
      "Estimated detectable doublet fraction = 27.1%\n",
      "Overall doublet rate:\n",
      "\tExpected   = 5.0%\n",
      "\tEstimated  = 2.0%\n"
     ]
    },
    {
     "name": "stderr",
     "output_type": "stream",
     "text": [
      "/home/dwm269/miniconda3/envs/pyRNA4/lib/python3.9/site-packages/scanpy/plotting/_utils.py:314: UserWarning: Matplotlib is currently using agg, which is a non-GUI backend, so cannot show the figure.\n",
      "  pl.show()\n"
     ]
    },
    {
     "name": "stdout",
     "output_type": "stream",
     "text": [
      " \n"
     ]
    },
    {
     "name": "stderr",
     "output_type": "stream",
     "text": [
      "/home/dwm269/miniconda3/envs/pyRNA4/lib/python3.9/site-packages/scanpy/preprocessing/_normalization.py:170: UserWarning: Received a view of an AnnData. Making a copy.\n",
      "  view_to_actual(adata)\n",
      "Trying to set attribute `.obs` of view, copying.\n"
     ]
    },
    {
     "name": "stdout",
     "output_type": "stream",
     "text": [
      "Automatically set threshold at doublet score = 0.36\n",
      "Detected doublet rate = 0.4%\n",
      "Estimated detectable doublet fraction = 10.8%\n",
      "Overall doublet rate:\n",
      "\tExpected   = 5.0%\n",
      "\tEstimated  = 3.9%\n"
     ]
    },
    {
     "name": "stderr",
     "output_type": "stream",
     "text": [
      "/home/dwm269/miniconda3/envs/pyRNA4/lib/python3.9/site-packages/scanpy/plotting/_utils.py:314: UserWarning: Matplotlib is currently using agg, which is a non-GUI backend, so cannot show the figure.\n",
      "  pl.show()\n"
     ]
    },
    {
     "name": "stdout",
     "output_type": "stream",
     "text": [
      " \n"
     ]
    },
    {
     "name": "stderr",
     "output_type": "stream",
     "text": [
      "/home/dwm269/miniconda3/envs/pyRNA4/lib/python3.9/site-packages/scanpy/preprocessing/_normalization.py:170: UserWarning: Received a view of an AnnData. Making a copy.\n",
      "  view_to_actual(adata)\n",
      "Trying to set attribute `.obs` of view, copying.\n"
     ]
    },
    {
     "name": "stdout",
     "output_type": "stream",
     "text": [
      "Automatically set threshold at doublet score = 0.20\n",
      "Detected doublet rate = 1.2%\n",
      "Estimated detectable doublet fraction = 26.9%\n",
      "Overall doublet rate:\n",
      "\tExpected   = 5.0%\n",
      "\tEstimated  = 4.4%\n"
     ]
    },
    {
     "name": "stderr",
     "output_type": "stream",
     "text": [
      "/home/dwm269/miniconda3/envs/pyRNA4/lib/python3.9/site-packages/scanpy/plotting/_utils.py:314: UserWarning: Matplotlib is currently using agg, which is a non-GUI backend, so cannot show the figure.\n",
      "  pl.show()\n"
     ]
    },
    {
     "name": "stdout",
     "output_type": "stream",
     "text": [
      " \n"
     ]
    },
    {
     "name": "stderr",
     "output_type": "stream",
     "text": [
      "/home/dwm269/miniconda3/envs/pyRNA4/lib/python3.9/site-packages/scanpy/preprocessing/_normalization.py:170: UserWarning: Received a view of an AnnData. Making a copy.\n",
      "  view_to_actual(adata)\n",
      "Trying to set attribute `.obs` of view, copying.\n"
     ]
    },
    {
     "name": "stdout",
     "output_type": "stream",
     "text": [
      "Automatically set threshold at doublet score = 0.32\n",
      "Detected doublet rate = 0.0%\n",
      "Estimated detectable doublet fraction = 7.7%\n",
      "Overall doublet rate:\n",
      "\tExpected   = 5.0%\n",
      "\tEstimated  = 0.0%\n"
     ]
    },
    {
     "name": "stderr",
     "output_type": "stream",
     "text": [
      "/home/dwm269/miniconda3/envs/pyRNA4/lib/python3.9/site-packages/scanpy/plotting/_utils.py:314: UserWarning: Matplotlib is currently using agg, which is a non-GUI backend, so cannot show the figure.\n",
      "  pl.show()\n"
     ]
    },
    {
     "name": "stdout",
     "output_type": "stream",
     "text": [
      " \n"
     ]
    },
    {
     "name": "stderr",
     "output_type": "stream",
     "text": [
      "/home/dwm269/miniconda3/envs/pyRNA4/lib/python3.9/site-packages/scanpy/preprocessing/_normalization.py:170: UserWarning: Received a view of an AnnData. Making a copy.\n",
      "  view_to_actual(adata)\n",
      "Trying to set attribute `.obs` of view, copying.\n"
     ]
    },
    {
     "name": "stdout",
     "output_type": "stream",
     "text": [
      "Automatically set threshold at doublet score = 0.29\n",
      "Detected doublet rate = 1.5%\n",
      "Estimated detectable doublet fraction = 31.8%\n",
      "Overall doublet rate:\n",
      "\tExpected   = 5.0%\n",
      "\tEstimated  = 4.7%\n"
     ]
    },
    {
     "name": "stderr",
     "output_type": "stream",
     "text": [
      "/home/dwm269/miniconda3/envs/pyRNA4/lib/python3.9/site-packages/scanpy/plotting/_utils.py:314: UserWarning: Matplotlib is currently using agg, which is a non-GUI backend, so cannot show the figure.\n",
      "  pl.show()\n"
     ]
    },
    {
     "name": "stdout",
     "output_type": "stream",
     "text": [
      " \n"
     ]
    },
    {
     "name": "stderr",
     "output_type": "stream",
     "text": [
      "/home/dwm269/miniconda3/envs/pyRNA4/lib/python3.9/site-packages/scanpy/preprocessing/_normalization.py:170: UserWarning: Received a view of an AnnData. Making a copy.\n",
      "  view_to_actual(adata)\n",
      "Trying to set attribute `.obs` of view, copying.\n"
     ]
    },
    {
     "name": "stdout",
     "output_type": "stream",
     "text": [
      "Automatically set threshold at doublet score = 0.43\n",
      "Detected doublet rate = 0.3%\n",
      "Estimated detectable doublet fraction = 25.3%\n",
      "Overall doublet rate:\n",
      "\tExpected   = 5.0%\n",
      "\tEstimated  = 1.2%\n"
     ]
    },
    {
     "name": "stderr",
     "output_type": "stream",
     "text": [
      "/home/dwm269/miniconda3/envs/pyRNA4/lib/python3.9/site-packages/scanpy/plotting/_utils.py:314: UserWarning: Matplotlib is currently using agg, which is a non-GUI backend, so cannot show the figure.\n",
      "  pl.show()\n"
     ]
    },
    {
     "name": "stdout",
     "output_type": "stream",
     "text": [
      " \n"
     ]
    },
    {
     "name": "stderr",
     "output_type": "stream",
     "text": [
      "/home/dwm269/miniconda3/envs/pyRNA4/lib/python3.9/site-packages/scanpy/preprocessing/_normalization.py:170: UserWarning: Received a view of an AnnData. Making a copy.\n",
      "  view_to_actual(adata)\n",
      "Trying to set attribute `.obs` of view, copying.\n"
     ]
    },
    {
     "name": "stdout",
     "output_type": "stream",
     "text": [
      "Automatically set threshold at doublet score = 0.53\n",
      "Detected doublet rate = 0.6%\n",
      "Estimated detectable doublet fraction = 9.0%\n",
      "Overall doublet rate:\n",
      "\tExpected   = 5.0%\n",
      "\tEstimated  = 6.2%\n"
     ]
    },
    {
     "name": "stderr",
     "output_type": "stream",
     "text": [
      "/home/dwm269/miniconda3/envs/pyRNA4/lib/python3.9/site-packages/scanpy/plotting/_utils.py:314: UserWarning: Matplotlib is currently using agg, which is a non-GUI backend, so cannot show the figure.\n",
      "  pl.show()\n"
     ]
    },
    {
     "name": "stdout",
     "output_type": "stream",
     "text": [
      " \n"
     ]
    },
    {
     "name": "stderr",
     "output_type": "stream",
     "text": [
      "/home/dwm269/miniconda3/envs/pyRNA4/lib/python3.9/site-packages/scanpy/preprocessing/_normalization.py:170: UserWarning: Received a view of an AnnData. Making a copy.\n",
      "  view_to_actual(adata)\n",
      "Trying to set attribute `.obs` of view, copying.\n"
     ]
    },
    {
     "name": "stdout",
     "output_type": "stream",
     "text": [
      "Automatically set threshold at doublet score = 0.20\n",
      "Detected doublet rate = 4.4%\n",
      "Estimated detectable doublet fraction = 51.2%\n",
      "Overall doublet rate:\n",
      "\tExpected   = 5.0%\n",
      "\tEstimated  = 8.6%\n"
     ]
    },
    {
     "name": "stderr",
     "output_type": "stream",
     "text": [
      "/home/dwm269/miniconda3/envs/pyRNA4/lib/python3.9/site-packages/scanpy/plotting/_utils.py:314: UserWarning: Matplotlib is currently using agg, which is a non-GUI backend, so cannot show the figure.\n",
      "  pl.show()\n"
     ]
    },
    {
     "name": "stdout",
     "output_type": "stream",
     "text": [
      " \n"
     ]
    },
    {
     "name": "stderr",
     "output_type": "stream",
     "text": [
      "/home/dwm269/miniconda3/envs/pyRNA4/lib/python3.9/site-packages/scanpy/preprocessing/_normalization.py:170: UserWarning: Received a view of an AnnData. Making a copy.\n",
      "  view_to_actual(adata)\n",
      "Trying to set attribute `.obs` of view, copying.\n"
     ]
    },
    {
     "name": "stdout",
     "output_type": "stream",
     "text": [
      "Automatically set threshold at doublet score = 0.21\n",
      "Detected doublet rate = 3.4%\n",
      "Estimated detectable doublet fraction = 52.5%\n",
      "Overall doublet rate:\n",
      "\tExpected   = 5.0%\n",
      "\tEstimated  = 6.5%\n"
     ]
    },
    {
     "name": "stderr",
     "output_type": "stream",
     "text": [
      "/home/dwm269/miniconda3/envs/pyRNA4/lib/python3.9/site-packages/scanpy/plotting/_utils.py:314: UserWarning: Matplotlib is currently using agg, which is a non-GUI backend, so cannot show the figure.\n",
      "  pl.show()\n"
     ]
    },
    {
     "name": "stdout",
     "output_type": "stream",
     "text": [
      " \n"
     ]
    },
    {
     "name": "stderr",
     "output_type": "stream",
     "text": [
      "/home/dwm269/miniconda3/envs/pyRNA4/lib/python3.9/site-packages/scanpy/preprocessing/_normalization.py:170: UserWarning: Received a view of an AnnData. Making a copy.\n",
      "  view_to_actual(adata)\n",
      "Trying to set attribute `.obs` of view, copying.\n"
     ]
    },
    {
     "name": "stdout",
     "output_type": "stream",
     "text": [
      "Automatically set threshold at doublet score = 0.50\n",
      "Detected doublet rate = 0.3%\n",
      "Estimated detectable doublet fraction = 3.4%\n",
      "Overall doublet rate:\n",
      "\tExpected   = 5.0%\n",
      "\tEstimated  = 9.8%\n"
     ]
    },
    {
     "name": "stderr",
     "output_type": "stream",
     "text": [
      "/home/dwm269/miniconda3/envs/pyRNA4/lib/python3.9/site-packages/scanpy/plotting/_utils.py:314: UserWarning: Matplotlib is currently using agg, which is a non-GUI backend, so cannot show the figure.\n",
      "  pl.show()\n"
     ]
    },
    {
     "name": "stdout",
     "output_type": "stream",
     "text": [
      " \n"
     ]
    },
    {
     "name": "stderr",
     "output_type": "stream",
     "text": [
      "/home/dwm269/miniconda3/envs/pyRNA4/lib/python3.9/site-packages/scanpy/preprocessing/_normalization.py:170: UserWarning: Received a view of an AnnData. Making a copy.\n",
      "  view_to_actual(adata)\n",
      "Trying to set attribute `.obs` of view, copying.\n"
     ]
    },
    {
     "name": "stdout",
     "output_type": "stream",
     "text": [
      "Automatically set threshold at doublet score = 0.54\n",
      "Detected doublet rate = 0.0%\n",
      "Estimated detectable doublet fraction = 0.4%\n",
      "Overall doublet rate:\n",
      "\tExpected   = 5.0%\n",
      "\tEstimated  = 9.1%\n"
     ]
    },
    {
     "name": "stderr",
     "output_type": "stream",
     "text": [
      "/home/dwm269/miniconda3/envs/pyRNA4/lib/python3.9/site-packages/scanpy/plotting/_utils.py:314: UserWarning: Matplotlib is currently using agg, which is a non-GUI backend, so cannot show the figure.\n",
      "  pl.show()\n"
     ]
    },
    {
     "name": "stdout",
     "output_type": "stream",
     "text": [
      " \n"
     ]
    },
    {
     "name": "stderr",
     "output_type": "stream",
     "text": [
      "/home/dwm269/miniconda3/envs/pyRNA4/lib/python3.9/site-packages/scanpy/preprocessing/_normalization.py:170: UserWarning: Received a view of an AnnData. Making a copy.\n",
      "  view_to_actual(adata)\n",
      "Trying to set attribute `.obs` of view, copying.\n"
     ]
    },
    {
     "name": "stdout",
     "output_type": "stream",
     "text": [
      "Automatically set threshold at doublet score = 0.48\n",
      "Detected doublet rate = 0.0%\n",
      "Estimated detectable doublet fraction = 0.3%\n",
      "Overall doublet rate:\n",
      "\tExpected   = 5.0%\n",
      "\tEstimated  = 12.5%\n"
     ]
    },
    {
     "name": "stderr",
     "output_type": "stream",
     "text": [
      "/home/dwm269/miniconda3/envs/pyRNA4/lib/python3.9/site-packages/scanpy/plotting/_utils.py:314: UserWarning: Matplotlib is currently using agg, which is a non-GUI backend, so cannot show the figure.\n",
      "  pl.show()\n"
     ]
    },
    {
     "name": "stdout",
     "output_type": "stream",
     "text": [
      " \n"
     ]
    },
    {
     "name": "stderr",
     "output_type": "stream",
     "text": [
      "/home/dwm269/miniconda3/envs/pyRNA4/lib/python3.9/site-packages/scanpy/preprocessing/_normalization.py:170: UserWarning: Received a view of an AnnData. Making a copy.\n",
      "  view_to_actual(adata)\n",
      "Trying to set attribute `.obs` of view, copying.\n"
     ]
    },
    {
     "name": "stdout",
     "output_type": "stream",
     "text": [
      "Automatically set threshold at doublet score = 0.40\n",
      "Detected doublet rate = 0.4%\n",
      "Estimated detectable doublet fraction = 1.7%\n",
      "Overall doublet rate:\n",
      "\tExpected   = 5.0%\n",
      "\tEstimated  = 26.4%\n"
     ]
    },
    {
     "name": "stderr",
     "output_type": "stream",
     "text": [
      "/home/dwm269/miniconda3/envs/pyRNA4/lib/python3.9/site-packages/scanpy/plotting/_utils.py:314: UserWarning: Matplotlib is currently using agg, which is a non-GUI backend, so cannot show the figure.\n",
      "  pl.show()\n"
     ]
    },
    {
     "name": "stdout",
     "output_type": "stream",
     "text": [
      " \n"
     ]
    },
    {
     "name": "stderr",
     "output_type": "stream",
     "text": [
      "/home/dwm269/miniconda3/envs/pyRNA4/lib/python3.9/site-packages/scanpy/preprocessing/_normalization.py:170: UserWarning: Received a view of an AnnData. Making a copy.\n",
      "  view_to_actual(adata)\n",
      "Trying to set attribute `.obs` of view, copying.\n"
     ]
    },
    {
     "name": "stdout",
     "output_type": "stream",
     "text": [
      "Automatically set threshold at doublet score = 0.49\n",
      "Detected doublet rate = 0.2%\n",
      "Estimated detectable doublet fraction = 2.2%\n",
      "Overall doublet rate:\n",
      "\tExpected   = 5.0%\n",
      "\tEstimated  = 11.4%\n"
     ]
    },
    {
     "name": "stderr",
     "output_type": "stream",
     "text": [
      "/home/dwm269/miniconda3/envs/pyRNA4/lib/python3.9/site-packages/scanpy/plotting/_utils.py:314: UserWarning: Matplotlib is currently using agg, which is a non-GUI backend, so cannot show the figure.\n",
      "  pl.show()\n"
     ]
    },
    {
     "name": "stdout",
     "output_type": "stream",
     "text": [
      " \n"
     ]
    },
    {
     "name": "stderr",
     "output_type": "stream",
     "text": [
      "/home/dwm269/miniconda3/envs/pyRNA4/lib/python3.9/site-packages/scanpy/preprocessing/_normalization.py:170: UserWarning: Received a view of an AnnData. Making a copy.\n",
      "  view_to_actual(adata)\n",
      "Trying to set attribute `.obs` of view, copying.\n"
     ]
    },
    {
     "name": "stdout",
     "output_type": "stream",
     "text": [
      "Automatically set threshold at doublet score = 0.46\n",
      "Detected doublet rate = 0.1%\n",
      "Estimated detectable doublet fraction = 1.6%\n",
      "Overall doublet rate:\n",
      "\tExpected   = 5.0%\n",
      "\tEstimated  = 4.7%\n"
     ]
    },
    {
     "name": "stderr",
     "output_type": "stream",
     "text": [
      "/home/dwm269/miniconda3/envs/pyRNA4/lib/python3.9/site-packages/scanpy/plotting/_utils.py:314: UserWarning: Matplotlib is currently using agg, which is a non-GUI backend, so cannot show the figure.\n",
      "  pl.show()\n"
     ]
    },
    {
     "name": "stdout",
     "output_type": "stream",
     "text": [
      " \n"
     ]
    },
    {
     "name": "stderr",
     "output_type": "stream",
     "text": [
      "/home/dwm269/miniconda3/envs/pyRNA4/lib/python3.9/site-packages/scanpy/preprocessing/_normalization.py:170: UserWarning: Received a view of an AnnData. Making a copy.\n",
      "  view_to_actual(adata)\n",
      "Trying to set attribute `.obs` of view, copying.\n"
     ]
    },
    {
     "name": "stdout",
     "output_type": "stream",
     "text": [
      "Automatically set threshold at doublet score = 0.39\n",
      "Detected doublet rate = 0.1%\n",
      "Estimated detectable doublet fraction = 0.4%\n",
      "Overall doublet rate:\n",
      "\tExpected   = 5.0%\n",
      "\tEstimated  = 33.3%\n"
     ]
    },
    {
     "name": "stderr",
     "output_type": "stream",
     "text": [
      "/home/dwm269/miniconda3/envs/pyRNA4/lib/python3.9/site-packages/scanpy/plotting/_utils.py:314: UserWarning: Matplotlib is currently using agg, which is a non-GUI backend, so cannot show the figure.\n",
      "  pl.show()\n"
     ]
    },
    {
     "name": "stdout",
     "output_type": "stream",
     "text": [
      " \n"
     ]
    },
    {
     "name": "stderr",
     "output_type": "stream",
     "text": [
      "/home/dwm269/miniconda3/envs/pyRNA4/lib/python3.9/site-packages/scanpy/preprocessing/_normalization.py:170: UserWarning: Received a view of an AnnData. Making a copy.\n",
      "  view_to_actual(adata)\n",
      "Trying to set attribute `.obs` of view, copying.\n"
     ]
    },
    {
     "name": "stdout",
     "output_type": "stream",
     "text": [
      "Automatically set threshold at doublet score = 0.39\n",
      "Detected doublet rate = 0.5%\n",
      "Estimated detectable doublet fraction = 3.5%\n",
      "Overall doublet rate:\n",
      "\tExpected   = 5.0%\n",
      "\tEstimated  = 13.2%\n"
     ]
    },
    {
     "name": "stderr",
     "output_type": "stream",
     "text": [
      "/home/dwm269/miniconda3/envs/pyRNA4/lib/python3.9/site-packages/scanpy/plotting/_utils.py:314: UserWarning: Matplotlib is currently using agg, which is a non-GUI backend, so cannot show the figure.\n",
      "  pl.show()\n"
     ]
    },
    {
     "name": "stdout",
     "output_type": "stream",
     "text": [
      " \n"
     ]
    },
    {
     "name": "stderr",
     "output_type": "stream",
     "text": [
      "/home/dwm269/miniconda3/envs/pyRNA4/lib/python3.9/site-packages/scanpy/preprocessing/_normalization.py:170: UserWarning: Received a view of an AnnData. Making a copy.\n",
      "  view_to_actual(adata)\n",
      "Trying to set attribute `.obs` of view, copying.\n"
     ]
    },
    {
     "name": "stdout",
     "output_type": "stream",
     "text": [
      "Automatically set threshold at doublet score = 0.55\n",
      "Detected doublet rate = 0.1%\n",
      "Estimated detectable doublet fraction = 1.2%\n",
      "Overall doublet rate:\n",
      "\tExpected   = 5.0%\n",
      "\tEstimated  = 4.8%\n"
     ]
    },
    {
     "name": "stderr",
     "output_type": "stream",
     "text": [
      "/home/dwm269/miniconda3/envs/pyRNA4/lib/python3.9/site-packages/scanpy/plotting/_utils.py:314: UserWarning: Matplotlib is currently using agg, which is a non-GUI backend, so cannot show the figure.\n",
      "  pl.show()\n"
     ]
    },
    {
     "name": "stdout",
     "output_type": "stream",
     "text": [
      " \n"
     ]
    },
    {
     "name": "stderr",
     "output_type": "stream",
     "text": [
      "/home/dwm269/miniconda3/envs/pyRNA4/lib/python3.9/site-packages/scanpy/preprocessing/_normalization.py:170: UserWarning: Received a view of an AnnData. Making a copy.\n",
      "  view_to_actual(adata)\n",
      "Trying to set attribute `.obs` of view, copying.\n"
     ]
    },
    {
     "name": "stdout",
     "output_type": "stream",
     "text": [
      "Automatically set threshold at doublet score = 0.52\n",
      "Detected doublet rate = 0.1%\n",
      "Estimated detectable doublet fraction = 0.4%\n",
      "Overall doublet rate:\n",
      "\tExpected   = 5.0%\n",
      "\tEstimated  = 13.8%\n"
     ]
    },
    {
     "name": "stderr",
     "output_type": "stream",
     "text": [
      "/home/dwm269/miniconda3/envs/pyRNA4/lib/python3.9/site-packages/scanpy/plotting/_utils.py:314: UserWarning: Matplotlib is currently using agg, which is a non-GUI backend, so cannot show the figure.\n",
      "  pl.show()\n"
     ]
    },
    {
     "name": "stdout",
     "output_type": "stream",
     "text": [
      " \n"
     ]
    },
    {
     "name": "stderr",
     "output_type": "stream",
     "text": [
      "/home/dwm269/miniconda3/envs/pyRNA4/lib/python3.9/site-packages/scanpy/preprocessing/_normalization.py:170: UserWarning: Received a view of an AnnData. Making a copy.\n",
      "  view_to_actual(adata)\n",
      "Trying to set attribute `.obs` of view, copying.\n"
     ]
    },
    {
     "name": "stdout",
     "output_type": "stream",
     "text": [
      "Automatically set threshold at doublet score = 0.46\n",
      "Detected doublet rate = 0.2%\n",
      "Estimated detectable doublet fraction = 0.6%\n",
      "Overall doublet rate:\n",
      "\tExpected   = 5.0%\n",
      "\tEstimated  = 29.4%\n"
     ]
    },
    {
     "name": "stderr",
     "output_type": "stream",
     "text": [
      "/home/dwm269/miniconda3/envs/pyRNA4/lib/python3.9/site-packages/scanpy/plotting/_utils.py:314: UserWarning: Matplotlib is currently using agg, which is a non-GUI backend, so cannot show the figure.\n",
      "  pl.show()\n"
     ]
    },
    {
     "name": "stdout",
     "output_type": "stream",
     "text": [
      " \n"
     ]
    },
    {
     "name": "stderr",
     "output_type": "stream",
     "text": [
      "/home/dwm269/miniconda3/envs/pyRNA4/lib/python3.9/site-packages/scanpy/preprocessing/_normalization.py:170: UserWarning: Received a view of an AnnData. Making a copy.\n",
      "  view_to_actual(adata)\n",
      "Trying to set attribute `.obs` of view, copying.\n"
     ]
    },
    {
     "name": "stdout",
     "output_type": "stream",
     "text": [
      "Automatically set threshold at doublet score = 0.51\n",
      "Detected doublet rate = 0.3%\n",
      "Estimated detectable doublet fraction = 4.9%\n",
      "Overall doublet rate:\n",
      "\tExpected   = 5.0%\n",
      "\tEstimated  = 7.1%\n"
     ]
    },
    {
     "name": "stderr",
     "output_type": "stream",
     "text": [
      "/home/dwm269/miniconda3/envs/pyRNA4/lib/python3.9/site-packages/scanpy/plotting/_utils.py:314: UserWarning: Matplotlib is currently using agg, which is a non-GUI backend, so cannot show the figure.\n",
      "  pl.show()\n"
     ]
    },
    {
     "name": "stdout",
     "output_type": "stream",
     "text": [
      " \n"
     ]
    },
    {
     "name": "stderr",
     "output_type": "stream",
     "text": [
      "/home/dwm269/miniconda3/envs/pyRNA4/lib/python3.9/site-packages/scanpy/preprocessing/_normalization.py:170: UserWarning: Received a view of an AnnData. Making a copy.\n",
      "  view_to_actual(adata)\n",
      "Trying to set attribute `.obs` of view, copying.\n"
     ]
    },
    {
     "name": "stdout",
     "output_type": "stream",
     "text": [
      "Automatically set threshold at doublet score = 0.40\n",
      "Detected doublet rate = 0.2%\n",
      "Estimated detectable doublet fraction = 0.3%\n",
      "Overall doublet rate:\n",
      "\tExpected   = 5.0%\n",
      "\tEstimated  = 73.7%\n"
     ]
    },
    {
     "name": "stderr",
     "output_type": "stream",
     "text": [
      "/home/dwm269/miniconda3/envs/pyRNA4/lib/python3.9/site-packages/scanpy/plotting/_utils.py:314: UserWarning: Matplotlib is currently using agg, which is a non-GUI backend, so cannot show the figure.\n",
      "  pl.show()\n"
     ]
    },
    {
     "name": "stdout",
     "output_type": "stream",
     "text": [
      " \n"
     ]
    },
    {
     "name": "stderr",
     "output_type": "stream",
     "text": [
      "/home/dwm269/miniconda3/envs/pyRNA4/lib/python3.9/site-packages/scanpy/preprocessing/_normalization.py:170: UserWarning: Received a view of an AnnData. Making a copy.\n",
      "  view_to_actual(adata)\n",
      "Trying to set attribute `.obs` of view, copying.\n"
     ]
    },
    {
     "name": "stdout",
     "output_type": "stream",
     "text": [
      "Automatically set threshold at doublet score = 0.43\n",
      "Detected doublet rate = 0.0%\n",
      "Estimated detectable doublet fraction = 0.9%\n",
      "Overall doublet rate:\n",
      "\tExpected   = 5.0%\n",
      "\tEstimated  = 5.4%\n"
     ]
    },
    {
     "name": "stderr",
     "output_type": "stream",
     "text": [
      "/home/dwm269/miniconda3/envs/pyRNA4/lib/python3.9/site-packages/scanpy/plotting/_utils.py:314: UserWarning: Matplotlib is currently using agg, which is a non-GUI backend, so cannot show the figure.\n",
      "  pl.show()\n"
     ]
    },
    {
     "name": "stdout",
     "output_type": "stream",
     "text": [
      " \n"
     ]
    },
    {
     "name": "stderr",
     "output_type": "stream",
     "text": [
      "/home/dwm269/miniconda3/envs/pyRNA4/lib/python3.9/site-packages/scanpy/preprocessing/_normalization.py:170: UserWarning: Received a view of an AnnData. Making a copy.\n",
      "  view_to_actual(adata)\n",
      "Trying to set attribute `.obs` of view, copying.\n"
     ]
    },
    {
     "name": "stdout",
     "output_type": "stream",
     "text": [
      "Automatically set threshold at doublet score = 0.41\n",
      "Detected doublet rate = 0.1%\n",
      "Estimated detectable doublet fraction = 0.2%\n",
      "Overall doublet rate:\n",
      "\tExpected   = 5.0%\n",
      "\tEstimated  = 32.3%\n"
     ]
    },
    {
     "name": "stderr",
     "output_type": "stream",
     "text": [
      "/home/dwm269/miniconda3/envs/pyRNA4/lib/python3.9/site-packages/scanpy/plotting/_utils.py:314: UserWarning: Matplotlib is currently using agg, which is a non-GUI backend, so cannot show the figure.\n",
      "  pl.show()\n"
     ]
    },
    {
     "name": "stdout",
     "output_type": "stream",
     "text": [
      " \n"
     ]
    },
    {
     "name": "stderr",
     "output_type": "stream",
     "text": [
      "/home/dwm269/miniconda3/envs/pyRNA4/lib/python3.9/site-packages/scanpy/preprocessing/_normalization.py:170: UserWarning: Received a view of an AnnData. Making a copy.\n",
      "  view_to_actual(adata)\n",
      "Trying to set attribute `.obs` of view, copying.\n"
     ]
    },
    {
     "name": "stdout",
     "output_type": "stream",
     "text": [
      "Automatically set threshold at doublet score = 0.44\n",
      "Detected doublet rate = 0.0%\n",
      "Estimated detectable doublet fraction = 0.1%\n",
      "Overall doublet rate:\n",
      "\tExpected   = 5.0%\n",
      "\tEstimated  = 11.1%\n"
     ]
    },
    {
     "name": "stderr",
     "output_type": "stream",
     "text": [
      "/home/dwm269/miniconda3/envs/pyRNA4/lib/python3.9/site-packages/scanpy/plotting/_utils.py:314: UserWarning: Matplotlib is currently using agg, which is a non-GUI backend, so cannot show the figure.\n",
      "  pl.show()\n"
     ]
    },
    {
     "name": "stdout",
     "output_type": "stream",
     "text": [
      " \n"
     ]
    },
    {
     "name": "stderr",
     "output_type": "stream",
     "text": [
      "/home/dwm269/miniconda3/envs/pyRNA4/lib/python3.9/site-packages/scanpy/preprocessing/_normalization.py:170: UserWarning: Received a view of an AnnData. Making a copy.\n",
      "  view_to_actual(adata)\n",
      "Trying to set attribute `.obs` of view, copying.\n"
     ]
    },
    {
     "name": "stdout",
     "output_type": "stream",
     "text": [
      "Automatically set threshold at doublet score = 0.49\n",
      "Detected doublet rate = 0.0%\n",
      "Estimated detectable doublet fraction = 0.1%\n",
      "Overall doublet rate:\n",
      "\tExpected   = 5.0%\n",
      "\tEstimated  = 32.3%\n"
     ]
    },
    {
     "name": "stderr",
     "output_type": "stream",
     "text": [
      "/home/dwm269/miniconda3/envs/pyRNA4/lib/python3.9/site-packages/scanpy/plotting/_utils.py:314: UserWarning: Matplotlib is currently using agg, which is a non-GUI backend, so cannot show the figure.\n",
      "  pl.show()\n"
     ]
    },
    {
     "name": "stdout",
     "output_type": "stream",
     "text": [
      " \n"
     ]
    },
    {
     "name": "stderr",
     "output_type": "stream",
     "text": [
      "/home/dwm269/miniconda3/envs/pyRNA4/lib/python3.9/site-packages/scanpy/preprocessing/_normalization.py:170: UserWarning: Received a view of an AnnData. Making a copy.\n",
      "  view_to_actual(adata)\n",
      "Trying to set attribute `.obs` of view, copying.\n"
     ]
    },
    {
     "name": "stdout",
     "output_type": "stream",
     "text": [
      "Automatically set threshold at doublet score = 0.60\n",
      "Detected doublet rate = 0.0%\n",
      "Estimated detectable doublet fraction = 0.1%\n",
      "Overall doublet rate:\n",
      "\tExpected   = 5.0%\n",
      "\tEstimated  = 0.0%\n"
     ]
    },
    {
     "name": "stderr",
     "output_type": "stream",
     "text": [
      "/home/dwm269/miniconda3/envs/pyRNA4/lib/python3.9/site-packages/scanpy/plotting/_utils.py:314: UserWarning: Matplotlib is currently using agg, which is a non-GUI backend, so cannot show the figure.\n",
      "  pl.show()\n"
     ]
    },
    {
     "name": "stdout",
     "output_type": "stream",
     "text": [
      " \n"
     ]
    },
    {
     "name": "stderr",
     "output_type": "stream",
     "text": [
      "/home/dwm269/miniconda3/envs/pyRNA4/lib/python3.9/site-packages/scanpy/preprocessing/_normalization.py:170: UserWarning: Received a view of an AnnData. Making a copy.\n",
      "  view_to_actual(adata)\n",
      "Trying to set attribute `.obs` of view, copying.\n"
     ]
    },
    {
     "name": "stdout",
     "output_type": "stream",
     "text": [
      "Automatically set threshold at doublet score = 0.58\n",
      "Detected doublet rate = 0.0%\n",
      "Estimated detectable doublet fraction = 0.5%\n",
      "Overall doublet rate:\n",
      "\tExpected   = 5.0%\n",
      "\tEstimated  = 3.2%\n"
     ]
    },
    {
     "name": "stderr",
     "output_type": "stream",
     "text": [
      "/home/dwm269/miniconda3/envs/pyRNA4/lib/python3.9/site-packages/scanpy/plotting/_utils.py:314: UserWarning: Matplotlib is currently using agg, which is a non-GUI backend, so cannot show the figure.\n",
      "  pl.show()\n"
     ]
    },
    {
     "name": "stdout",
     "output_type": "stream",
     "text": [
      " \n"
     ]
    },
    {
     "name": "stderr",
     "output_type": "stream",
     "text": [
      "/home/dwm269/miniconda3/envs/pyRNA4/lib/python3.9/site-packages/scanpy/preprocessing/_normalization.py:170: UserWarning: Received a view of an AnnData. Making a copy.\n",
      "  view_to_actual(adata)\n",
      "Trying to set attribute `.obs` of view, copying.\n"
     ]
    },
    {
     "name": "stdout",
     "output_type": "stream",
     "text": [
      "Automatically set threshold at doublet score = 0.58\n",
      "Detected doublet rate = 0.0%\n",
      "Estimated detectable doublet fraction = 0.4%\n",
      "Overall doublet rate:\n",
      "\tExpected   = 5.0%\n",
      "\tEstimated  = 4.1%\n"
     ]
    },
    {
     "name": "stderr",
     "output_type": "stream",
     "text": [
      "/home/dwm269/miniconda3/envs/pyRNA4/lib/python3.9/site-packages/scanpy/plotting/_utils.py:314: UserWarning: Matplotlib is currently using agg, which is a non-GUI backend, so cannot show the figure.\n",
      "  pl.show()\n"
     ]
    },
    {
     "name": "stdout",
     "output_type": "stream",
     "text": [
      " \n"
     ]
    },
    {
     "name": "stderr",
     "output_type": "stream",
     "text": [
      "/home/dwm269/miniconda3/envs/pyRNA4/lib/python3.9/site-packages/scanpy/preprocessing/_normalization.py:170: UserWarning: Received a view of an AnnData. Making a copy.\n",
      "  view_to_actual(adata)\n",
      "Trying to set attribute `.obs` of view, copying.\n"
     ]
    },
    {
     "name": "stdout",
     "output_type": "stream",
     "text": [
      "Automatically set threshold at doublet score = 0.55\n",
      "Detected doublet rate = 0.1%\n",
      "Estimated detectable doublet fraction = 2.3%\n",
      "Overall doublet rate:\n",
      "\tExpected   = 5.0%\n",
      "\tEstimated  = 4.7%\n"
     ]
    },
    {
     "name": "stderr",
     "output_type": "stream",
     "text": [
      "/home/dwm269/miniconda3/envs/pyRNA4/lib/python3.9/site-packages/scanpy/plotting/_utils.py:314: UserWarning: Matplotlib is currently using agg, which is a non-GUI backend, so cannot show the figure.\n",
      "  pl.show()\n"
     ]
    },
    {
     "name": "stdout",
     "output_type": "stream",
     "text": [
      " \n"
     ]
    },
    {
     "name": "stderr",
     "output_type": "stream",
     "text": [
      "/home/dwm269/miniconda3/envs/pyRNA4/lib/python3.9/site-packages/scanpy/preprocessing/_normalization.py:170: UserWarning: Received a view of an AnnData. Making a copy.\n",
      "  view_to_actual(adata)\n",
      "Trying to set attribute `.obs` of view, copying.\n"
     ]
    },
    {
     "name": "stdout",
     "output_type": "stream",
     "text": [
      "Automatically set threshold at doublet score = 0.62\n",
      "Detected doublet rate = 0.0%\n",
      "Estimated detectable doublet fraction = 0.1%\n",
      "Overall doublet rate:\n",
      "\tExpected   = 5.0%\n",
      "\tEstimated  = 0.0%\n"
     ]
    },
    {
     "name": "stderr",
     "output_type": "stream",
     "text": [
      "/home/dwm269/miniconda3/envs/pyRNA4/lib/python3.9/site-packages/scanpy/plotting/_utils.py:314: UserWarning: Matplotlib is currently using agg, which is a non-GUI backend, so cannot show the figure.\n",
      "  pl.show()\n"
     ]
    },
    {
     "name": "stdout",
     "output_type": "stream",
     "text": [
      " \n"
     ]
    },
    {
     "name": "stderr",
     "output_type": "stream",
     "text": [
      "/home/dwm269/miniconda3/envs/pyRNA4/lib/python3.9/site-packages/scanpy/preprocessing/_normalization.py:170: UserWarning: Received a view of an AnnData. Making a copy.\n",
      "  view_to_actual(adata)\n",
      "Trying to set attribute `.obs` of view, copying.\n"
     ]
    },
    {
     "name": "stdout",
     "output_type": "stream",
     "text": [
      "Automatically set threshold at doublet score = 0.13\n",
      "Detected doublet rate = 9.2%\n",
      "Estimated detectable doublet fraction = 15.1%\n",
      "Overall doublet rate:\n",
      "\tExpected   = 5.0%\n",
      "\tEstimated  = 61.0%\n"
     ]
    },
    {
     "name": "stderr",
     "output_type": "stream",
     "text": [
      "/home/dwm269/miniconda3/envs/pyRNA4/lib/python3.9/site-packages/scanpy/plotting/_utils.py:314: UserWarning: Matplotlib is currently using agg, which is a non-GUI backend, so cannot show the figure.\n",
      "  pl.show()\n"
     ]
    },
    {
     "name": "stdout",
     "output_type": "stream",
     "text": [
      " \n"
     ]
    },
    {
     "name": "stderr",
     "output_type": "stream",
     "text": [
      "/home/dwm269/miniconda3/envs/pyRNA4/lib/python3.9/site-packages/scanpy/preprocessing/_normalization.py:170: UserWarning: Received a view of an AnnData. Making a copy.\n",
      "  view_to_actual(adata)\n",
      "Trying to set attribute `.obs` of view, copying.\n"
     ]
    },
    {
     "name": "stdout",
     "output_type": "stream",
     "text": [
      "Automatically set threshold at doublet score = 0.60\n",
      "Detected doublet rate = 0.0%\n",
      "Estimated detectable doublet fraction = 1.4%\n",
      "Overall doublet rate:\n",
      "\tExpected   = 5.0%\n",
      "\tEstimated  = 3.5%\n"
     ]
    },
    {
     "name": "stderr",
     "output_type": "stream",
     "text": [
      "/home/dwm269/miniconda3/envs/pyRNA4/lib/python3.9/site-packages/scanpy/plotting/_utils.py:314: UserWarning: Matplotlib is currently using agg, which is a non-GUI backend, so cannot show the figure.\n",
      "  pl.show()\n"
     ]
    },
    {
     "name": "stdout",
     "output_type": "stream",
     "text": [
      " \n"
     ]
    },
    {
     "name": "stderr",
     "output_type": "stream",
     "text": [
      "/home/dwm269/miniconda3/envs/pyRNA4/lib/python3.9/site-packages/scanpy/preprocessing/_normalization.py:170: UserWarning: Received a view of an AnnData. Making a copy.\n",
      "  view_to_actual(adata)\n",
      "Trying to set attribute `.obs` of view, copying.\n"
     ]
    },
    {
     "name": "stdout",
     "output_type": "stream",
     "text": [
      "Automatically set threshold at doublet score = 0.26\n",
      "Detected doublet rate = 0.2%\n",
      "Estimated detectable doublet fraction = 20.2%\n",
      "Overall doublet rate:\n",
      "\tExpected   = 5.0%\n",
      "\tEstimated  = 1.0%\n"
     ]
    },
    {
     "name": "stderr",
     "output_type": "stream",
     "text": [
      "/home/dwm269/miniconda3/envs/pyRNA4/lib/python3.9/site-packages/scanpy/plotting/_utils.py:314: UserWarning: Matplotlib is currently using agg, which is a non-GUI backend, so cannot show the figure.\n",
      "  pl.show()\n"
     ]
    },
    {
     "name": "stdout",
     "output_type": "stream",
     "text": [
      " \n"
     ]
    },
    {
     "name": "stderr",
     "output_type": "stream",
     "text": [
      "/home/dwm269/miniconda3/envs/pyRNA4/lib/python3.9/site-packages/scanpy/preprocessing/_normalization.py:170: UserWarning: Received a view of an AnnData. Making a copy.\n",
      "  view_to_actual(adata)\n",
      "Trying to set attribute `.obs` of view, copying.\n"
     ]
    },
    {
     "name": "stdout",
     "output_type": "stream",
     "text": [
      "Automatically set threshold at doublet score = 0.18\n",
      "Detected doublet rate = 1.1%\n",
      "Estimated detectable doublet fraction = 24.9%\n",
      "Overall doublet rate:\n",
      "\tExpected   = 5.0%\n",
      "\tEstimated  = 4.5%\n"
     ]
    },
    {
     "name": "stderr",
     "output_type": "stream",
     "text": [
      "/home/dwm269/miniconda3/envs/pyRNA4/lib/python3.9/site-packages/scanpy/plotting/_utils.py:314: UserWarning: Matplotlib is currently using agg, which is a non-GUI backend, so cannot show the figure.\n",
      "  pl.show()\n"
     ]
    },
    {
     "name": "stdout",
     "output_type": "stream",
     "text": [
      " \n"
     ]
    },
    {
     "name": "stderr",
     "output_type": "stream",
     "text": [
      "/home/dwm269/miniconda3/envs/pyRNA4/lib/python3.9/site-packages/scanpy/preprocessing/_normalization.py:170: UserWarning: Received a view of an AnnData. Making a copy.\n",
      "  view_to_actual(adata)\n",
      "Trying to set attribute `.obs` of view, copying.\n"
     ]
    },
    {
     "name": "stdout",
     "output_type": "stream",
     "text": [
      "Automatically set threshold at doublet score = 0.21\n",
      "Detected doublet rate = 0.9%\n",
      "Estimated detectable doublet fraction = 15.7%\n",
      "Overall doublet rate:\n",
      "\tExpected   = 5.0%\n",
      "\tEstimated  = 5.5%\n"
     ]
    },
    {
     "name": "stderr",
     "output_type": "stream",
     "text": [
      "/home/dwm269/miniconda3/envs/pyRNA4/lib/python3.9/site-packages/scanpy/plotting/_utils.py:314: UserWarning: Matplotlib is currently using agg, which is a non-GUI backend, so cannot show the figure.\n",
      "  pl.show()\n"
     ]
    },
    {
     "name": "stdout",
     "output_type": "stream",
     "text": [
      " \n"
     ]
    },
    {
     "name": "stderr",
     "output_type": "stream",
     "text": [
      "/home/dwm269/miniconda3/envs/pyRNA4/lib/python3.9/site-packages/scanpy/preprocessing/_normalization.py:170: UserWarning: Received a view of an AnnData. Making a copy.\n",
      "  view_to_actual(adata)\n",
      "Trying to set attribute `.obs` of view, copying.\n"
     ]
    },
    {
     "name": "stdout",
     "output_type": "stream",
     "text": [
      "Automatically set threshold at doublet score = 0.14\n",
      "Detected doublet rate = 3.4%\n",
      "Estimated detectable doublet fraction = 5.6%\n",
      "Overall doublet rate:\n",
      "\tExpected   = 5.0%\n",
      "\tEstimated  = 60.0%\n"
     ]
    },
    {
     "name": "stderr",
     "output_type": "stream",
     "text": [
      "/home/dwm269/miniconda3/envs/pyRNA4/lib/python3.9/site-packages/scanpy/plotting/_utils.py:314: UserWarning: Matplotlib is currently using agg, which is a non-GUI backend, so cannot show the figure.\n",
      "  pl.show()\n"
     ]
    },
    {
     "name": "stdout",
     "output_type": "stream",
     "text": [
      " \n"
     ]
    },
    {
     "name": "stderr",
     "output_type": "stream",
     "text": [
      "/home/dwm269/miniconda3/envs/pyRNA4/lib/python3.9/site-packages/scanpy/preprocessing/_normalization.py:170: UserWarning: Received a view of an AnnData. Making a copy.\n",
      "  view_to_actual(adata)\n",
      "Trying to set attribute `.obs` of view, copying.\n"
     ]
    },
    {
     "name": "stdout",
     "output_type": "stream",
     "text": [
      "Automatically set threshold at doublet score = 0.22\n",
      "Detected doublet rate = 0.0%\n",
      "Estimated detectable doublet fraction = 0.1%\n",
      "Overall doublet rate:\n",
      "\tExpected   = 5.0%\n",
      "\tEstimated  = 0.0%\n"
     ]
    },
    {
     "name": "stderr",
     "output_type": "stream",
     "text": [
      "/home/dwm269/miniconda3/envs/pyRNA4/lib/python3.9/site-packages/scanpy/plotting/_utils.py:314: UserWarning: Matplotlib is currently using agg, which is a non-GUI backend, so cannot show the figure.\n",
      "  pl.show()\n"
     ]
    },
    {
     "name": "stdout",
     "output_type": "stream",
     "text": [
      " \n"
     ]
    },
    {
     "name": "stderr",
     "output_type": "stream",
     "text": [
      "/home/dwm269/miniconda3/envs/pyRNA4/lib/python3.9/site-packages/scanpy/preprocessing/_normalization.py:170: UserWarning: Received a view of an AnnData. Making a copy.\n",
      "  view_to_actual(adata)\n",
      "Trying to set attribute `.obs` of view, copying.\n"
     ]
    },
    {
     "name": "stdout",
     "output_type": "stream",
     "text": [
      "Automatically set threshold at doublet score = 0.30\n",
      "Detected doublet rate = 1.3%\n",
      "Estimated detectable doublet fraction = 30.0%\n",
      "Overall doublet rate:\n",
      "\tExpected   = 5.0%\n",
      "\tEstimated  = 4.5%\n"
     ]
    },
    {
     "name": "stderr",
     "output_type": "stream",
     "text": [
      "/home/dwm269/miniconda3/envs/pyRNA4/lib/python3.9/site-packages/scanpy/plotting/_utils.py:314: UserWarning: Matplotlib is currently using agg, which is a non-GUI backend, so cannot show the figure.\n",
      "  pl.show()\n"
     ]
    },
    {
     "name": "stdout",
     "output_type": "stream",
     "text": [
      " \n"
     ]
    },
    {
     "name": "stderr",
     "output_type": "stream",
     "text": [
      "/home/dwm269/miniconda3/envs/pyRNA4/lib/python3.9/site-packages/scanpy/preprocessing/_normalization.py:170: UserWarning: Received a view of an AnnData. Making a copy.\n",
      "  view_to_actual(adata)\n",
      "Trying to set attribute `.obs` of view, copying.\n"
     ]
    },
    {
     "name": "stdout",
     "output_type": "stream",
     "text": [
      "Automatically set threshold at doublet score = 0.12\n",
      "Detected doublet rate = 8.1%\n",
      "Estimated detectable doublet fraction = 4.4%\n",
      "Overall doublet rate:\n",
      "\tExpected   = 5.0%\n",
      "\tEstimated  = 184.6%\n"
     ]
    },
    {
     "name": "stderr",
     "output_type": "stream",
     "text": [
      "/home/dwm269/miniconda3/envs/pyRNA4/lib/python3.9/site-packages/scanpy/plotting/_utils.py:314: UserWarning: Matplotlib is currently using agg, which is a non-GUI backend, so cannot show the figure.\n",
      "  pl.show()\n"
     ]
    },
    {
     "name": "stdout",
     "output_type": "stream",
     "text": [
      " \n"
     ]
    },
    {
     "name": "stderr",
     "output_type": "stream",
     "text": [
      "/home/dwm269/miniconda3/envs/pyRNA4/lib/python3.9/site-packages/scanpy/preprocessing/_normalization.py:170: UserWarning: Received a view of an AnnData. Making a copy.\n",
      "  view_to_actual(adata)\n",
      "Trying to set attribute `.obs` of view, copying.\n"
     ]
    },
    {
     "name": "stdout",
     "output_type": "stream",
     "text": [
      "Automatically set threshold at doublet score = 0.17\n",
      "Detected doublet rate = 4.9%\n",
      "Estimated detectable doublet fraction = 4.1%\n",
      "Overall doublet rate:\n",
      "\tExpected   = 5.0%\n",
      "\tEstimated  = 120.0%\n"
     ]
    },
    {
     "name": "stderr",
     "output_type": "stream",
     "text": [
      "/home/dwm269/miniconda3/envs/pyRNA4/lib/python3.9/site-packages/scanpy/plotting/_utils.py:314: UserWarning: Matplotlib is currently using agg, which is a non-GUI backend, so cannot show the figure.\n",
      "  pl.show()\n"
     ]
    },
    {
     "name": "stdout",
     "output_type": "stream",
     "text": [
      " \n"
     ]
    },
    {
     "name": "stderr",
     "output_type": "stream",
     "text": [
      "/home/dwm269/miniconda3/envs/pyRNA4/lib/python3.9/site-packages/scanpy/preprocessing/_normalization.py:170: UserWarning: Received a view of an AnnData. Making a copy.\n",
      "  view_to_actual(adata)\n",
      "Trying to set attribute `.obs` of view, copying.\n"
     ]
    },
    {
     "name": "stdout",
     "output_type": "stream",
     "text": [
      "Automatically set threshold at doublet score = 0.14\n",
      "Detected doublet rate = 1.1%\n",
      "Estimated detectable doublet fraction = 6.0%\n",
      "Overall doublet rate:\n",
      "\tExpected   = 5.0%\n",
      "\tEstimated  = 18.2%\n"
     ]
    },
    {
     "name": "stderr",
     "output_type": "stream",
     "text": [
      "/home/dwm269/miniconda3/envs/pyRNA4/lib/python3.9/site-packages/scanpy/plotting/_utils.py:314: UserWarning: Matplotlib is currently using agg, which is a non-GUI backend, so cannot show the figure.\n",
      "  pl.show()\n"
     ]
    },
    {
     "name": "stdout",
     "output_type": "stream",
     "text": [
      " \n"
     ]
    },
    {
     "name": "stderr",
     "output_type": "stream",
     "text": [
      "/home/dwm269/miniconda3/envs/pyRNA4/lib/python3.9/site-packages/scanpy/preprocessing/_normalization.py:170: UserWarning: Received a view of an AnnData. Making a copy.\n",
      "  view_to_actual(adata)\n",
      "Trying to set attribute `.obs` of view, copying.\n"
     ]
    },
    {
     "name": "stdout",
     "output_type": "stream",
     "text": [
      "Automatically set threshold at doublet score = 0.37\n",
      "Detected doublet rate = 0.1%\n",
      "Estimated detectable doublet fraction = 0.5%\n",
      "Overall doublet rate:\n",
      "\tExpected   = 5.0%\n",
      "\tEstimated  = 12.8%\n"
     ]
    },
    {
     "name": "stderr",
     "output_type": "stream",
     "text": [
      "/home/dwm269/miniconda3/envs/pyRNA4/lib/python3.9/site-packages/scanpy/plotting/_utils.py:314: UserWarning: Matplotlib is currently using agg, which is a non-GUI backend, so cannot show the figure.\n",
      "  pl.show()\n"
     ]
    },
    {
     "name": "stdout",
     "output_type": "stream",
     "text": [
      " \n"
     ]
    },
    {
     "name": "stderr",
     "output_type": "stream",
     "text": [
      "/home/dwm269/miniconda3/envs/pyRNA4/lib/python3.9/site-packages/scanpy/preprocessing/_normalization.py:170: UserWarning: Received a view of an AnnData. Making a copy.\n",
      "  view_to_actual(adata)\n",
      "Trying to set attribute `.obs` of view, copying.\n"
     ]
    },
    {
     "name": "stdout",
     "output_type": "stream",
     "text": [
      "Automatically set threshold at doublet score = 0.14\n",
      "Detected doublet rate = 5.0%\n",
      "Estimated detectable doublet fraction = 5.4%\n",
      "Overall doublet rate:\n",
      "\tExpected   = 5.0%\n",
      "\tEstimated  = 90.9%\n"
     ]
    },
    {
     "name": "stderr",
     "output_type": "stream",
     "text": [
      "/home/dwm269/miniconda3/envs/pyRNA4/lib/python3.9/site-packages/scanpy/plotting/_utils.py:314: UserWarning: Matplotlib is currently using agg, which is a non-GUI backend, so cannot show the figure.\n",
      "  pl.show()\n"
     ]
    },
    {
     "name": "stdout",
     "output_type": "stream",
     "text": [
      " \n"
     ]
    },
    {
     "name": "stderr",
     "output_type": "stream",
     "text": [
      "/home/dwm269/miniconda3/envs/pyRNA4/lib/python3.9/site-packages/scanpy/preprocessing/_normalization.py:170: UserWarning: Received a view of an AnnData. Making a copy.\n",
      "  view_to_actual(adata)\n",
      "Trying to set attribute `.obs` of view, copying.\n"
     ]
    },
    {
     "name": "stdout",
     "output_type": "stream",
     "text": [
      "Automatically set threshold at doublet score = 0.14\n",
      "Detected doublet rate = 8.0%\n",
      "Estimated detectable doublet fraction = 6.9%\n",
      "Overall doublet rate:\n",
      "\tExpected   = 5.0%\n",
      "\tEstimated  = 116.7%\n"
     ]
    },
    {
     "name": "stderr",
     "output_type": "stream",
     "text": [
      "/home/dwm269/miniconda3/envs/pyRNA4/lib/python3.9/site-packages/scanpy/plotting/_utils.py:314: UserWarning: Matplotlib is currently using agg, which is a non-GUI backend, so cannot show the figure.\n",
      "  pl.show()\n"
     ]
    },
    {
     "name": "stdout",
     "output_type": "stream",
     "text": [
      " \n"
     ]
    },
    {
     "name": "stderr",
     "output_type": "stream",
     "text": [
      "/home/dwm269/miniconda3/envs/pyRNA4/lib/python3.9/site-packages/scanpy/preprocessing/_normalization.py:170: UserWarning: Received a view of an AnnData. Making a copy.\n",
      "  view_to_actual(adata)\n",
      "Trying to set attribute `.obs` of view, copying.\n"
     ]
    },
    {
     "name": "stdout",
     "output_type": "stream",
     "text": [
      "Automatically set threshold at doublet score = 0.60\n",
      "Detected doublet rate = 0.1%\n",
      "Estimated detectable doublet fraction = 0.3%\n",
      "Overall doublet rate:\n",
      "\tExpected   = 5.0%\n",
      "\tEstimated  = 18.2%\n"
     ]
    },
    {
     "name": "stderr",
     "output_type": "stream",
     "text": [
      "/home/dwm269/miniconda3/envs/pyRNA4/lib/python3.9/site-packages/scanpy/plotting/_utils.py:314: UserWarning: Matplotlib is currently using agg, which is a non-GUI backend, so cannot show the figure.\n",
      "  pl.show()\n"
     ]
    },
    {
     "name": "stdout",
     "output_type": "stream",
     "text": [
      " \n"
     ]
    },
    {
     "name": "stderr",
     "output_type": "stream",
     "text": [
      "/home/dwm269/miniconda3/envs/pyRNA4/lib/python3.9/site-packages/scanpy/preprocessing/_normalization.py:170: UserWarning: Received a view of an AnnData. Making a copy.\n",
      "  view_to_actual(adata)\n",
      "Trying to set attribute `.obs` of view, copying.\n"
     ]
    },
    {
     "name": "stdout",
     "output_type": "stream",
     "text": [
      "Automatically set threshold at doublet score = 0.10\n",
      "Detected doublet rate = 22.2%\n",
      "Estimated detectable doublet fraction = 21.7%\n",
      "Overall doublet rate:\n",
      "\tExpected   = 5.0%\n",
      "\tEstimated  = 102.3%\n"
     ]
    },
    {
     "name": "stderr",
     "output_type": "stream",
     "text": [
      "/home/dwm269/miniconda3/envs/pyRNA4/lib/python3.9/site-packages/scanpy/plotting/_utils.py:314: UserWarning: Matplotlib is currently using agg, which is a non-GUI backend, so cannot show the figure.\n",
      "  pl.show()\n"
     ]
    },
    {
     "name": "stdout",
     "output_type": "stream",
     "text": [
      " \n"
     ]
    },
    {
     "name": "stderr",
     "output_type": "stream",
     "text": [
      "/home/dwm269/miniconda3/envs/pyRNA4/lib/python3.9/site-packages/scanpy/preprocessing/_normalization.py:170: UserWarning: Received a view of an AnnData. Making a copy.\n",
      "  view_to_actual(adata)\n",
      "Trying to set attribute `.obs` of view, copying.\n"
     ]
    },
    {
     "name": "stdout",
     "output_type": "stream",
     "text": [
      "Automatically set threshold at doublet score = 0.11\n",
      "Detected doublet rate = 9.3%\n",
      "Estimated detectable doublet fraction = 12.0%\n",
      "Overall doublet rate:\n",
      "\tExpected   = 5.0%\n",
      "\tEstimated  = 77.8%\n"
     ]
    },
    {
     "name": "stderr",
     "output_type": "stream",
     "text": [
      "/home/dwm269/miniconda3/envs/pyRNA4/lib/python3.9/site-packages/scanpy/plotting/_utils.py:314: UserWarning: Matplotlib is currently using agg, which is a non-GUI backend, so cannot show the figure.\n",
      "  pl.show()\n"
     ]
    },
    {
     "name": "stdout",
     "output_type": "stream",
     "text": [
      " \n"
     ]
    },
    {
     "name": "stderr",
     "output_type": "stream",
     "text": [
      "/home/dwm269/miniconda3/envs/pyRNA4/lib/python3.9/site-packages/scanpy/preprocessing/_normalization.py:170: UserWarning: Received a view of an AnnData. Making a copy.\n",
      "  view_to_actual(adata)\n",
      "Trying to set attribute `.obs` of view, copying.\n"
     ]
    },
    {
     "name": "stdout",
     "output_type": "stream",
     "text": [
      "Automatically set threshold at doublet score = 0.16\n",
      "Detected doublet rate = 2.0%\n",
      "Estimated detectable doublet fraction = 5.3%\n",
      "Overall doublet rate:\n",
      "\tExpected   = 5.0%\n",
      "\tEstimated  = 37.5%\n"
     ]
    },
    {
     "name": "stderr",
     "output_type": "stream",
     "text": [
      "/home/dwm269/miniconda3/envs/pyRNA4/lib/python3.9/site-packages/scanpy/plotting/_utils.py:314: UserWarning: Matplotlib is currently using agg, which is a non-GUI backend, so cannot show the figure.\n",
      "  pl.show()\n"
     ]
    },
    {
     "name": "stdout",
     "output_type": "stream",
     "text": [
      " \n"
     ]
    },
    {
     "name": "stderr",
     "output_type": "stream",
     "text": [
      "/home/dwm269/miniconda3/envs/pyRNA4/lib/python3.9/site-packages/scanpy/preprocessing/_normalization.py:170: UserWarning: Received a view of an AnnData. Making a copy.\n",
      "  view_to_actual(adata)\n",
      "Trying to set attribute `.obs` of view, copying.\n"
     ]
    },
    {
     "name": "stdout",
     "output_type": "stream",
     "text": [
      "Automatically set threshold at doublet score = 0.11\n",
      "Detected doublet rate = 6.9%\n",
      "Estimated detectable doublet fraction = 20.4%\n",
      "Overall doublet rate:\n",
      "\tExpected   = 5.0%\n",
      "\tEstimated  = 34.0%\n"
     ]
    },
    {
     "name": "stderr",
     "output_type": "stream",
     "text": [
      "/home/dwm269/miniconda3/envs/pyRNA4/lib/python3.9/site-packages/scanpy/plotting/_utils.py:314: UserWarning: Matplotlib is currently using agg, which is a non-GUI backend, so cannot show the figure.\n",
      "  pl.show()\n"
     ]
    },
    {
     "name": "stdout",
     "output_type": "stream",
     "text": [
      " \n"
     ]
    },
    {
     "name": "stderr",
     "output_type": "stream",
     "text": [
      "/home/dwm269/miniconda3/envs/pyRNA4/lib/python3.9/site-packages/scanpy/preprocessing/_normalization.py:170: UserWarning: Received a view of an AnnData. Making a copy.\n",
      "  view_to_actual(adata)\n",
      "Trying to set attribute `.obs` of view, copying.\n"
     ]
    },
    {
     "name": "stdout",
     "output_type": "stream",
     "text": [
      "Automatically set threshold at doublet score = 0.09\n",
      "Detected doublet rate = 18.0%\n",
      "Estimated detectable doublet fraction = 27.5%\n",
      "Overall doublet rate:\n",
      "\tExpected   = 5.0%\n",
      "\tEstimated  = 65.3%\n"
     ]
    },
    {
     "name": "stderr",
     "output_type": "stream",
     "text": [
      "/home/dwm269/miniconda3/envs/pyRNA4/lib/python3.9/site-packages/scanpy/plotting/_utils.py:314: UserWarning: Matplotlib is currently using agg, which is a non-GUI backend, so cannot show the figure.\n",
      "  pl.show()\n"
     ]
    },
    {
     "name": "stdout",
     "output_type": "stream",
     "text": [
      " \n"
     ]
    },
    {
     "name": "stderr",
     "output_type": "stream",
     "text": [
      "/home/dwm269/miniconda3/envs/pyRNA4/lib/python3.9/site-packages/scanpy/preprocessing/_normalization.py:170: UserWarning: Received a view of an AnnData. Making a copy.\n",
      "  view_to_actual(adata)\n",
      "Trying to set attribute `.obs` of view, copying.\n"
     ]
    },
    {
     "name": "stdout",
     "output_type": "stream",
     "text": [
      "Automatically set threshold at doublet score = 0.10\n",
      "Detected doublet rate = 28.7%\n",
      "Estimated detectable doublet fraction = 17.0%\n",
      "Overall doublet rate:\n",
      "\tExpected   = 5.0%\n",
      "\tEstimated  = 169.2%\n"
     ]
    },
    {
     "name": "stderr",
     "output_type": "stream",
     "text": [
      "/home/dwm269/miniconda3/envs/pyRNA4/lib/python3.9/site-packages/scanpy/plotting/_utils.py:314: UserWarning: Matplotlib is currently using agg, which is a non-GUI backend, so cannot show the figure.\n",
      "  pl.show()\n"
     ]
    },
    {
     "name": "stdout",
     "output_type": "stream",
     "text": [
      " \n"
     ]
    },
    {
     "name": "stderr",
     "output_type": "stream",
     "text": [
      "/home/dwm269/miniconda3/envs/pyRNA4/lib/python3.9/site-packages/scanpy/preprocessing/_normalization.py:170: UserWarning: Received a view of an AnnData. Making a copy.\n",
      "  view_to_actual(adata)\n",
      "Trying to set attribute `.obs` of view, copying.\n"
     ]
    },
    {
     "name": "stdout",
     "output_type": "stream",
     "text": [
      "Automatically set threshold at doublet score = 0.16\n",
      "Detected doublet rate = 6.3%\n",
      "Estimated detectable doublet fraction = 17.3%\n",
      "Overall doublet rate:\n",
      "\tExpected   = 5.0%\n",
      "\tEstimated  = 36.4%\n"
     ]
    },
    {
     "name": "stderr",
     "output_type": "stream",
     "text": [
      "/home/dwm269/miniconda3/envs/pyRNA4/lib/python3.9/site-packages/scanpy/plotting/_utils.py:314: UserWarning: Matplotlib is currently using agg, which is a non-GUI backend, so cannot show the figure.\n",
      "  pl.show()\n"
     ]
    },
    {
     "name": "stdout",
     "output_type": "stream",
     "text": [
      " \n"
     ]
    },
    {
     "name": "stderr",
     "output_type": "stream",
     "text": [
      "/home/dwm269/miniconda3/envs/pyRNA4/lib/python3.9/site-packages/scanpy/preprocessing/_normalization.py:170: UserWarning: Received a view of an AnnData. Making a copy.\n",
      "  view_to_actual(adata)\n",
      "Trying to set attribute `.obs` of view, copying.\n"
     ]
    },
    {
     "name": "stdout",
     "output_type": "stream",
     "text": [
      "Automatically set threshold at doublet score = 0.12\n",
      "Detected doublet rate = 12.8%\n",
      "Estimated detectable doublet fraction = 6.4%\n",
      "Overall doublet rate:\n",
      "\tExpected   = 5.0%\n",
      "\tEstimated  = 200.0%\n"
     ]
    },
    {
     "name": "stderr",
     "output_type": "stream",
     "text": [
      "/home/dwm269/miniconda3/envs/pyRNA4/lib/python3.9/site-packages/scanpy/plotting/_utils.py:314: UserWarning: Matplotlib is currently using agg, which is a non-GUI backend, so cannot show the figure.\n",
      "  pl.show()\n"
     ]
    },
    {
     "name": "stdout",
     "output_type": "stream",
     "text": [
      " \n"
     ]
    },
    {
     "name": "stderr",
     "output_type": "stream",
     "text": [
      "/home/dwm269/miniconda3/envs/pyRNA4/lib/python3.9/site-packages/scanpy/preprocessing/_normalization.py:170: UserWarning: Received a view of an AnnData. Making a copy.\n",
      "  view_to_actual(adata)\n",
      "Trying to set attribute `.obs` of view, copying.\n"
     ]
    },
    {
     "name": "stdout",
     "output_type": "stream",
     "text": [
      "Automatically set threshold at doublet score = 0.16\n",
      "Detected doublet rate = 2.1%\n",
      "Estimated detectable doublet fraction = 4.1%\n",
      "Overall doublet rate:\n",
      "\tExpected   = 5.0%\n",
      "\tEstimated  = 50.0%\n"
     ]
    },
    {
     "name": "stderr",
     "output_type": "stream",
     "text": [
      "/home/dwm269/miniconda3/envs/pyRNA4/lib/python3.9/site-packages/scanpy/plotting/_utils.py:314: UserWarning: Matplotlib is currently using agg, which is a non-GUI backend, so cannot show the figure.\n",
      "  pl.show()\n"
     ]
    },
    {
     "name": "stdout",
     "output_type": "stream",
     "text": [
      " \n"
     ]
    },
    {
     "name": "stderr",
     "output_type": "stream",
     "text": [
      "/home/dwm269/miniconda3/envs/pyRNA4/lib/python3.9/site-packages/scanpy/preprocessing/_normalization.py:170: UserWarning: Received a view of an AnnData. Making a copy.\n",
      "  view_to_actual(adata)\n",
      "Trying to set attribute `.obs` of view, copying.\n"
     ]
    },
    {
     "name": "stdout",
     "output_type": "stream",
     "text": [
      "Automatically set threshold at doublet score = 0.14\n",
      "Detected doublet rate = 4.7%\n",
      "Estimated detectable doublet fraction = 5.7%\n",
      "Overall doublet rate:\n",
      "\tExpected   = 5.0%\n",
      "\tEstimated  = 83.3%\n"
     ]
    },
    {
     "name": "stderr",
     "output_type": "stream",
     "text": [
      "/home/dwm269/miniconda3/envs/pyRNA4/lib/python3.9/site-packages/scanpy/plotting/_utils.py:314: UserWarning: Matplotlib is currently using agg, which is a non-GUI backend, so cannot show the figure.\n",
      "  pl.show()\n"
     ]
    },
    {
     "name": "stdout",
     "output_type": "stream",
     "text": [
      " \n"
     ]
    },
    {
     "name": "stderr",
     "output_type": "stream",
     "text": [
      "/home/dwm269/miniconda3/envs/pyRNA4/lib/python3.9/site-packages/scanpy/preprocessing/_normalization.py:170: UserWarning: Received a view of an AnnData. Making a copy.\n",
      "  view_to_actual(adata)\n",
      "Trying to set attribute `.obs` of view, copying.\n"
     ]
    },
    {
     "name": "stdout",
     "output_type": "stream",
     "text": [
      "Automatically set threshold at doublet score = 0.24\n",
      "Detected doublet rate = 3.2%\n",
      "Estimated detectable doublet fraction = 40.8%\n",
      "Overall doublet rate:\n",
      "\tExpected   = 5.0%\n",
      "\tEstimated  = 7.8%\n"
     ]
    },
    {
     "name": "stderr",
     "output_type": "stream",
     "text": [
      "/home/dwm269/miniconda3/envs/pyRNA4/lib/python3.9/site-packages/scanpy/plotting/_utils.py:314: UserWarning: Matplotlib is currently using agg, which is a non-GUI backend, so cannot show the figure.\n",
      "  pl.show()\n"
     ]
    },
    {
     "name": "stdout",
     "output_type": "stream",
     "text": [
      " \n"
     ]
    },
    {
     "name": "stderr",
     "output_type": "stream",
     "text": [
      "/home/dwm269/miniconda3/envs/pyRNA4/lib/python3.9/site-packages/scanpy/preprocessing/_normalization.py:170: UserWarning: Received a view of an AnnData. Making a copy.\n",
      "  view_to_actual(adata)\n",
      "Trying to set attribute `.obs` of view, copying.\n"
     ]
    },
    {
     "name": "stdout",
     "output_type": "stream",
     "text": [
      "Automatically set threshold at doublet score = 0.54\n",
      "Detected doublet rate = 0.0%\n",
      "Estimated detectable doublet fraction = 0.3%\n",
      "Overall doublet rate:\n",
      "\tExpected   = 5.0%\n",
      "\tEstimated  = 0.0%\n"
     ]
    },
    {
     "name": "stderr",
     "output_type": "stream",
     "text": [
      "/home/dwm269/miniconda3/envs/pyRNA4/lib/python3.9/site-packages/scanpy/plotting/_utils.py:314: UserWarning: Matplotlib is currently using agg, which is a non-GUI backend, so cannot show the figure.\n",
      "  pl.show()\n"
     ]
    },
    {
     "name": "stdout",
     "output_type": "stream",
     "text": [
      " \n"
     ]
    },
    {
     "name": "stderr",
     "output_type": "stream",
     "text": [
      "/home/dwm269/miniconda3/envs/pyRNA4/lib/python3.9/site-packages/scanpy/preprocessing/_normalization.py:170: UserWarning: Received a view of an AnnData. Making a copy.\n",
      "  view_to_actual(adata)\n"
     ]
    },
    {
     "name": "stdout",
     "output_type": "stream",
     "text": [
      "Automatically set threshold at doublet score = 0.41\n",
      "Detected doublet rate = 0.0%\n",
      "Estimated detectable doublet fraction = 0.1%\n",
      "Overall doublet rate:\n",
      "\tExpected   = 5.0%\n",
      "\tEstimated  = 9.5%\n"
     ]
    },
    {
     "name": "stderr",
     "output_type": "stream",
     "text": [
      "Trying to set attribute `.obs` of view, copying.\n",
      "/home/dwm269/miniconda3/envs/pyRNA4/lib/python3.9/site-packages/scanpy/plotting/_utils.py:314: UserWarning: Matplotlib is currently using agg, which is a non-GUI backend, so cannot show the figure.\n",
      "  pl.show()\n"
     ]
    },
    {
     "name": "stdout",
     "output_type": "stream",
     "text": [
      " \n"
     ]
    },
    {
     "name": "stderr",
     "output_type": "stream",
     "text": [
      "/home/dwm269/miniconda3/envs/pyRNA4/lib/python3.9/site-packages/scanpy/preprocessing/_normalization.py:170: UserWarning: Received a view of an AnnData. Making a copy.\n",
      "  view_to_actual(adata)\n",
      "Trying to set attribute `.obs` of view, copying.\n"
     ]
    },
    {
     "name": "stdout",
     "output_type": "stream",
     "text": [
      "Automatically set threshold at doublet score = 0.39\n",
      "Detected doublet rate = 0.4%\n",
      "Estimated detectable doublet fraction = 8.8%\n",
      "Overall doublet rate:\n",
      "\tExpected   = 5.0%\n",
      "\tEstimated  = 4.5%\n"
     ]
    },
    {
     "name": "stderr",
     "output_type": "stream",
     "text": [
      "/home/dwm269/miniconda3/envs/pyRNA4/lib/python3.9/site-packages/scanpy/plotting/_utils.py:314: UserWarning: Matplotlib is currently using agg, which is a non-GUI backend, so cannot show the figure.\n",
      "  pl.show()\n"
     ]
    },
    {
     "name": "stdout",
     "output_type": "stream",
     "text": [
      " \n"
     ]
    },
    {
     "name": "stderr",
     "output_type": "stream",
     "text": [
      "/home/dwm269/miniconda3/envs/pyRNA4/lib/python3.9/site-packages/scanpy/preprocessing/_normalization.py:170: UserWarning: Received a view of an AnnData. Making a copy.\n",
      "  view_to_actual(adata)\n",
      "Trying to set attribute `.obs` of view, copying.\n"
     ]
    },
    {
     "name": "stdout",
     "output_type": "stream",
     "text": [
      "Automatically set threshold at doublet score = 0.17\n",
      "Detected doublet rate = 5.9%\n",
      "Estimated detectable doublet fraction = 50.0%\n",
      "Overall doublet rate:\n",
      "\tExpected   = 5.0%\n",
      "\tEstimated  = 11.8%\n"
     ]
    },
    {
     "name": "stderr",
     "output_type": "stream",
     "text": [
      "/home/dwm269/miniconda3/envs/pyRNA4/lib/python3.9/site-packages/scanpy/plotting/_utils.py:314: UserWarning: Matplotlib is currently using agg, which is a non-GUI backend, so cannot show the figure.\n",
      "  pl.show()\n"
     ]
    },
    {
     "name": "stdout",
     "output_type": "stream",
     "text": [
      " \n"
     ]
    },
    {
     "name": "stderr",
     "output_type": "stream",
     "text": [
      "/home/dwm269/miniconda3/envs/pyRNA4/lib/python3.9/site-packages/scanpy/preprocessing/_normalization.py:170: UserWarning: Received a view of an AnnData. Making a copy.\n",
      "  view_to_actual(adata)\n",
      "Trying to set attribute `.obs` of view, copying.\n"
     ]
    },
    {
     "name": "stdout",
     "output_type": "stream",
     "text": [
      "Automatically set threshold at doublet score = 0.60\n",
      "Detected doublet rate = 0.1%\n",
      "Estimated detectable doublet fraction = 1.0%\n",
      "Overall doublet rate:\n",
      "\tExpected   = 5.0%\n",
      "\tEstimated  = 10.3%\n"
     ]
    },
    {
     "name": "stderr",
     "output_type": "stream",
     "text": [
      "/home/dwm269/miniconda3/envs/pyRNA4/lib/python3.9/site-packages/scanpy/plotting/_utils.py:314: UserWarning: Matplotlib is currently using agg, which is a non-GUI backend, so cannot show the figure.\n",
      "  pl.show()\n"
     ]
    },
    {
     "name": "stdout",
     "output_type": "stream",
     "text": [
      " \n"
     ]
    },
    {
     "name": "stderr",
     "output_type": "stream",
     "text": [
      "/home/dwm269/miniconda3/envs/pyRNA4/lib/python3.9/site-packages/scanpy/preprocessing/_normalization.py:170: UserWarning: Received a view of an AnnData. Making a copy.\n",
      "  view_to_actual(adata)\n",
      "Trying to set attribute `.obs` of view, copying.\n"
     ]
    },
    {
     "name": "stdout",
     "output_type": "stream",
     "text": [
      "Automatically set threshold at doublet score = 0.48\n",
      "Detected doublet rate = 0.1%\n",
      "Estimated detectable doublet fraction = 3.4%\n",
      "Overall doublet rate:\n",
      "\tExpected   = 5.0%\n",
      "\tEstimated  = 3.7%\n"
     ]
    },
    {
     "name": "stderr",
     "output_type": "stream",
     "text": [
      "/home/dwm269/miniconda3/envs/pyRNA4/lib/python3.9/site-packages/scanpy/plotting/_utils.py:314: UserWarning: Matplotlib is currently using agg, which is a non-GUI backend, so cannot show the figure.\n",
      "  pl.show()\n"
     ]
    },
    {
     "name": "stdout",
     "output_type": "stream",
     "text": [
      " \n"
     ]
    },
    {
     "name": "stderr",
     "output_type": "stream",
     "text": [
      "/home/dwm269/miniconda3/envs/pyRNA4/lib/python3.9/site-packages/scanpy/preprocessing/_normalization.py:170: UserWarning: Received a view of an AnnData. Making a copy.\n",
      "  view_to_actual(adata)\n",
      "Trying to set attribute `.obs` of view, copying.\n"
     ]
    },
    {
     "name": "stdout",
     "output_type": "stream",
     "text": [
      "Automatically set threshold at doublet score = 0.53\n",
      "Detected doublet rate = 0.0%\n",
      "Estimated detectable doublet fraction = 1.0%\n",
      "Overall doublet rate:\n",
      "\tExpected   = 5.0%\n",
      "\tEstimated  = 2.2%\n"
     ]
    },
    {
     "name": "stderr",
     "output_type": "stream",
     "text": [
      "/home/dwm269/miniconda3/envs/pyRNA4/lib/python3.9/site-packages/scanpy/plotting/_utils.py:314: UserWarning: Matplotlib is currently using agg, which is a non-GUI backend, so cannot show the figure.\n",
      "  pl.show()\n"
     ]
    },
    {
     "name": "stdout",
     "output_type": "stream",
     "text": [
      " \n"
     ]
    },
    {
     "name": "stderr",
     "output_type": "stream",
     "text": [
      "/home/dwm269/miniconda3/envs/pyRNA4/lib/python3.9/site-packages/scanpy/preprocessing/_normalization.py:170: UserWarning: Received a view of an AnnData. Making a copy.\n",
      "  view_to_actual(adata)\n",
      "Trying to set attribute `.obs` of view, copying.\n"
     ]
    },
    {
     "name": "stdout",
     "output_type": "stream",
     "text": [
      "Automatically set threshold at doublet score = 0.54\n",
      "Detected doublet rate = 0.3%\n",
      "Estimated detectable doublet fraction = 4.8%\n",
      "Overall doublet rate:\n",
      "\tExpected   = 5.0%\n",
      "\tEstimated  = 6.6%\n"
     ]
    },
    {
     "name": "stderr",
     "output_type": "stream",
     "text": [
      "/home/dwm269/miniconda3/envs/pyRNA4/lib/python3.9/site-packages/scanpy/plotting/_utils.py:314: UserWarning: Matplotlib is currently using agg, which is a non-GUI backend, so cannot show the figure.\n",
      "  pl.show()\n"
     ]
    },
    {
     "name": "stdout",
     "output_type": "stream",
     "text": [
      " \n"
     ]
    },
    {
     "name": "stderr",
     "output_type": "stream",
     "text": [
      "/home/dwm269/miniconda3/envs/pyRNA4/lib/python3.9/site-packages/scanpy/preprocessing/_normalization.py:170: UserWarning: Received a view of an AnnData. Making a copy.\n",
      "  view_to_actual(adata)\n",
      "Trying to set attribute `.obs` of view, copying.\n"
     ]
    },
    {
     "name": "stdout",
     "output_type": "stream",
     "text": [
      "Automatically set threshold at doublet score = 0.54\n",
      "Detected doublet rate = 0.3%\n",
      "Estimated detectable doublet fraction = 5.9%\n",
      "Overall doublet rate:\n",
      "\tExpected   = 5.0%\n",
      "\tEstimated  = 5.9%\n"
     ]
    },
    {
     "name": "stderr",
     "output_type": "stream",
     "text": [
      "/home/dwm269/miniconda3/envs/pyRNA4/lib/python3.9/site-packages/scanpy/plotting/_utils.py:314: UserWarning: Matplotlib is currently using agg, which is a non-GUI backend, so cannot show the figure.\n",
      "  pl.show()\n"
     ]
    },
    {
     "name": "stdout",
     "output_type": "stream",
     "text": [
      " \n"
     ]
    },
    {
     "name": "stderr",
     "output_type": "stream",
     "text": [
      "/home/dwm269/miniconda3/envs/pyRNA4/lib/python3.9/site-packages/scanpy/preprocessing/_normalization.py:170: UserWarning: Received a view of an AnnData. Making a copy.\n",
      "  view_to_actual(adata)\n",
      "Trying to set attribute `.obs` of view, copying.\n"
     ]
    },
    {
     "name": "stdout",
     "output_type": "stream",
     "text": [
      "Automatically set threshold at doublet score = 0.54\n",
      "Detected doublet rate = 0.2%\n",
      "Estimated detectable doublet fraction = 4.9%\n",
      "Overall doublet rate:\n",
      "\tExpected   = 5.0%\n",
      "\tEstimated  = 3.7%\n"
     ]
    },
    {
     "name": "stderr",
     "output_type": "stream",
     "text": [
      "/home/dwm269/miniconda3/envs/pyRNA4/lib/python3.9/site-packages/scanpy/plotting/_utils.py:314: UserWarning: Matplotlib is currently using agg, which is a non-GUI backend, so cannot show the figure.\n",
      "  pl.show()\n"
     ]
    },
    {
     "name": "stdout",
     "output_type": "stream",
     "text": [
      " \n"
     ]
    },
    {
     "name": "stderr",
     "output_type": "stream",
     "text": [
      "/home/dwm269/miniconda3/envs/pyRNA4/lib/python3.9/site-packages/scanpy/preprocessing/_normalization.py:170: UserWarning: Received a view of an AnnData. Making a copy.\n",
      "  view_to_actual(adata)\n",
      "Trying to set attribute `.obs` of view, copying.\n"
     ]
    },
    {
     "name": "stdout",
     "output_type": "stream",
     "text": [
      "Automatically set threshold at doublet score = 0.59\n",
      "Detected doublet rate = 0.1%\n",
      "Estimated detectable doublet fraction = 1.3%\n",
      "Overall doublet rate:\n",
      "\tExpected   = 5.0%\n",
      "\tEstimated  = 7.8%\n"
     ]
    },
    {
     "name": "stderr",
     "output_type": "stream",
     "text": [
      "/home/dwm269/miniconda3/envs/pyRNA4/lib/python3.9/site-packages/scanpy/plotting/_utils.py:314: UserWarning: Matplotlib is currently using agg, which is a non-GUI backend, so cannot show the figure.\n",
      "  pl.show()\n"
     ]
    },
    {
     "name": "stdout",
     "output_type": "stream",
     "text": [
      " \n"
     ]
    },
    {
     "name": "stderr",
     "output_type": "stream",
     "text": [
      "/home/dwm269/miniconda3/envs/pyRNA4/lib/python3.9/site-packages/scanpy/preprocessing/_normalization.py:170: UserWarning: Received a view of an AnnData. Making a copy.\n",
      "  view_to_actual(adata)\n",
      "Trying to set attribute `.obs` of view, copying.\n"
     ]
    },
    {
     "name": "stdout",
     "output_type": "stream",
     "text": [
      "Automatically set threshold at doublet score = 0.10\n",
      "Detected doublet rate = 13.3%\n",
      "Estimated detectable doublet fraction = 11.1%\n",
      "Overall doublet rate:\n",
      "\tExpected   = 5.0%\n",
      "\tEstimated  = 120.0%\n"
     ]
    },
    {
     "name": "stderr",
     "output_type": "stream",
     "text": [
      "/home/dwm269/miniconda3/envs/pyRNA4/lib/python3.9/site-packages/scanpy/plotting/_utils.py:314: UserWarning: Matplotlib is currently using agg, which is a non-GUI backend, so cannot show the figure.\n",
      "  pl.show()\n"
     ]
    },
    {
     "name": "stdout",
     "output_type": "stream",
     "text": [
      " \n"
     ]
    },
    {
     "name": "stderr",
     "output_type": "stream",
     "text": [
      "/home/dwm269/miniconda3/envs/pyRNA4/lib/python3.9/site-packages/scanpy/preprocessing/_normalization.py:170: UserWarning: Received a view of an AnnData. Making a copy.\n",
      "  view_to_actual(adata)\n",
      "Trying to set attribute `.obs` of view, copying.\n"
     ]
    },
    {
     "name": "stdout",
     "output_type": "stream",
     "text": [
      "Automatically set threshold at doublet score = 0.56\n",
      "Detected doublet rate = 0.1%\n",
      "Estimated detectable doublet fraction = 3.1%\n",
      "Overall doublet rate:\n",
      "\tExpected   = 5.0%\n",
      "\tEstimated  = 3.2%\n"
     ]
    },
    {
     "name": "stderr",
     "output_type": "stream",
     "text": [
      "/home/dwm269/miniconda3/envs/pyRNA4/lib/python3.9/site-packages/scanpy/plotting/_utils.py:314: UserWarning: Matplotlib is currently using agg, which is a non-GUI backend, so cannot show the figure.\n",
      "  pl.show()\n"
     ]
    },
    {
     "name": "stdout",
     "output_type": "stream",
     "text": [
      " \n"
     ]
    },
    {
     "name": "stderr",
     "output_type": "stream",
     "text": [
      "/home/dwm269/miniconda3/envs/pyRNA4/lib/python3.9/site-packages/scanpy/preprocessing/_normalization.py:170: UserWarning: Received a view of an AnnData. Making a copy.\n",
      "  view_to_actual(adata)\n",
      "Trying to set attribute `.obs` of view, copying.\n"
     ]
    },
    {
     "name": "stdout",
     "output_type": "stream",
     "text": [
      "Automatically set threshold at doublet score = 0.14\n",
      "Detected doublet rate = 5.4%\n",
      "Estimated detectable doublet fraction = 7.6%\n",
      "Overall doublet rate:\n",
      "\tExpected   = 5.0%\n",
      "\tEstimated  = 70.6%\n"
     ]
    },
    {
     "name": "stderr",
     "output_type": "stream",
     "text": [
      "/home/dwm269/miniconda3/envs/pyRNA4/lib/python3.9/site-packages/scanpy/plotting/_utils.py:314: UserWarning: Matplotlib is currently using agg, which is a non-GUI backend, so cannot show the figure.\n",
      "  pl.show()\n"
     ]
    },
    {
     "name": "stdout",
     "output_type": "stream",
     "text": [
      " \n"
     ]
    },
    {
     "name": "stderr",
     "output_type": "stream",
     "text": [
      "/home/dwm269/miniconda3/envs/pyRNA4/lib/python3.9/site-packages/scanpy/preprocessing/_normalization.py:170: UserWarning: Received a view of an AnnData. Making a copy.\n",
      "  view_to_actual(adata)\n",
      "Trying to set attribute `.obs` of view, copying.\n"
     ]
    },
    {
     "name": "stdout",
     "output_type": "stream",
     "text": [
      "Automatically set threshold at doublet score = 0.19\n",
      "Detected doublet rate = 1.6%\n",
      "Estimated detectable doublet fraction = 4.5%\n",
      "Overall doublet rate:\n",
      "\tExpected   = 5.0%\n",
      "\tEstimated  = 35.3%\n"
     ]
    },
    {
     "name": "stderr",
     "output_type": "stream",
     "text": [
      "/home/dwm269/miniconda3/envs/pyRNA4/lib/python3.9/site-packages/scanpy/plotting/_utils.py:314: UserWarning: Matplotlib is currently using agg, which is a non-GUI backend, so cannot show the figure.\n",
      "  pl.show()\n"
     ]
    },
    {
     "name": "stdout",
     "output_type": "stream",
     "text": [
      " \n"
     ]
    },
    {
     "name": "stderr",
     "output_type": "stream",
     "text": [
      "/home/dwm269/miniconda3/envs/pyRNA4/lib/python3.9/site-packages/scanpy/preprocessing/_normalization.py:170: UserWarning: Received a view of an AnnData. Making a copy.\n",
      "  view_to_actual(adata)\n",
      "Trying to set attribute `.obs` of view, copying.\n"
     ]
    },
    {
     "name": "stdout",
     "output_type": "stream",
     "text": [
      "Automatically set threshold at doublet score = 0.14\n",
      "Detected doublet rate = 5.2%\n",
      "Estimated detectable doublet fraction = 20.3%\n",
      "Overall doublet rate:\n",
      "\tExpected   = 5.0%\n",
      "\tEstimated  = 25.5%\n"
     ]
    },
    {
     "name": "stderr",
     "output_type": "stream",
     "text": [
      "/home/dwm269/miniconda3/envs/pyRNA4/lib/python3.9/site-packages/scanpy/plotting/_utils.py:314: UserWarning: Matplotlib is currently using agg, which is a non-GUI backend, so cannot show the figure.\n",
      "  pl.show()\n"
     ]
    },
    {
     "name": "stdout",
     "output_type": "stream",
     "text": [
      " \n"
     ]
    },
    {
     "name": "stderr",
     "output_type": "stream",
     "text": [
      "/home/dwm269/miniconda3/envs/pyRNA4/lib/python3.9/site-packages/scanpy/preprocessing/_normalization.py:170: UserWarning: Received a view of an AnnData. Making a copy.\n",
      "  view_to_actual(adata)\n",
      "Trying to set attribute `.obs` of view, copying.\n"
     ]
    },
    {
     "name": "stdout",
     "output_type": "stream",
     "text": [
      "Automatically set threshold at doublet score = 0.12\n",
      "Detected doublet rate = 11.8%\n",
      "Estimated detectable doublet fraction = 9.4%\n",
      "Overall doublet rate:\n",
      "\tExpected   = 5.0%\n",
      "\tEstimated  = 125.0%\n"
     ]
    },
    {
     "name": "stderr",
     "output_type": "stream",
     "text": [
      "/home/dwm269/miniconda3/envs/pyRNA4/lib/python3.9/site-packages/scanpy/plotting/_utils.py:314: UserWarning: Matplotlib is currently using agg, which is a non-GUI backend, so cannot show the figure.\n",
      "  pl.show()\n"
     ]
    },
    {
     "name": "stdout",
     "output_type": "stream",
     "text": [
      " \n"
     ]
    },
    {
     "name": "stderr",
     "output_type": "stream",
     "text": [
      "/home/dwm269/miniconda3/envs/pyRNA4/lib/python3.9/site-packages/scanpy/preprocessing/_normalization.py:170: UserWarning: Received a view of an AnnData. Making a copy.\n",
      "  view_to_actual(adata)\n",
      "Trying to set attribute `.obs` of view, copying.\n"
     ]
    },
    {
     "name": "stdout",
     "output_type": "stream",
     "text": [
      "Automatically set threshold at doublet score = 0.14\n",
      "Detected doublet rate = 9.6%\n",
      "Estimated detectable doublet fraction = 13.9%\n",
      "Overall doublet rate:\n",
      "\tExpected   = 5.0%\n",
      "\tEstimated  = 68.8%\n"
     ]
    },
    {
     "name": "stderr",
     "output_type": "stream",
     "text": [
      "/home/dwm269/miniconda3/envs/pyRNA4/lib/python3.9/site-packages/scanpy/plotting/_utils.py:314: UserWarning: Matplotlib is currently using agg, which is a non-GUI backend, so cannot show the figure.\n",
      "  pl.show()\n"
     ]
    },
    {
     "name": "stdout",
     "output_type": "stream",
     "text": [
      " \n"
     ]
    },
    {
     "name": "stderr",
     "output_type": "stream",
     "text": [
      "/home/dwm269/miniconda3/envs/pyRNA4/lib/python3.9/site-packages/scanpy/preprocessing/_normalization.py:170: UserWarning: Received a view of an AnnData. Making a copy.\n",
      "  view_to_actual(adata)\n",
      "Trying to set attribute `.obs` of view, copying.\n"
     ]
    },
    {
     "name": "stdout",
     "output_type": "stream",
     "text": [
      "Automatically set threshold at doublet score = 0.55\n",
      "Detected doublet rate = 0.2%\n",
      "Estimated detectable doublet fraction = 3.5%\n",
      "Overall doublet rate:\n",
      "\tExpected   = 5.0%\n",
      "\tEstimated  = 5.1%\n"
     ]
    },
    {
     "name": "stderr",
     "output_type": "stream",
     "text": [
      "/home/dwm269/miniconda3/envs/pyRNA4/lib/python3.9/site-packages/scanpy/plotting/_utils.py:314: UserWarning: Matplotlib is currently using agg, which is a non-GUI backend, so cannot show the figure.\n",
      "  pl.show()\n"
     ]
    },
    {
     "name": "stdout",
     "output_type": "stream",
     "text": [
      " \n"
     ]
    },
    {
     "name": "stderr",
     "output_type": "stream",
     "text": [
      "/home/dwm269/miniconda3/envs/pyRNA4/lib/python3.9/site-packages/scanpy/preprocessing/_normalization.py:170: UserWarning: Received a view of an AnnData. Making a copy.\n",
      "  view_to_actual(adata)\n",
      "Trying to set attribute `.obs` of view, copying.\n"
     ]
    },
    {
     "name": "stdout",
     "output_type": "stream",
     "text": [
      "Automatically set threshold at doublet score = 0.54\n",
      "Detected doublet rate = 0.2%\n",
      "Estimated detectable doublet fraction = 1.5%\n",
      "Overall doublet rate:\n",
      "\tExpected   = 5.0%\n",
      "\tEstimated  = 14.6%\n"
     ]
    },
    {
     "name": "stderr",
     "output_type": "stream",
     "text": [
      "/home/dwm269/miniconda3/envs/pyRNA4/lib/python3.9/site-packages/scanpy/plotting/_utils.py:314: UserWarning: Matplotlib is currently using agg, which is a non-GUI backend, so cannot show the figure.\n",
      "  pl.show()\n"
     ]
    },
    {
     "name": "stdout",
     "output_type": "stream",
     "text": [
      " \n"
     ]
    },
    {
     "name": "stderr",
     "output_type": "stream",
     "text": [
      "/home/dwm269/miniconda3/envs/pyRNA4/lib/python3.9/site-packages/scanpy/preprocessing/_normalization.py:170: UserWarning: Received a view of an AnnData. Making a copy.\n",
      "  view_to_actual(adata)\n",
      "Trying to set attribute `.obs` of view, copying.\n"
     ]
    },
    {
     "name": "stdout",
     "output_type": "stream",
     "text": [
      "Automatically set threshold at doublet score = 0.14\n",
      "Detected doublet rate = 8.5%\n",
      "Estimated detectable doublet fraction = 7.4%\n",
      "Overall doublet rate:\n",
      "\tExpected   = 5.0%\n",
      "\tEstimated  = 114.3%\n"
     ]
    },
    {
     "name": "stderr",
     "output_type": "stream",
     "text": [
      "/home/dwm269/miniconda3/envs/pyRNA4/lib/python3.9/site-packages/scanpy/plotting/_utils.py:314: UserWarning: Matplotlib is currently using agg, which is a non-GUI backend, so cannot show the figure.\n",
      "  pl.show()\n"
     ]
    },
    {
     "name": "stdout",
     "output_type": "stream",
     "text": [
      " \n"
     ]
    },
    {
     "name": "stderr",
     "output_type": "stream",
     "text": [
      "/home/dwm269/miniconda3/envs/pyRNA4/lib/python3.9/site-packages/scanpy/preprocessing/_normalization.py:170: UserWarning: Received a view of an AnnData. Making a copy.\n",
      "  view_to_actual(adata)\n",
      "Trying to set attribute `.obs` of view, copying.\n"
     ]
    },
    {
     "name": "stdout",
     "output_type": "stream",
     "text": [
      "Automatically set threshold at doublet score = 0.14\n",
      "Detected doublet rate = 1.1%\n",
      "Estimated detectable doublet fraction = 9.8%\n",
      "Overall doublet rate:\n",
      "\tExpected   = 5.0%\n",
      "\tEstimated  = 11.8%\n"
     ]
    },
    {
     "name": "stderr",
     "output_type": "stream",
     "text": [
      "/home/dwm269/miniconda3/envs/pyRNA4/lib/python3.9/site-packages/scanpy/plotting/_utils.py:314: UserWarning: Matplotlib is currently using agg, which is a non-GUI backend, so cannot show the figure.\n",
      "  pl.show()\n"
     ]
    },
    {
     "name": "stdout",
     "output_type": "stream",
     "text": [
      " \n"
     ]
    },
    {
     "name": "stderr",
     "output_type": "stream",
     "text": [
      "/home/dwm269/miniconda3/envs/pyRNA4/lib/python3.9/site-packages/scanpy/preprocessing/_normalization.py:170: UserWarning: Received a view of an AnnData. Making a copy.\n",
      "  view_to_actual(adata)\n",
      "Trying to set attribute `.obs` of view, copying.\n"
     ]
    },
    {
     "name": "stdout",
     "output_type": "stream",
     "text": [
      "Automatically set threshold at doublet score = 0.14\n",
      "Detected doublet rate = 6.4%\n",
      "Estimated detectable doublet fraction = 12.2%\n",
      "Overall doublet rate:\n",
      "\tExpected   = 5.0%\n",
      "\tEstimated  = 52.2%\n"
     ]
    },
    {
     "name": "stderr",
     "output_type": "stream",
     "text": [
      "/home/dwm269/miniconda3/envs/pyRNA4/lib/python3.9/site-packages/scanpy/plotting/_utils.py:314: UserWarning: Matplotlib is currently using agg, which is a non-GUI backend, so cannot show the figure.\n",
      "  pl.show()\n"
     ]
    },
    {
     "name": "stdout",
     "output_type": "stream",
     "text": [
      " \n"
     ]
    },
    {
     "name": "stderr",
     "output_type": "stream",
     "text": [
      "/home/dwm269/miniconda3/envs/pyRNA4/lib/python3.9/site-packages/scanpy/preprocessing/_normalization.py:170: UserWarning: Received a view of an AnnData. Making a copy.\n",
      "  view_to_actual(adata)\n",
      "Trying to set attribute `.obs` of view, copying.\n"
     ]
    },
    {
     "name": "stdout",
     "output_type": "stream",
     "text": [
      "Automatically set threshold at doublet score = 0.06\n",
      "Detected doublet rate = 51.1%\n",
      "Estimated detectable doublet fraction = 33.0%\n",
      "Overall doublet rate:\n",
      "\tExpected   = 5.0%\n",
      "\tEstimated  = 154.8%\n"
     ]
    },
    {
     "name": "stderr",
     "output_type": "stream",
     "text": [
      "/home/dwm269/miniconda3/envs/pyRNA4/lib/python3.9/site-packages/scanpy/plotting/_utils.py:314: UserWarning: Matplotlib is currently using agg, which is a non-GUI backend, so cannot show the figure.\n",
      "  pl.show()\n"
     ]
    },
    {
     "name": "stdout",
     "output_type": "stream",
     "text": [
      " \n"
     ]
    },
    {
     "name": "stderr",
     "output_type": "stream",
     "text": [
      "/home/dwm269/miniconda3/envs/pyRNA4/lib/python3.9/site-packages/scanpy/preprocessing/_normalization.py:170: UserWarning: Received a view of an AnnData. Making a copy.\n",
      "  view_to_actual(adata)\n",
      "Trying to set attribute `.obs` of view, copying.\n"
     ]
    },
    {
     "name": "stdout",
     "output_type": "stream",
     "text": [
      "Automatically set threshold at doublet score = 0.11\n",
      "Detected doublet rate = 15.3%\n",
      "Estimated detectable doublet fraction = 5.1%\n",
      "Overall doublet rate:\n",
      "\tExpected   = 5.0%\n",
      "\tEstimated  = 300.0%\n"
     ]
    },
    {
     "name": "stderr",
     "output_type": "stream",
     "text": [
      "/home/dwm269/miniconda3/envs/pyRNA4/lib/python3.9/site-packages/scanpy/plotting/_utils.py:314: UserWarning: Matplotlib is currently using agg, which is a non-GUI backend, so cannot show the figure.\n",
      "  pl.show()\n"
     ]
    },
    {
     "name": "stdout",
     "output_type": "stream",
     "text": [
      " \n"
     ]
    },
    {
     "name": "stderr",
     "output_type": "stream",
     "text": [
      "/home/dwm269/miniconda3/envs/pyRNA4/lib/python3.9/site-packages/scanpy/preprocessing/_normalization.py:170: UserWarning: Received a view of an AnnData. Making a copy.\n",
      "  view_to_actual(adata)\n",
      "Trying to set attribute `.obs` of view, copying.\n"
     ]
    },
    {
     "name": "stdout",
     "output_type": "stream",
     "text": [
      "Automatically set threshold at doublet score = 0.55\n",
      "Detected doublet rate = 0.2%\n",
      "Estimated detectable doublet fraction = 3.3%\n",
      "Overall doublet rate:\n",
      "\tExpected   = 5.0%\n",
      "\tEstimated  = 4.8%\n"
     ]
    },
    {
     "name": "stderr",
     "output_type": "stream",
     "text": [
      "/home/dwm269/miniconda3/envs/pyRNA4/lib/python3.9/site-packages/scanpy/plotting/_utils.py:314: UserWarning: Matplotlib is currently using agg, which is a non-GUI backend, so cannot show the figure.\n",
      "  pl.show()\n"
     ]
    },
    {
     "name": "stdout",
     "output_type": "stream",
     "text": [
      " \n"
     ]
    },
    {
     "name": "stderr",
     "output_type": "stream",
     "text": [
      "/home/dwm269/miniconda3/envs/pyRNA4/lib/python3.9/site-packages/scanpy/preprocessing/_normalization.py:170: UserWarning: Received a view of an AnnData. Making a copy.\n",
      "  view_to_actual(adata)\n",
      "Trying to set attribute `.obs` of view, copying.\n"
     ]
    },
    {
     "name": "stdout",
     "output_type": "stream",
     "text": [
      "Automatically set threshold at doublet score = 0.35\n",
      "Detected doublet rate = 0.1%\n",
      "Estimated detectable doublet fraction = 0.3%\n",
      "Overall doublet rate:\n",
      "\tExpected   = 5.0%\n",
      "\tEstimated  = 17.4%\n"
     ]
    },
    {
     "name": "stderr",
     "output_type": "stream",
     "text": [
      "/home/dwm269/miniconda3/envs/pyRNA4/lib/python3.9/site-packages/scanpy/plotting/_utils.py:314: UserWarning: Matplotlib is currently using agg, which is a non-GUI backend, so cannot show the figure.\n",
      "  pl.show()\n"
     ]
    },
    {
     "name": "stdout",
     "output_type": "stream",
     "text": [
      " \n"
     ]
    },
    {
     "name": "stderr",
     "output_type": "stream",
     "text": [
      "/home/dwm269/miniconda3/envs/pyRNA4/lib/python3.9/site-packages/scanpy/preprocessing/_normalization.py:170: UserWarning: Received a view of an AnnData. Making a copy.\n",
      "  view_to_actual(adata)\n",
      "Trying to set attribute `.obs` of view, copying.\n"
     ]
    },
    {
     "name": "stdout",
     "output_type": "stream",
     "text": [
      "Automatically set threshold at doublet score = 0.68\n",
      "Detected doublet rate = 0.0%\n",
      "Estimated detectable doublet fraction = 0.5%\n",
      "Overall doublet rate:\n",
      "\tExpected   = 5.0%\n",
      "\tEstimated  = 2.6%\n"
     ]
    },
    {
     "name": "stderr",
     "output_type": "stream",
     "text": [
      "/home/dwm269/miniconda3/envs/pyRNA4/lib/python3.9/site-packages/scanpy/plotting/_utils.py:314: UserWarning: Matplotlib is currently using agg, which is a non-GUI backend, so cannot show the figure.\n",
      "  pl.show()\n"
     ]
    },
    {
     "name": "stdout",
     "output_type": "stream",
     "text": [
      " \n"
     ]
    },
    {
     "name": "stderr",
     "output_type": "stream",
     "text": [
      "/home/dwm269/miniconda3/envs/pyRNA4/lib/python3.9/site-packages/scanpy/preprocessing/_normalization.py:170: UserWarning: Received a view of an AnnData. Making a copy.\n",
      "  view_to_actual(adata)\n",
      "Trying to set attribute `.obs` of view, copying.\n"
     ]
    },
    {
     "name": "stdout",
     "output_type": "stream",
     "text": [
      "Automatically set threshold at doublet score = 0.54\n",
      "Detected doublet rate = 0.0%\n",
      "Estimated detectable doublet fraction = 0.1%\n",
      "Overall doublet rate:\n",
      "\tExpected   = 5.0%\n",
      "\tEstimated  = 15.4%\n"
     ]
    },
    {
     "name": "stderr",
     "output_type": "stream",
     "text": [
      "/home/dwm269/miniconda3/envs/pyRNA4/lib/python3.9/site-packages/scanpy/plotting/_utils.py:314: UserWarning: Matplotlib is currently using agg, which is a non-GUI backend, so cannot show the figure.\n",
      "  pl.show()\n"
     ]
    },
    {
     "name": "stdout",
     "output_type": "stream",
     "text": [
      " \n"
     ]
    },
    {
     "name": "stderr",
     "output_type": "stream",
     "text": [
      "/home/dwm269/miniconda3/envs/pyRNA4/lib/python3.9/site-packages/scanpy/preprocessing/_normalization.py:170: UserWarning: Received a view of an AnnData. Making a copy.\n",
      "  view_to_actual(adata)\n",
      "Trying to set attribute `.obs` of view, copying.\n"
     ]
    },
    {
     "name": "stdout",
     "output_type": "stream",
     "text": [
      "Automatically set threshold at doublet score = 0.57\n",
      "Detected doublet rate = 0.0%\n",
      "Estimated detectable doublet fraction = 0.2%\n",
      "Overall doublet rate:\n",
      "\tExpected   = 5.0%\n",
      "\tEstimated  = 6.7%\n"
     ]
    },
    {
     "name": "stderr",
     "output_type": "stream",
     "text": [
      "/home/dwm269/miniconda3/envs/pyRNA4/lib/python3.9/site-packages/scanpy/plotting/_utils.py:314: UserWarning: Matplotlib is currently using agg, which is a non-GUI backend, so cannot show the figure.\n",
      "  pl.show()\n"
     ]
    },
    {
     "name": "stdout",
     "output_type": "stream",
     "text": [
      " \n"
     ]
    }
   ],
   "source": [
    "sc.settings.set_figure_params(\n",
    "    fontsize=8\n",
    ")\n",
    "\n",
    "for i in range(0,meta.shape[0]):\n",
    "    try:\n",
    "        sc.external.pp.scrublet(\n",
    "            scm_list[i]\n",
    "        )\n",
    "        sc.external.pl.scrublet_score_distribution(\n",
    "            scm_list[i],\n",
    "            figsize =[6,2.25]\n",
    "        )\n",
    "            \n",
    "    except:\n",
    "            print(\"Exception with \" + meta[\"sample\"][i])\n",
    "        \n",
    "    print(\" \")"
   ]
  },
  {
   "cell_type": "markdown",
   "id": "4b9e5357-3831-49fc-847b-a4af38762895",
   "metadata": {},
   "source": [
    "Estimate doublet score cutoff values for each sample"
   ]
  },
  {
   "cell_type": "code",
   "execution_count": null,
   "id": "085d0cac-6c9a-400d-ad21-add8b1f4ad72",
   "metadata": {},
   "outputs": [],
   "source": [
    "cutoff_threshold = [\n",
    "    0.63, 0.63, \n",
    "    0.59, #D4_200um\n",
    "    0.52, \n",
    "    0.6, #D4_1000um\n",
    "    0.24, \n",
    "    0.2, 0.24,\n",
    "#     0.58, # D20_600um\n",
    "    0.63, # D21_200um\n",
    "    0.18,\n",
    "    0.18 #D21_1000um\n",
    "]"
   ]
  },
  {
   "cell_type": "code",
   "execution_count": 56,
   "id": "22f1e3b5-b5c3-4cb5-bde5-22fd60e951c1",
   "metadata": {},
   "outputs": [
    {
     "data": {
      "text/plain": [
       "['',\n",
       " AnnData object with n_obs × n_vars = 5234 × 61860\n",
       "     obs: 'source.label', 'sample', 'description', 'tissue', 'subtissue', 'comments', 'include', 'species', 'GSE.accession', 'GSM.accession', 'chemistry', 'file.format', 'SRR.accession', 'file_link', 'experiment.accession', 'study.accession', 'sample.accession', 'SAMN.accession', 'file_checksum', 'other.accession', 'source', 'manuscript.doi', 'manuscript.pubmed', 'experiment.instrument', 'study.title', 'study.abstract', 'n_genes', 'n_counts', 'n_genes_by_counts', 'total_counts', 'total_counts_mito', 'pct_counts_mito', 'doublet_score', 'predicted_doublet'\n",
       "     var: 'gene_ids', 'feature_types', 'mito', 'n_cells_by_counts', 'mean_counts', 'pct_dropout_by_counts', 'total_counts'\n",
       "     uns: 'scrublet'\n",
       "     layers: 'counts',\n",
       " AnnData object with n_obs × n_vars = 5110 × 61860\n",
       "     obs: 'source.label', 'sample', 'description', 'tissue', 'subtissue', 'comments', 'include', 'species', 'GSE.accession', 'GSM.accession', 'chemistry', 'file.format', 'SRR.accession', 'file_link', 'experiment.accession', 'study.accession', 'sample.accession', 'SAMN.accession', 'file_checksum', 'other.accession', 'source', 'manuscript.doi', 'manuscript.pubmed', 'experiment.instrument', 'study.title', 'study.abstract', 'n_genes', 'n_counts', 'n_genes_by_counts', 'total_counts', 'total_counts_mito', 'pct_counts_mito', 'doublet_score', 'predicted_doublet'\n",
       "     var: 'gene_ids', 'feature_types', 'mito', 'n_cells_by_counts', 'mean_counts', 'pct_dropout_by_counts', 'total_counts'\n",
       "     uns: 'scrublet'\n",
       "     layers: 'counts',\n",
       " AnnData object with n_obs × n_vars = 5917 × 61860\n",
       "     obs: 'source.label', 'sample', 'description', 'tissue', 'subtissue', 'comments', 'include', 'species', 'GSE.accession', 'GSM.accession', 'chemistry', 'file.format', 'SRR.accession', 'file_link', 'experiment.accession', 'study.accession', 'sample.accession', 'SAMN.accession', 'file_checksum', 'other.accession', 'source', 'manuscript.doi', 'manuscript.pubmed', 'experiment.instrument', 'study.title', 'study.abstract', 'n_genes', 'n_counts', 'n_genes_by_counts', 'total_counts', 'total_counts_mito', 'pct_counts_mito', 'doublet_score', 'predicted_doublet'\n",
       "     var: 'gene_ids', 'feature_types', 'mito', 'n_cells_by_counts', 'mean_counts', 'pct_dropout_by_counts', 'total_counts'\n",
       "     uns: 'scrublet'\n",
       "     layers: 'counts',\n",
       " AnnData object with n_obs × n_vars = 9780 × 61860\n",
       "     obs: 'source.label', 'sample', 'description', 'tissue', 'subtissue', 'comments', 'include', 'species', 'GSE.accession', 'GSM.accession', 'chemistry', 'file.format', 'SRR.accession', 'file_link', 'experiment.accession', 'study.accession', 'sample.accession', 'SAMN.accession', 'file_checksum', 'other.accession', 'source', 'manuscript.doi', 'manuscript.pubmed', 'experiment.instrument', 'study.title', 'study.abstract', 'n_genes', 'n_counts', 'n_genes_by_counts', 'total_counts', 'total_counts_mito', 'pct_counts_mito', 'doublet_score', 'predicted_doublet'\n",
       "     var: 'gene_ids', 'feature_types', 'mito', 'n_cells_by_counts', 'mean_counts', 'pct_dropout_by_counts', 'total_counts'\n",
       "     uns: 'scrublet'\n",
       "     layers: 'counts',\n",
       " AnnData object with n_obs × n_vars = 1476 × 61860\n",
       "     obs: 'source.label', 'sample', 'description', 'tissue', 'subtissue', 'comments', 'include', 'species', 'GSE.accession', 'GSM.accession', 'chemistry', 'file.format', 'SRR.accession', 'file_link', 'experiment.accession', 'study.accession', 'sample.accession', 'SAMN.accession', 'file_checksum', 'other.accession', 'source', 'manuscript.doi', 'manuscript.pubmed', 'experiment.instrument', 'study.title', 'study.abstract', 'n_genes', 'n_counts', 'n_genes_by_counts', 'total_counts', 'total_counts_mito', 'pct_counts_mito', 'doublet_score', 'predicted_doublet'\n",
       "     var: 'gene_ids', 'feature_types', 'mito', 'n_cells_by_counts', 'mean_counts', 'pct_dropout_by_counts', 'total_counts'\n",
       "     uns: 'scrublet'\n",
       "     layers: 'counts',\n",
       " AnnData object with n_obs × n_vars = 673 × 61860\n",
       "     obs: 'source.label', 'sample', 'description', 'tissue', 'subtissue', 'comments', 'include', 'species', 'GSE.accession', 'GSM.accession', 'chemistry', 'file.format', 'SRR.accession', 'file_link', 'experiment.accession', 'study.accession', 'sample.accession', 'SAMN.accession', 'file_checksum', 'other.accession', 'source', 'manuscript.doi', 'manuscript.pubmed', 'experiment.instrument', 'study.title', 'study.abstract', 'n_genes', 'n_counts', 'n_genes_by_counts', 'total_counts', 'total_counts_mito', 'pct_counts_mito', 'doublet_score', 'predicted_doublet'\n",
       "     var: 'gene_ids', 'feature_types', 'mito', 'n_cells_by_counts', 'mean_counts', 'pct_dropout_by_counts', 'total_counts'\n",
       "     uns: 'scrublet'\n",
       "     layers: 'counts',\n",
       " AnnData object with n_obs × n_vars = 1095 × 61860\n",
       "     obs: 'source.label', 'sample', 'description', 'tissue', 'subtissue', 'comments', 'include', 'species', 'GSE.accession', 'GSM.accession', 'chemistry', 'file.format', 'SRR.accession', 'file_link', 'experiment.accession', 'study.accession', 'sample.accession', 'SAMN.accession', 'file_checksum', 'other.accession', 'source', 'manuscript.doi', 'manuscript.pubmed', 'experiment.instrument', 'study.title', 'study.abstract', 'n_genes', 'n_counts', 'n_genes_by_counts', 'total_counts', 'total_counts_mito', 'pct_counts_mito', 'doublet_score', 'predicted_doublet'\n",
       "     var: 'gene_ids', 'feature_types', 'mito', 'n_cells_by_counts', 'mean_counts', 'pct_dropout_by_counts', 'total_counts'\n",
       "     uns: 'scrublet'\n",
       "     layers: 'counts',\n",
       " AnnData object with n_obs × n_vars = 242 × 61860\n",
       "     obs: 'source.label', 'sample', 'description', 'tissue', 'subtissue', 'comments', 'include', 'species', 'GSE.accession', 'GSM.accession', 'chemistry', 'file.format', 'SRR.accession', 'file_link', 'experiment.accession', 'study.accession', 'sample.accession', 'SAMN.accession', 'file_checksum', 'other.accession', 'source', 'manuscript.doi', 'manuscript.pubmed', 'experiment.instrument', 'study.title', 'study.abstract', 'n_genes', 'n_counts', 'n_genes_by_counts', 'total_counts', 'total_counts_mito', 'pct_counts_mito', 'doublet_score', 'predicted_doublet'\n",
       "     var: 'gene_ids', 'feature_types', 'mito', 'n_cells_by_counts', 'mean_counts', 'pct_dropout_by_counts', 'total_counts'\n",
       "     uns: 'scrublet'\n",
       "     layers: 'counts',\n",
       " AnnData object with n_obs × n_vars = 739 × 61860\n",
       "     obs: 'source.label', 'sample', 'description', 'tissue', 'subtissue', 'comments', 'include', 'species', 'GSE.accession', 'GSM.accession', 'chemistry', 'file.format', 'SRR.accession', 'file_link', 'experiment.accession', 'study.accession', 'sample.accession', 'SAMN.accession', 'file_checksum', 'other.accession', 'source', 'manuscript.doi', 'manuscript.pubmed', 'experiment.instrument', 'study.title', 'study.abstract', 'n_genes', 'n_counts', 'n_genes_by_counts', 'total_counts', 'total_counts_mito', 'pct_counts_mito', 'doublet_score', 'predicted_doublet'\n",
       "     var: 'gene_ids', 'feature_types', 'mito', 'n_cells_by_counts', 'mean_counts', 'pct_dropout_by_counts', 'total_counts'\n",
       "     uns: 'scrublet'\n",
       "     layers: 'counts',\n",
       " AnnData object with n_obs × n_vars = 4670 × 61860\n",
       "     obs: 'source.label', 'sample', 'description', 'tissue', 'subtissue', 'comments', 'include', 'species', 'GSE.accession', 'GSM.accession', 'chemistry', 'file.format', 'SRR.accession', 'file_link', 'experiment.accession', 'study.accession', 'sample.accession', 'SAMN.accession', 'file_checksum', 'other.accession', 'source', 'manuscript.doi', 'manuscript.pubmed', 'experiment.instrument', 'study.title', 'study.abstract', 'n_genes', 'n_counts', 'n_genes_by_counts', 'total_counts', 'total_counts_mito', 'pct_counts_mito', 'doublet_score', 'predicted_doublet'\n",
       "     var: 'gene_ids', 'feature_types', 'mito', 'n_cells_by_counts', 'mean_counts', 'pct_dropout_by_counts', 'total_counts'\n",
       "     uns: 'scrublet'\n",
       "     layers: 'counts',\n",
       " AnnData object with n_obs × n_vars = 2506 × 61860\n",
       "     obs: 'source.label', 'sample', 'description', 'tissue', 'subtissue', 'comments', 'include', 'species', 'GSE.accession', 'GSM.accession', 'chemistry', 'file.format', 'SRR.accession', 'file_link', 'experiment.accession', 'study.accession', 'sample.accession', 'SAMN.accession', 'file_checksum', 'other.accession', 'source', 'manuscript.doi', 'manuscript.pubmed', 'experiment.instrument', 'study.title', 'study.abstract', 'n_genes', 'n_counts', 'n_genes_by_counts', 'total_counts', 'total_counts_mito', 'pct_counts_mito', 'doublet_score', 'predicted_doublet'\n",
       "     var: 'gene_ids', 'feature_types', 'mito', 'n_cells_by_counts', 'mean_counts', 'pct_dropout_by_counts', 'total_counts'\n",
       "     uns: 'scrublet'\n",
       "     layers: 'counts',\n",
       " AnnData object with n_obs × n_vars = 4476 × 61860\n",
       "     obs: 'source.label', 'sample', 'description', 'tissue', 'subtissue', 'comments', 'include', 'species', 'GSE.accession', 'GSM.accession', 'chemistry', 'file.format', 'SRR.accession', 'file_link', 'experiment.accession', 'study.accession', 'sample.accession', 'SAMN.accession', 'file_checksum', 'other.accession', 'source', 'manuscript.doi', 'manuscript.pubmed', 'experiment.instrument', 'study.title', 'study.abstract', 'n_genes', 'n_counts', 'n_genes_by_counts', 'total_counts', 'total_counts_mito', 'pct_counts_mito', 'doublet_score', 'predicted_doublet'\n",
       "     var: 'gene_ids', 'feature_types', 'mito', 'n_cells_by_counts', 'mean_counts', 'pct_dropout_by_counts', 'total_counts'\n",
       "     uns: 'scrublet'\n",
       "     layers: 'counts',\n",
       " AnnData object with n_obs × n_vars = 9254 × 61860\n",
       "     obs: 'source.label', 'sample', 'description', 'tissue', 'subtissue', 'comments', 'include', 'species', 'GSE.accession', 'GSM.accession', 'chemistry', 'file.format', 'SRR.accession', 'file_link', 'experiment.accession', 'study.accession', 'sample.accession', 'SAMN.accession', 'file_checksum', 'other.accession', 'source', 'manuscript.doi', 'manuscript.pubmed', 'experiment.instrument', 'study.title', 'study.abstract', 'n_genes', 'n_counts', 'n_genes_by_counts', 'total_counts', 'total_counts_mito', 'pct_counts_mito', 'doublet_score', 'predicted_doublet'\n",
       "     var: 'gene_ids', 'feature_types', 'mito', 'n_cells_by_counts', 'mean_counts', 'pct_dropout_by_counts', 'total_counts'\n",
       "     uns: 'scrublet'\n",
       "     layers: 'counts',\n",
       " AnnData object with n_obs × n_vars = 7572 × 61860\n",
       "     obs: 'source.label', 'sample', 'description', 'tissue', 'subtissue', 'comments', 'include', 'species', 'GSE.accession', 'GSM.accession', 'chemistry', 'file.format', 'SRR.accession', 'file_link', 'experiment.accession', 'study.accession', 'sample.accession', 'SAMN.accession', 'file_checksum', 'other.accession', 'source', 'manuscript.doi', 'manuscript.pubmed', 'experiment.instrument', 'study.title', 'study.abstract', 'n_genes', 'n_counts', 'n_genes_by_counts', 'total_counts', 'total_counts_mito', 'pct_counts_mito', 'doublet_score', 'predicted_doublet'\n",
       "     var: 'gene_ids', 'feature_types', 'mito', 'n_cells_by_counts', 'mean_counts', 'pct_dropout_by_counts', 'total_counts'\n",
       "     uns: 'scrublet'\n",
       "     layers: 'counts',\n",
       " '',\n",
       " '',\n",
       " '',\n",
       " '',\n",
       " '',\n",
       " '',\n",
       " '',\n",
       " '',\n",
       " '',\n",
       " '',\n",
       " '',\n",
       " '',\n",
       " '',\n",
       " '',\n",
       " '',\n",
       " '',\n",
       " '',\n",
       " AnnData object with n_obs × n_vars = 7632 × 61860\n",
       "     obs: 'source.label', 'sample', 'description', 'tissue', 'subtissue', 'comments', 'include', 'species', 'GSE.accession', 'GSM.accession', 'chemistry', 'file.format', 'SRR.accession', 'file_link', 'experiment.accession', 'study.accession', 'sample.accession', 'SAMN.accession', 'file_checksum', 'other.accession', 'source', 'manuscript.doi', 'manuscript.pubmed', 'experiment.instrument', 'study.title', 'study.abstract', 'n_genes', 'n_counts', 'n_genes_by_counts', 'total_counts', 'total_counts_mito', 'pct_counts_mito', 'doublet_score', 'predicted_doublet'\n",
       "     var: 'gene_ids', 'feature_types', 'mito', 'n_cells_by_counts', 'mean_counts', 'pct_dropout_by_counts', 'total_counts'\n",
       "     uns: 'scrublet'\n",
       "     layers: 'counts',\n",
       " AnnData object with n_obs × n_vars = 6545 × 61860\n",
       "     obs: 'source.label', 'sample', 'description', 'tissue', 'subtissue', 'comments', 'include', 'species', 'GSE.accession', 'GSM.accession', 'chemistry', 'file.format', 'SRR.accession', 'file_link', 'experiment.accession', 'study.accession', 'sample.accession', 'SAMN.accession', 'file_checksum', 'other.accession', 'source', 'manuscript.doi', 'manuscript.pubmed', 'experiment.instrument', 'study.title', 'study.abstract', 'n_genes', 'n_counts', 'n_genes_by_counts', 'total_counts', 'total_counts_mito', 'pct_counts_mito', 'doublet_score', 'predicted_doublet'\n",
       "     var: 'gene_ids', 'feature_types', 'mito', 'n_cells_by_counts', 'mean_counts', 'pct_dropout_by_counts', 'total_counts'\n",
       "     uns: 'scrublet'\n",
       "     layers: 'counts',\n",
       " AnnData object with n_obs × n_vars = 6435 × 61860\n",
       "     obs: 'source.label', 'sample', 'description', 'tissue', 'subtissue', 'comments', 'include', 'species', 'GSE.accession', 'GSM.accession', 'chemistry', 'file.format', 'SRR.accession', 'file_link', 'experiment.accession', 'study.accession', 'sample.accession', 'SAMN.accession', 'file_checksum', 'other.accession', 'source', 'manuscript.doi', 'manuscript.pubmed', 'experiment.instrument', 'study.title', 'study.abstract', 'n_genes', 'n_counts', 'n_genes_by_counts', 'total_counts', 'total_counts_mito', 'pct_counts_mito', 'doublet_score', 'predicted_doublet'\n",
       "     var: 'gene_ids', 'feature_types', 'mito', 'n_cells_by_counts', 'mean_counts', 'pct_dropout_by_counts', 'total_counts'\n",
       "     uns: 'scrublet'\n",
       "     layers: 'counts',\n",
       " AnnData object with n_obs × n_vars = 5535 × 61860\n",
       "     obs: 'source.label', 'sample', 'description', 'tissue', 'subtissue', 'comments', 'include', 'species', 'GSE.accession', 'GSM.accession', 'chemistry', 'file.format', 'SRR.accession', 'file_link', 'experiment.accession', 'study.accession', 'sample.accession', 'SAMN.accession', 'file_checksum', 'other.accession', 'source', 'manuscript.doi', 'manuscript.pubmed', 'experiment.instrument', 'study.title', 'study.abstract', 'n_genes', 'n_counts', 'n_genes_by_counts', 'total_counts', 'total_counts_mito', 'pct_counts_mito', 'doublet_score', 'predicted_doublet'\n",
       "     var: 'gene_ids', 'feature_types', 'mito', 'n_cells_by_counts', 'mean_counts', 'pct_dropout_by_counts', 'total_counts'\n",
       "     uns: 'scrublet'\n",
       "     layers: 'counts',\n",
       " AnnData object with n_obs × n_vars = 8228 × 61860\n",
       "     obs: 'source.label', 'sample', 'description', 'tissue', 'subtissue', 'comments', 'include', 'species', 'GSE.accession', 'GSM.accession', 'chemistry', 'file.format', 'SRR.accession', 'file_link', 'experiment.accession', 'study.accession', 'sample.accession', 'SAMN.accession', 'file_checksum', 'other.accession', 'source', 'manuscript.doi', 'manuscript.pubmed', 'experiment.instrument', 'study.title', 'study.abstract', 'n_genes', 'n_counts', 'n_genes_by_counts', 'total_counts', 'total_counts_mito', 'pct_counts_mito', 'doublet_score', 'predicted_doublet'\n",
       "     var: 'gene_ids', 'feature_types', 'mito', 'n_cells_by_counts', 'mean_counts', 'pct_dropout_by_counts', 'total_counts'\n",
       "     uns: 'scrublet'\n",
       "     layers: 'counts',\n",
       " AnnData object with n_obs × n_vars = 195 × 61860\n",
       "     obs: 'source.label', 'sample', 'description', 'tissue', 'subtissue', 'comments', 'include', 'species', 'GSE.accession', 'GSM.accession', 'chemistry', 'file.format', 'SRR.accession', 'file_link', 'experiment.accession', 'study.accession', 'sample.accession', 'SAMN.accession', 'file_checksum', 'other.accession', 'source', 'manuscript.doi', 'manuscript.pubmed', 'experiment.instrument', 'study.title', 'study.abstract', 'n_genes', 'n_counts', 'n_genes_by_counts', 'total_counts', 'total_counts_mito', 'pct_counts_mito', 'doublet_score', 'predicted_doublet'\n",
       "     var: 'gene_ids', 'feature_types', 'mito', 'n_cells_by_counts', 'mean_counts', 'pct_dropout_by_counts', 'total_counts'\n",
       "     uns: 'scrublet'\n",
       "     layers: 'counts',\n",
       " AnnData object with n_obs × n_vars = 8032 × 61860\n",
       "     obs: 'source.label', 'sample', 'description', 'tissue', 'subtissue', 'comments', 'include', 'species', 'GSE.accession', 'GSM.accession', 'chemistry', 'file.format', 'SRR.accession', 'file_link', 'experiment.accession', 'study.accession', 'sample.accession', 'SAMN.accession', 'file_checksum', 'other.accession', 'source', 'manuscript.doi', 'manuscript.pubmed', 'experiment.instrument', 'study.title', 'study.abstract', 'n_genes', 'n_counts', 'n_genes_by_counts', 'total_counts', 'total_counts_mito', 'pct_counts_mito', 'doublet_score', 'predicted_doublet'\n",
       "     var: 'gene_ids', 'feature_types', 'mito', 'n_cells_by_counts', 'mean_counts', 'pct_dropout_by_counts', 'total_counts'\n",
       "     uns: 'scrublet'\n",
       "     layers: 'counts',\n",
       " AnnData object with n_obs × n_vars = 3740 × 61860\n",
       "     obs: 'source.label', 'sample', 'description', 'tissue', 'subtissue', 'comments', 'include', 'species', 'GSE.accession', 'GSM.accession', 'chemistry', 'file.format', 'SRR.accession', 'file_link', 'experiment.accession', 'study.accession', 'sample.accession', 'SAMN.accession', 'file_checksum', 'other.accession', 'source', 'manuscript.doi', 'manuscript.pubmed', 'experiment.instrument', 'study.title', 'study.abstract', 'n_genes', 'n_counts', 'n_genes_by_counts', 'total_counts', 'total_counts_mito', 'pct_counts_mito', 'doublet_score', 'predicted_doublet'\n",
       "     var: 'gene_ids', 'feature_types', 'mito', 'n_cells_by_counts', 'mean_counts', 'pct_dropout_by_counts', 'total_counts'\n",
       "     uns: 'scrublet'\n",
       "     layers: 'counts',\n",
       " AnnData object with n_obs × n_vars = 145 × 61860\n",
       "     obs: 'source.label', 'sample', 'description', 'tissue', 'subtissue', 'comments', 'include', 'species', 'GSE.accession', 'GSM.accession', 'chemistry', 'file.format', 'SRR.accession', 'file_link', 'experiment.accession', 'study.accession', 'sample.accession', 'SAMN.accession', 'file_checksum', 'other.accession', 'source', 'manuscript.doi', 'manuscript.pubmed', 'experiment.instrument', 'study.title', 'study.abstract', 'n_genes', 'n_counts', 'n_genes_by_counts', 'total_counts', 'total_counts_mito', 'pct_counts_mito', 'doublet_score', 'predicted_doublet'\n",
       "     var: 'gene_ids', 'feature_types', 'mito', 'n_cells_by_counts', 'mean_counts', 'pct_dropout_by_counts', 'total_counts'\n",
       "     uns: 'scrublet'\n",
       "     layers: 'counts',\n",
       " AnnData object with n_obs × n_vars = 110 × 61860\n",
       "     obs: 'source.label', 'sample', 'description', 'tissue', 'subtissue', 'comments', 'include', 'species', 'GSE.accession', 'GSM.accession', 'chemistry', 'file.format', 'SRR.accession', 'file_link', 'experiment.accession', 'study.accession', 'sample.accession', 'SAMN.accession', 'file_checksum', 'other.accession', 'source', 'manuscript.doi', 'manuscript.pubmed', 'experiment.instrument', 'study.title', 'study.abstract', 'n_genes', 'n_counts', 'n_genes_by_counts', 'total_counts', 'total_counts_mito', 'pct_counts_mito', 'doublet_score', 'predicted_doublet'\n",
       "     var: 'gene_ids', 'feature_types', 'mito', 'n_cells_by_counts', 'mean_counts', 'pct_dropout_by_counts', 'total_counts'\n",
       "     uns: 'scrublet'\n",
       "     layers: 'counts',\n",
       " AnnData object with n_obs × n_vars = 86 × 61860\n",
       "     obs: 'source.label', 'sample', 'description', 'tissue', 'subtissue', 'comments', 'include', 'species', 'GSE.accession', 'GSM.accession', 'chemistry', 'file.format', 'SRR.accession', 'file_link', 'experiment.accession', 'study.accession', 'sample.accession', 'SAMN.accession', 'file_checksum', 'other.accession', 'source', 'manuscript.doi', 'manuscript.pubmed', 'experiment.instrument', 'study.title', 'study.abstract', 'n_genes', 'n_counts', 'n_genes_by_counts', 'total_counts', 'total_counts_mito', 'pct_counts_mito', 'doublet_score', 'predicted_doublet'\n",
       "     var: 'gene_ids', 'feature_types', 'mito', 'n_cells_by_counts', 'mean_counts', 'pct_dropout_by_counts', 'total_counts'\n",
       "     uns: 'scrublet'\n",
       "     layers: 'counts',\n",
       " '',\n",
       " AnnData object with n_obs × n_vars = 90 × 61860\n",
       "     obs: 'source.label', 'sample', 'description', 'tissue', 'subtissue', 'comments', 'include', 'species', 'GSE.accession', 'GSM.accession', 'chemistry', 'file.format', 'SRR.accession', 'file_link', 'experiment.accession', 'study.accession', 'sample.accession', 'SAMN.accession', 'file_checksum', 'other.accession', 'source', 'manuscript.doi', 'manuscript.pubmed', 'experiment.instrument', 'study.title', 'study.abstract', 'n_genes', 'n_counts', 'n_genes_by_counts', 'total_counts', 'total_counts_mito', 'pct_counts_mito', 'doublet_score', 'predicted_doublet'\n",
       "     var: 'gene_ids', 'feature_types', 'mito', 'n_cells_by_counts', 'mean_counts', 'pct_dropout_by_counts', 'total_counts'\n",
       "     uns: 'scrublet'\n",
       "     layers: 'counts',\n",
       " AnnData object with n_obs × n_vars = 79 × 61860\n",
       "     obs: 'source.label', 'sample', 'description', 'tissue', 'subtissue', 'comments', 'include', 'species', 'GSE.accession', 'GSM.accession', 'chemistry', 'file.format', 'SRR.accession', 'file_link', 'experiment.accession', 'study.accession', 'sample.accession', 'SAMN.accession', 'file_checksum', 'other.accession', 'source', 'manuscript.doi', 'manuscript.pubmed', 'experiment.instrument', 'study.title', 'study.abstract', 'n_genes', 'n_counts', 'n_genes_by_counts', 'total_counts', 'total_counts_mito', 'pct_counts_mito', 'doublet_score', 'predicted_doublet'\n",
       "     var: 'gene_ids', 'feature_types', 'mito', 'n_cells_by_counts', 'mean_counts', 'pct_dropout_by_counts', 'total_counts'\n",
       "     uns: 'scrublet'\n",
       "     layers: 'counts',\n",
       " '',\n",
       " AnnData object with n_obs × n_vars = 92 × 61860\n",
       "     obs: 'source.label', 'sample', 'description', 'tissue', 'subtissue', 'comments', 'include', 'species', 'GSE.accession', 'GSM.accession', 'chemistry', 'file.format', 'SRR.accession', 'file_link', 'experiment.accession', 'study.accession', 'sample.accession', 'SAMN.accession', 'file_checksum', 'other.accession', 'source', 'manuscript.doi', 'manuscript.pubmed', 'experiment.instrument', 'study.title', 'study.abstract', 'n_genes', 'n_counts', 'n_genes_by_counts', 'total_counts', 'total_counts_mito', 'pct_counts_mito', 'doublet_score', 'predicted_doublet'\n",
       "     var: 'gene_ids', 'feature_types', 'mito', 'n_cells_by_counts', 'mean_counts', 'pct_dropout_by_counts', 'total_counts'\n",
       "     uns: 'scrublet'\n",
       "     layers: 'counts',\n",
       " AnnData object with n_obs × n_vars = 74 × 61860\n",
       "     obs: 'source.label', 'sample', 'description', 'tissue', 'subtissue', 'comments', 'include', 'species', 'GSE.accession', 'GSM.accession', 'chemistry', 'file.format', 'SRR.accession', 'file_link', 'experiment.accession', 'study.accession', 'sample.accession', 'SAMN.accession', 'file_checksum', 'other.accession', 'source', 'manuscript.doi', 'manuscript.pubmed', 'experiment.instrument', 'study.title', 'study.abstract', 'n_genes', 'n_counts', 'n_genes_by_counts', 'total_counts', 'total_counts_mito', 'pct_counts_mito', 'doublet_score', 'predicted_doublet'\n",
       "     var: 'gene_ids', 'feature_types', 'mito', 'n_cells_by_counts', 'mean_counts', 'pct_dropout_by_counts', 'total_counts'\n",
       "     uns: 'scrublet'\n",
       "     layers: 'counts',\n",
       " AnnData object with n_obs × n_vars = 140 × 61860\n",
       "     obs: 'source.label', 'sample', 'description', 'tissue', 'subtissue', 'comments', 'include', 'species', 'GSE.accession', 'GSM.accession', 'chemistry', 'file.format', 'SRR.accession', 'file_link', 'experiment.accession', 'study.accession', 'sample.accession', 'SAMN.accession', 'file_checksum', 'other.accession', 'source', 'manuscript.doi', 'manuscript.pubmed', 'experiment.instrument', 'study.title', 'study.abstract', 'n_genes', 'n_counts', 'n_genes_by_counts', 'total_counts', 'total_counts_mito', 'pct_counts_mito', 'doublet_score', 'predicted_doublet'\n",
       "     var: 'gene_ids', 'feature_types', 'mito', 'n_cells_by_counts', 'mean_counts', 'pct_dropout_by_counts', 'total_counts'\n",
       "     uns: 'scrublet'\n",
       "     layers: 'counts',\n",
       " AnnData object with n_obs × n_vars = 126 × 61860\n",
       "     obs: 'source.label', 'sample', 'description', 'tissue', 'subtissue', 'comments', 'include', 'species', 'GSE.accession', 'GSM.accession', 'chemistry', 'file.format', 'SRR.accession', 'file_link', 'experiment.accession', 'study.accession', 'sample.accession', 'SAMN.accession', 'file_checksum', 'other.accession', 'source', 'manuscript.doi', 'manuscript.pubmed', 'experiment.instrument', 'study.title', 'study.abstract', 'n_genes', 'n_counts', 'n_genes_by_counts', 'total_counts', 'total_counts_mito', 'pct_counts_mito', 'doublet_score', 'predicted_doublet'\n",
       "     var: 'gene_ids', 'feature_types', 'mito', 'n_cells_by_counts', 'mean_counts', 'pct_dropout_by_counts', 'total_counts'\n",
       "     uns: 'scrublet'\n",
       "     layers: 'counts',\n",
       " '',\n",
       " '',\n",
       " AnnData object with n_obs × n_vars = 120 × 61860\n",
       "     obs: 'source.label', 'sample', 'description', 'tissue', 'subtissue', 'comments', 'include', 'species', 'GSE.accession', 'GSM.accession', 'chemistry', 'file.format', 'SRR.accession', 'file_link', 'experiment.accession', 'study.accession', 'sample.accession', 'SAMN.accession', 'file_checksum', 'other.accession', 'source', 'manuscript.doi', 'manuscript.pubmed', 'experiment.instrument', 'study.title', 'study.abstract', 'n_genes', 'n_counts', 'n_genes_by_counts', 'total_counts', 'total_counts_mito', 'pct_counts_mito', 'doublet_score', 'predicted_doublet'\n",
       "     var: 'gene_ids', 'feature_types', 'mito', 'n_cells_by_counts', 'mean_counts', 'pct_dropout_by_counts', 'total_counts'\n",
       "     uns: 'scrublet'\n",
       "     layers: 'counts',\n",
       " AnnData object with n_obs × n_vars = 75 × 61860\n",
       "     obs: 'source.label', 'sample', 'description', 'tissue', 'subtissue', 'comments', 'include', 'species', 'GSE.accession', 'GSM.accession', 'chemistry', 'file.format', 'SRR.accession', 'file_link', 'experiment.accession', 'study.accession', 'sample.accession', 'SAMN.accession', 'file_checksum', 'other.accession', 'source', 'manuscript.doi', 'manuscript.pubmed', 'experiment.instrument', 'study.title', 'study.abstract', 'n_genes', 'n_counts', 'n_genes_by_counts', 'total_counts', 'total_counts_mito', 'pct_counts_mito', 'doublet_score', 'predicted_doublet'\n",
       "     var: 'gene_ids', 'feature_types', 'mito', 'n_cells_by_counts', 'mean_counts', 'pct_dropout_by_counts', 'total_counts'\n",
       "     uns: 'scrublet'\n",
       "     layers: 'counts',\n",
       " AnnData object with n_obs × n_vars = 146 × 61860\n",
       "     obs: 'source.label', 'sample', 'description', 'tissue', 'subtissue', 'comments', 'include', 'species', 'GSE.accession', 'GSM.accession', 'chemistry', 'file.format', 'SRR.accession', 'file_link', 'experiment.accession', 'study.accession', 'sample.accession', 'SAMN.accession', 'file_checksum', 'other.accession', 'source', 'manuscript.doi', 'manuscript.pubmed', 'experiment.instrument', 'study.title', 'study.abstract', 'n_genes', 'n_counts', 'n_genes_by_counts', 'total_counts', 'total_counts_mito', 'pct_counts_mito', 'doublet_score', 'predicted_doublet'\n",
       "     var: 'gene_ids', 'feature_types', 'mito', 'n_cells_by_counts', 'mean_counts', 'pct_dropout_by_counts', 'total_counts'\n",
       "     uns: 'scrublet'\n",
       "     layers: 'counts',\n",
       " AnnData object with n_obs × n_vars = 106 × 61860\n",
       "     obs: 'source.label', 'sample', 'description', 'tissue', 'subtissue', 'comments', 'include', 'species', 'GSE.accession', 'GSM.accession', 'chemistry', 'file.format', 'SRR.accession', 'file_link', 'experiment.accession', 'study.accession', 'sample.accession', 'SAMN.accession', 'file_checksum', 'other.accession', 'source', 'manuscript.doi', 'manuscript.pubmed', 'experiment.instrument', 'study.title', 'study.abstract', 'n_genes', 'n_counts', 'n_genes_by_counts', 'total_counts', 'total_counts_mito', 'pct_counts_mito', 'doublet_score', 'predicted_doublet'\n",
       "     var: 'gene_ids', 'feature_types', 'mito', 'n_cells_by_counts', 'mean_counts', 'pct_dropout_by_counts', 'total_counts'\n",
       "     uns: 'scrublet'\n",
       "     layers: 'counts',\n",
       " AnnData object with n_obs × n_vars = 6254 × 61860\n",
       "     obs: 'source.label', 'sample', 'description', 'tissue', 'subtissue', 'comments', 'include', 'species', 'GSE.accession', 'GSM.accession', 'chemistry', 'file.format', 'SRR.accession', 'file_link', 'experiment.accession', 'study.accession', 'sample.accession', 'SAMN.accession', 'file_checksum', 'other.accession', 'source', 'manuscript.doi', 'manuscript.pubmed', 'experiment.instrument', 'study.title', 'study.abstract', 'n_genes', 'n_counts', 'n_genes_by_counts', 'total_counts', 'total_counts_mito', 'pct_counts_mito', 'doublet_score', 'predicted_doublet'\n",
       "     var: 'gene_ids', 'feature_types', 'mito', 'n_cells_by_counts', 'mean_counts', 'pct_dropout_by_counts', 'total_counts'\n",
       "     uns: 'scrublet'\n",
       "     layers: 'counts',\n",
       " AnnData object with n_obs × n_vars = 10318 × 61860\n",
       "     obs: 'source.label', 'sample', 'description', 'tissue', 'subtissue', 'comments', 'include', 'species', 'GSE.accession', 'GSM.accession', 'chemistry', 'file.format', 'SRR.accession', 'file_link', 'experiment.accession', 'study.accession', 'sample.accession', 'SAMN.accession', 'file_checksum', 'other.accession', 'source', 'manuscript.doi', 'manuscript.pubmed', 'experiment.instrument', 'study.title', 'study.abstract', 'n_genes', 'n_counts', 'n_genes_by_counts', 'total_counts', 'total_counts_mito', 'pct_counts_mito', 'doublet_score', 'predicted_doublet'\n",
       "     var: 'gene_ids', 'feature_types', 'mito', 'n_cells_by_counts', 'mean_counts', 'pct_dropout_by_counts', 'total_counts'\n",
       "     uns: 'scrublet'\n",
       "     layers: 'counts',\n",
       " AnnData object with n_obs × n_vars = 15431 × 61860\n",
       "     obs: 'source.label', 'sample', 'description', 'tissue', 'subtissue', 'comments', 'include', 'species', 'GSE.accession', 'GSM.accession', 'chemistry', 'file.format', 'SRR.accession', 'file_link', 'experiment.accession', 'study.accession', 'sample.accession', 'SAMN.accession', 'file_checksum', 'other.accession', 'source', 'manuscript.doi', 'manuscript.pubmed', 'experiment.instrument', 'study.title', 'study.abstract', 'n_genes', 'n_counts', 'n_genes_by_counts', 'total_counts', 'total_counts_mito', 'pct_counts_mito', 'doublet_score', 'predicted_doublet'\n",
       "     var: 'gene_ids', 'feature_types', 'mito', 'n_cells_by_counts', 'mean_counts', 'pct_dropout_by_counts', 'total_counts'\n",
       "     uns: 'scrublet'\n",
       "     layers: 'counts',\n",
       " AnnData object with n_obs × n_vars = 3207 × 61860\n",
       "     obs: 'source.label', 'sample', 'description', 'tissue', 'subtissue', 'comments', 'include', 'species', 'GSE.accession', 'GSM.accession', 'chemistry', 'file.format', 'SRR.accession', 'file_link', 'experiment.accession', 'study.accession', 'sample.accession', 'SAMN.accession', 'file_checksum', 'other.accession', 'source', 'manuscript.doi', 'manuscript.pubmed', 'experiment.instrument', 'study.title', 'study.abstract', 'n_genes', 'n_counts', 'n_genes_by_counts', 'total_counts', 'total_counts_mito', 'pct_counts_mito', 'doublet_score', 'predicted_doublet'\n",
       "     var: 'gene_ids', 'feature_types', 'mito', 'n_cells_by_counts', 'mean_counts', 'pct_dropout_by_counts', 'total_counts'\n",
       "     uns: 'scrublet'\n",
       "     layers: 'counts',\n",
       " AnnData object with n_obs × n_vars = 10350 × 61860\n",
       "     obs: 'source.label', 'sample', 'description', 'tissue', 'subtissue', 'comments', 'include', 'species', 'GSE.accession', 'GSM.accession', 'chemistry', 'file.format', 'SRR.accession', 'file_link', 'experiment.accession', 'study.accession', 'sample.accession', 'SAMN.accession', 'file_checksum', 'other.accession', 'source', 'manuscript.doi', 'manuscript.pubmed', 'experiment.instrument', 'study.title', 'study.abstract', 'n_genes', 'n_counts', 'n_genes_by_counts', 'total_counts', 'total_counts_mito', 'pct_counts_mito', 'doublet_score', 'predicted_doublet'\n",
       "     var: 'gene_ids', 'feature_types', 'mito', 'n_cells_by_counts', 'mean_counts', 'pct_dropout_by_counts', 'total_counts'\n",
       "     uns: 'scrublet'\n",
       "     layers: 'counts',\n",
       " AnnData object with n_obs × n_vars = 7963 × 61860\n",
       "     obs: 'source.label', 'sample', 'description', 'tissue', 'subtissue', 'comments', 'include', 'species', 'GSE.accession', 'GSM.accession', 'chemistry', 'file.format', 'SRR.accession', 'file_link', 'experiment.accession', 'study.accession', 'sample.accession', 'SAMN.accession', 'file_checksum', 'other.accession', 'source', 'manuscript.doi', 'manuscript.pubmed', 'experiment.instrument', 'study.title', 'study.abstract', 'n_genes', 'n_counts', 'n_genes_by_counts', 'total_counts', 'total_counts_mito', 'pct_counts_mito', 'doublet_score', 'predicted_doublet'\n",
       "     var: 'gene_ids', 'feature_types', 'mito', 'n_cells_by_counts', 'mean_counts', 'pct_dropout_by_counts', 'total_counts'\n",
       "     uns: 'scrublet'\n",
       "     layers: 'counts',\n",
       " AnnData object with n_obs × n_vars = 6671 × 61860\n",
       "     obs: 'source.label', 'sample', 'description', 'tissue', 'subtissue', 'comments', 'include', 'species', 'GSE.accession', 'GSM.accession', 'chemistry', 'file.format', 'SRR.accession', 'file_link', 'experiment.accession', 'study.accession', 'sample.accession', 'SAMN.accession', 'file_checksum', 'other.accession', 'source', 'manuscript.doi', 'manuscript.pubmed', 'experiment.instrument', 'study.title', 'study.abstract', 'n_genes', 'n_counts', 'n_genes_by_counts', 'total_counts', 'total_counts_mito', 'pct_counts_mito', 'doublet_score', 'predicted_doublet'\n",
       "     var: 'gene_ids', 'feature_types', 'mito', 'n_cells_by_counts', 'mean_counts', 'pct_dropout_by_counts', 'total_counts'\n",
       "     uns: 'scrublet'\n",
       "     layers: 'counts',\n",
       " AnnData object with n_obs × n_vars = 4380 × 61860\n",
       "     obs: 'source.label', 'sample', 'description', 'tissue', 'subtissue', 'comments', 'include', 'species', 'GSE.accession', 'GSM.accession', 'chemistry', 'file.format', 'SRR.accession', 'file_link', 'experiment.accession', 'study.accession', 'sample.accession', 'SAMN.accession', 'file_checksum', 'other.accession', 'source', 'manuscript.doi', 'manuscript.pubmed', 'experiment.instrument', 'study.title', 'study.abstract', 'n_genes', 'n_counts', 'n_genes_by_counts', 'total_counts', 'total_counts_mito', 'pct_counts_mito', 'doublet_score', 'predicted_doublet'\n",
       "     var: 'gene_ids', 'feature_types', 'mito', 'n_cells_by_counts', 'mean_counts', 'pct_dropout_by_counts', 'total_counts'\n",
       "     uns: 'scrublet'\n",
       "     layers: 'counts',\n",
       " AnnData object with n_obs × n_vars = 4860 × 61860\n",
       "     obs: 'source.label', 'sample', 'description', 'tissue', 'subtissue', 'comments', 'include', 'species', 'GSE.accession', 'GSM.accession', 'chemistry', 'file.format', 'SRR.accession', 'file_link', 'experiment.accession', 'study.accession', 'sample.accession', 'SAMN.accession', 'file_checksum', 'other.accession', 'source', 'manuscript.doi', 'manuscript.pubmed', 'experiment.instrument', 'study.title', 'study.abstract', 'n_genes', 'n_counts', 'n_genes_by_counts', 'total_counts', 'total_counts_mito', 'pct_counts_mito', 'doublet_score', 'predicted_doublet'\n",
       "     var: 'gene_ids', 'feature_types', 'mito', 'n_cells_by_counts', 'mean_counts', 'pct_dropout_by_counts', 'total_counts'\n",
       "     uns: 'scrublet'\n",
       "     layers: 'counts',\n",
       " AnnData object with n_obs × n_vars = 4786 × 61860\n",
       "     obs: 'source.label', 'sample', 'description', 'tissue', 'subtissue', 'comments', 'include', 'species', 'GSE.accession', 'GSM.accession', 'chemistry', 'file.format', 'SRR.accession', 'file_link', 'experiment.accession', 'study.accession', 'sample.accession', 'SAMN.accession', 'file_checksum', 'other.accession', 'source', 'manuscript.doi', 'manuscript.pubmed', 'experiment.instrument', 'study.title', 'study.abstract', 'n_genes', 'n_counts', 'n_genes_by_counts', 'total_counts', 'total_counts_mito', 'pct_counts_mito', 'doublet_score', 'predicted_doublet'\n",
       "     var: 'gene_ids', 'feature_types', 'mito', 'n_cells_by_counts', 'mean_counts', 'pct_dropout_by_counts', 'total_counts'\n",
       "     uns: 'scrublet'\n",
       "     layers: 'counts',\n",
       " AnnData object with n_obs × n_vars = 4744 × 61860\n",
       "     obs: 'source.label', 'sample', 'description', 'tissue', 'subtissue', 'comments', 'include', 'species', 'GSE.accession', 'GSM.accession', 'chemistry', 'file.format', 'SRR.accession', 'file_link', 'experiment.accession', 'study.accession', 'sample.accession', 'SAMN.accession', 'file_checksum', 'other.accession', 'source', 'manuscript.doi', 'manuscript.pubmed', 'experiment.instrument', 'study.title', 'study.abstract', 'n_genes', 'n_counts', 'n_genes_by_counts', 'total_counts', 'total_counts_mito', 'pct_counts_mito', 'doublet_score', 'predicted_doublet'\n",
       "     var: 'gene_ids', 'feature_types', 'mito', 'n_cells_by_counts', 'mean_counts', 'pct_dropout_by_counts', 'total_counts'\n",
       "     uns: 'scrublet'\n",
       "     layers: 'counts',\n",
       " AnnData object with n_obs × n_vars = 7075 × 61860\n",
       "     obs: 'source.label', 'sample', 'description', 'tissue', 'subtissue', 'comments', 'include', 'species', 'GSE.accession', 'GSM.accession', 'chemistry', 'file.format', 'SRR.accession', 'file_link', 'experiment.accession', 'study.accession', 'sample.accession', 'SAMN.accession', 'file_checksum', 'other.accession', 'source', 'manuscript.doi', 'manuscript.pubmed', 'experiment.instrument', 'study.title', 'study.abstract', 'n_genes', 'n_counts', 'n_genes_by_counts', 'total_counts', 'total_counts_mito', 'pct_counts_mito', 'doublet_score', 'predicted_doublet'\n",
       "     var: 'gene_ids', 'feature_types', 'mito', 'n_cells_by_counts', 'mean_counts', 'pct_dropout_by_counts', 'total_counts'\n",
       "     uns: 'scrublet'\n",
       "     layers: 'counts',\n",
       " AnnData object with n_obs × n_vars = 90 × 61860\n",
       "     obs: 'source.label', 'sample', 'description', 'tissue', 'subtissue', 'comments', 'include', 'species', 'GSE.accession', 'GSM.accession', 'chemistry', 'file.format', 'SRR.accession', 'file_link', 'experiment.accession', 'study.accession', 'sample.accession', 'SAMN.accession', 'file_checksum', 'other.accession', 'source', 'manuscript.doi', 'manuscript.pubmed', 'experiment.instrument', 'study.title', 'study.abstract', 'n_genes', 'n_counts', 'n_genes_by_counts', 'total_counts', 'total_counts_mito', 'pct_counts_mito', 'doublet_score', 'predicted_doublet'\n",
       "     var: 'gene_ids', 'feature_types', 'mito', 'n_cells_by_counts', 'mean_counts', 'pct_dropout_by_counts', 'total_counts'\n",
       "     uns: 'scrublet'\n",
       "     layers: 'counts',\n",
       " AnnData object with n_obs × n_vars = 5934 × 61860\n",
       "     obs: 'source.label', 'sample', 'description', 'tissue', 'subtissue', 'comments', 'include', 'species', 'GSE.accession', 'GSM.accession', 'chemistry', 'file.format', 'SRR.accession', 'file_link', 'experiment.accession', 'study.accession', 'sample.accession', 'SAMN.accession', 'file_checksum', 'other.accession', 'source', 'manuscript.doi', 'manuscript.pubmed', 'experiment.instrument', 'study.title', 'study.abstract', 'n_genes', 'n_counts', 'n_genes_by_counts', 'total_counts', 'total_counts_mito', 'pct_counts_mito', 'doublet_score', 'predicted_doublet'\n",
       "     var: 'gene_ids', 'feature_types', 'mito', 'n_cells_by_counts', 'mean_counts', 'pct_dropout_by_counts', 'total_counts'\n",
       "     uns: 'scrublet'\n",
       "     layers: 'counts',\n",
       " AnnData object with n_obs × n_vars = 99 × 61860\n",
       "     obs: 'source.label', 'sample', 'description', 'tissue', 'subtissue', 'comments', 'include', 'species', 'GSE.accession', 'GSM.accession', 'chemistry', 'file.format', 'SRR.accession', 'file_link', 'experiment.accession', 'study.accession', 'sample.accession', 'SAMN.accession', 'file_checksum', 'other.accession', 'source', 'manuscript.doi', 'manuscript.pubmed', 'experiment.instrument', 'study.title', 'study.abstract', 'n_genes', 'n_counts', 'n_genes_by_counts', 'total_counts', 'total_counts_mito', 'pct_counts_mito', 'doublet_score', 'predicted_doublet'\n",
       "     var: 'gene_ids', 'feature_types', 'mito', 'n_cells_by_counts', 'mean_counts', 'pct_dropout_by_counts', 'total_counts'\n",
       "     uns: 'scrublet'\n",
       "     layers: 'counts',\n",
       " AnnData object with n_obs × n_vars = 187 × 61860\n",
       "     obs: 'source.label', 'sample', 'description', 'tissue', 'subtissue', 'comments', 'include', 'species', 'GSE.accession', 'GSM.accession', 'chemistry', 'file.format', 'SRR.accession', 'file_link', 'experiment.accession', 'study.accession', 'sample.accession', 'SAMN.accession', 'file_checksum', 'other.accession', 'source', 'manuscript.doi', 'manuscript.pubmed', 'experiment.instrument', 'study.title', 'study.abstract', 'n_genes', 'n_counts', 'n_genes_by_counts', 'total_counts', 'total_counts_mito', 'pct_counts_mito', 'doublet_score', 'predicted_doublet'\n",
       "     var: 'gene_ids', 'feature_types', 'mito', 'n_cells_by_counts', 'mean_counts', 'pct_dropout_by_counts', 'total_counts'\n",
       "     uns: 'scrublet'\n",
       "     layers: 'counts',\n",
       " AnnData object with n_obs × n_vars = 104 × 61860\n",
       "     obs: 'source.label', 'sample', 'description', 'tissue', 'subtissue', 'comments', 'include', 'species', 'GSE.accession', 'GSM.accession', 'chemistry', 'file.format', 'SRR.accession', 'file_link', 'experiment.accession', 'study.accession', 'sample.accession', 'SAMN.accession', 'file_checksum', 'other.accession', 'source', 'manuscript.doi', 'manuscript.pubmed', 'experiment.instrument', 'study.title', 'study.abstract', 'n_genes', 'n_counts', 'n_genes_by_counts', 'total_counts', 'total_counts_mito', 'pct_counts_mito', 'doublet_score', 'predicted_doublet'\n",
       "     var: 'gene_ids', 'feature_types', 'mito', 'n_cells_by_counts', 'mean_counts', 'pct_dropout_by_counts', 'total_counts'\n",
       "     uns: 'scrublet'\n",
       "     layers: 'counts',\n",
       " AnnData object with n_obs × n_vars = 127 × 61860\n",
       "     obs: 'source.label', 'sample', 'description', 'tissue', 'subtissue', 'comments', 'include', 'species', 'GSE.accession', 'GSM.accession', 'chemistry', 'file.format', 'SRR.accession', 'file_link', 'experiment.accession', 'study.accession', 'sample.accession', 'SAMN.accession', 'file_checksum', 'other.accession', 'source', 'manuscript.doi', 'manuscript.pubmed', 'experiment.instrument', 'study.title', 'study.abstract', 'n_genes', 'n_counts', 'n_genes_by_counts', 'total_counts', 'total_counts_mito', 'pct_counts_mito', 'doublet_score', 'predicted_doublet'\n",
       "     var: 'gene_ids', 'feature_types', 'mito', 'n_cells_by_counts', 'mean_counts', 'pct_dropout_by_counts', 'total_counts'\n",
       "     uns: 'scrublet'\n",
       "     layers: 'counts',\n",
       " AnnData object with n_obs × n_vars = 114 × 61860\n",
       "     obs: 'source.label', 'sample', 'description', 'tissue', 'subtissue', 'comments', 'include', 'species', 'GSE.accession', 'GSM.accession', 'chemistry', 'file.format', 'SRR.accession', 'file_link', 'experiment.accession', 'study.accession', 'sample.accession', 'SAMN.accession', 'file_checksum', 'other.accession', 'source', 'manuscript.doi', 'manuscript.pubmed', 'experiment.instrument', 'study.title', 'study.abstract', 'n_genes', 'n_counts', 'n_genes_by_counts', 'total_counts', 'total_counts_mito', 'pct_counts_mito', 'doublet_score', 'predicted_doublet'\n",
       "     var: 'gene_ids', 'feature_types', 'mito', 'n_cells_by_counts', 'mean_counts', 'pct_dropout_by_counts', 'total_counts'\n",
       "     uns: 'scrublet'\n",
       "     layers: 'counts',\n",
       " AnnData object with n_obs × n_vars = 5551 × 61860\n",
       "     obs: 'source.label', 'sample', 'description', 'tissue', 'subtissue', 'comments', 'include', 'species', 'GSE.accession', 'GSM.accession', 'chemistry', 'file.format', 'SRR.accession', 'file_link', 'experiment.accession', 'study.accession', 'sample.accession', 'SAMN.accession', 'file_checksum', 'other.accession', 'source', 'manuscript.doi', 'manuscript.pubmed', 'experiment.instrument', 'study.title', 'study.abstract', 'n_genes', 'n_counts', 'n_genes_by_counts', 'total_counts', 'total_counts_mito', 'pct_counts_mito', 'doublet_score', 'predicted_doublet'\n",
       "     var: 'gene_ids', 'feature_types', 'mito', 'n_cells_by_counts', 'mean_counts', 'pct_dropout_by_counts', 'total_counts'\n",
       "     uns: 'scrublet'\n",
       "     layers: 'counts',\n",
       " AnnData object with n_obs × n_vars = 5063 × 61860\n",
       "     obs: 'source.label', 'sample', 'description', 'tissue', 'subtissue', 'comments', 'include', 'species', 'GSE.accession', 'GSM.accession', 'chemistry', 'file.format', 'SRR.accession', 'file_link', 'experiment.accession', 'study.accession', 'sample.accession', 'SAMN.accession', 'file_checksum', 'other.accession', 'source', 'manuscript.doi', 'manuscript.pubmed', 'experiment.instrument', 'study.title', 'study.abstract', 'n_genes', 'n_counts', 'n_genes_by_counts', 'total_counts', 'total_counts_mito', 'pct_counts_mito', 'doublet_score', 'predicted_doublet'\n",
       "     var: 'gene_ids', 'feature_types', 'mito', 'n_cells_by_counts', 'mean_counts', 'pct_dropout_by_counts', 'total_counts'\n",
       "     uns: 'scrublet'\n",
       "     layers: 'counts',\n",
       " AnnData object with n_obs × n_vars = 88 × 61860\n",
       "     obs: 'source.label', 'sample', 'description', 'tissue', 'subtissue', 'comments', 'include', 'species', 'GSE.accession', 'GSM.accession', 'chemistry', 'file.format', 'SRR.accession', 'file_link', 'experiment.accession', 'study.accession', 'sample.accession', 'SAMN.accession', 'file_checksum', 'other.accession', 'source', 'manuscript.doi', 'manuscript.pubmed', 'experiment.instrument', 'study.title', 'study.abstract', 'n_genes', 'n_counts', 'n_genes_by_counts', 'total_counts', 'total_counts_mito', 'pct_counts_mito', 'doublet_score', 'predicted_doublet'\n",
       "     var: 'gene_ids', 'feature_types', 'mito', 'n_cells_by_counts', 'mean_counts', 'pct_dropout_by_counts', 'total_counts'\n",
       "     uns: 'scrublet'\n",
       "     layers: 'counts',\n",
       " AnnData object with n_obs × n_vars = 87 × 61860\n",
       "     obs: 'source.label', 'sample', 'description', 'tissue', 'subtissue', 'comments', 'include', 'species', 'GSE.accession', 'GSM.accession', 'chemistry', 'file.format', 'SRR.accession', 'file_link', 'experiment.accession', 'study.accession', 'sample.accession', 'SAMN.accession', 'file_checksum', 'other.accession', 'source', 'manuscript.doi', 'manuscript.pubmed', 'experiment.instrument', 'study.title', 'study.abstract', 'n_genes', 'n_counts', 'n_genes_by_counts', 'total_counts', 'total_counts_mito', 'pct_counts_mito', 'doublet_score', 'predicted_doublet'\n",
       "     var: 'gene_ids', 'feature_types', 'mito', 'n_cells_by_counts', 'mean_counts', 'pct_dropout_by_counts', 'total_counts'\n",
       "     uns: 'scrublet'\n",
       "     layers: 'counts',\n",
       " AnnData object with n_obs × n_vars = 92 × 61860\n",
       "     obs: 'source.label', 'sample', 'description', 'tissue', 'subtissue', 'comments', 'include', 'species', 'GSE.accession', 'GSM.accession', 'chemistry', 'file.format', 'SRR.accession', 'file_link', 'experiment.accession', 'study.accession', 'sample.accession', 'SAMN.accession', 'file_checksum', 'other.accession', 'source', 'manuscript.doi', 'manuscript.pubmed', 'experiment.instrument', 'study.title', 'study.abstract', 'n_genes', 'n_counts', 'n_genes_by_counts', 'total_counts', 'total_counts_mito', 'pct_counts_mito', 'doublet_score', 'predicted_doublet'\n",
       "     var: 'gene_ids', 'feature_types', 'mito', 'n_cells_by_counts', 'mean_counts', 'pct_dropout_by_counts', 'total_counts'\n",
       "     uns: 'scrublet'\n",
       "     layers: 'counts',\n",
       " '',\n",
       " AnnData object with n_obs × n_vars = 50 × 61860\n",
       "     obs: 'source.label', 'sample', 'description', 'tissue', 'subtissue', 'comments', 'include', 'species', 'GSE.accession', 'GSM.accession', 'chemistry', 'file.format', 'SRR.accession', 'file_link', 'experiment.accession', 'study.accession', 'sample.accession', 'SAMN.accession', 'file_checksum', 'other.accession', 'source', 'manuscript.doi', 'manuscript.pubmed', 'experiment.instrument', 'study.title', 'study.abstract', 'n_genes', 'n_counts', 'n_genes_by_counts', 'total_counts', 'total_counts_mito', 'pct_counts_mito', 'doublet_score', 'predicted_doublet'\n",
       "     var: 'gene_ids', 'feature_types', 'mito', 'n_cells_by_counts', 'mean_counts', 'pct_dropout_by_counts', 'total_counts'\n",
       "     uns: 'scrublet'\n",
       "     layers: 'counts',\n",
       " AnnData object with n_obs × n_vars = 4144 × 61860\n",
       "     obs: 'source.label', 'sample', 'description', 'tissue', 'subtissue', 'comments', 'include', 'species', 'GSE.accession', 'GSM.accession', 'chemistry', 'file.format', 'SRR.accession', 'file_link', 'experiment.accession', 'study.accession', 'sample.accession', 'SAMN.accession', 'file_checksum', 'other.accession', 'source', 'manuscript.doi', 'manuscript.pubmed', 'experiment.instrument', 'study.title', 'study.abstract', 'n_genes', 'n_counts', 'n_genes_by_counts', 'total_counts', 'total_counts_mito', 'pct_counts_mito', 'doublet_score', 'predicted_doublet'\n",
       "     var: 'gene_ids', 'feature_types', 'mito', 'n_cells_by_counts', 'mean_counts', 'pct_dropout_by_counts', 'total_counts'\n",
       "     uns: 'scrublet'\n",
       "     layers: 'counts',\n",
       " AnnData object with n_obs × n_vars = 2300 × 61860\n",
       "     obs: 'source.label', 'sample', 'description', 'tissue', 'subtissue', 'comments', 'include', 'species', 'GSE.accession', 'GSM.accession', 'chemistry', 'file.format', 'SRR.accession', 'file_link', 'experiment.accession', 'study.accession', 'sample.accession', 'SAMN.accession', 'file_checksum', 'other.accession', 'source', 'manuscript.doi', 'manuscript.pubmed', 'experiment.instrument', 'study.title', 'study.abstract', 'n_genes', 'n_counts', 'n_genes_by_counts', 'total_counts', 'total_counts_mito', 'pct_counts_mito', 'doublet_score', 'predicted_doublet'\n",
       "     var: 'gene_ids', 'feature_types', 'mito', 'n_cells_by_counts', 'mean_counts', 'pct_dropout_by_counts', 'total_counts'\n",
       "     uns: 'scrublet'\n",
       "     layers: 'counts',\n",
       " AnnData object with n_obs × n_vars = 15102 × 61860\n",
       "     obs: 'source.label', 'sample', 'description', 'tissue', 'subtissue', 'comments', 'include', 'species', 'GSE.accession', 'GSM.accession', 'chemistry', 'file.format', 'SRR.accession', 'file_link', 'experiment.accession', 'study.accession', 'sample.accession', 'SAMN.accession', 'file_checksum', 'other.accession', 'source', 'manuscript.doi', 'manuscript.pubmed', 'experiment.instrument', 'study.title', 'study.abstract', 'n_genes', 'n_counts', 'n_genes_by_counts', 'total_counts', 'total_counts_mito', 'pct_counts_mito', 'doublet_score', 'predicted_doublet'\n",
       "     var: 'gene_ids', 'feature_types', 'mito', 'n_cells_by_counts', 'mean_counts', 'pct_dropout_by_counts', 'total_counts'\n",
       "     uns: 'scrublet'\n",
       "     layers: 'counts',\n",
       " AnnData object with n_obs × n_vars = 10299 × 61860\n",
       "     obs: 'source.label', 'sample', 'description', 'tissue', 'subtissue', 'comments', 'include', 'species', 'GSE.accession', 'GSM.accession', 'chemistry', 'file.format', 'SRR.accession', 'file_link', 'experiment.accession', 'study.accession', 'sample.accession', 'SAMN.accession', 'file_checksum', 'other.accession', 'source', 'manuscript.doi', 'manuscript.pubmed', 'experiment.instrument', 'study.title', 'study.abstract', 'n_genes', 'n_counts', 'n_genes_by_counts', 'total_counts', 'total_counts_mito', 'pct_counts_mito', 'doublet_score', 'predicted_doublet'\n",
       "     var: 'gene_ids', 'feature_types', 'mito', 'n_cells_by_counts', 'mean_counts', 'pct_dropout_by_counts', 'total_counts'\n",
       "     uns: 'scrublet'\n",
       "     layers: 'counts',\n",
       " AnnData object with n_obs × n_vars = 5873 × 61860\n",
       "     obs: 'source.label', 'sample', 'description', 'tissue', 'subtissue', 'comments', 'include', 'species', 'GSE.accession', 'GSM.accession', 'chemistry', 'file.format', 'SRR.accession', 'file_link', 'experiment.accession', 'study.accession', 'sample.accession', 'SAMN.accession', 'file_checksum', 'other.accession', 'source', 'manuscript.doi', 'manuscript.pubmed', 'experiment.instrument', 'study.title', 'study.abstract', 'n_genes', 'n_counts', 'n_genes_by_counts', 'total_counts', 'total_counts_mito', 'pct_counts_mito', 'doublet_score', 'predicted_doublet'\n",
       "     var: 'gene_ids', 'feature_types', 'mito', 'n_cells_by_counts', 'mean_counts', 'pct_dropout_by_counts', 'total_counts'\n",
       "     uns: 'scrublet'\n",
       "     layers: 'counts',\n",
       " AnnData object with n_obs × n_vars = 5387 × 61860\n",
       "     obs: 'source.label', 'sample', 'description', 'tissue', 'subtissue', 'comments', 'include', 'species', 'GSE.accession', 'GSM.accession', 'chemistry', 'file.format', 'SRR.accession', 'file_link', 'experiment.accession', 'study.accession', 'sample.accession', 'SAMN.accession', 'file_checksum', 'other.accession', 'source', 'manuscript.doi', 'manuscript.pubmed', 'experiment.instrument', 'study.title', 'study.abstract', 'n_genes', 'n_counts', 'n_genes_by_counts', 'total_counts', 'total_counts_mito', 'pct_counts_mito', 'doublet_score', 'predicted_doublet'\n",
       "     var: 'gene_ids', 'feature_types', 'mito', 'n_cells_by_counts', 'mean_counts', 'pct_dropout_by_counts', 'total_counts'\n",
       "     uns: 'scrublet'\n",
       "     layers: 'counts',\n",
       " AnnData object with n_obs × n_vars = 12748 × 61860\n",
       "     obs: 'source.label', 'sample', 'description', 'tissue', 'subtissue', 'comments', 'include', 'species', 'GSE.accession', 'GSM.accession', 'chemistry', 'file.format', 'SRR.accession', 'file_link', 'experiment.accession', 'study.accession', 'sample.accession', 'SAMN.accession', 'file_checksum', 'other.accession', 'source', 'manuscript.doi', 'manuscript.pubmed', 'experiment.instrument', 'study.title', 'study.abstract', 'n_genes', 'n_counts', 'n_genes_by_counts', 'total_counts', 'total_counts_mito', 'pct_counts_mito', 'doublet_score', 'predicted_doublet'\n",
       "     var: 'gene_ids', 'feature_types', 'mito', 'n_cells_by_counts', 'mean_counts', 'pct_dropout_by_counts', 'total_counts'\n",
       "     uns: 'scrublet'\n",
       "     layers: 'counts',\n",
       " AnnData object with n_obs × n_vars = 4869 × 61860\n",
       "     obs: 'source.label', 'sample', 'description', 'tissue', 'subtissue', 'comments', 'include', 'species', 'GSE.accession', 'GSM.accession', 'chemistry', 'file.format', 'SRR.accession', 'file_link', 'experiment.accession', 'study.accession', 'sample.accession', 'SAMN.accession', 'file_checksum', 'other.accession', 'source', 'manuscript.doi', 'manuscript.pubmed', 'experiment.instrument', 'study.title', 'study.abstract', 'n_genes', 'n_counts', 'n_genes_by_counts', 'total_counts', 'total_counts_mito', 'pct_counts_mito', 'doublet_score', 'predicted_doublet'\n",
       "     var: 'gene_ids', 'feature_types', 'mito', 'n_cells_by_counts', 'mean_counts', 'pct_dropout_by_counts', 'total_counts'\n",
       "     uns: 'scrublet'\n",
       "     layers: 'counts',\n",
       " AnnData object with n_obs × n_vars = 7251 × 61860\n",
       "     obs: 'source.label', 'sample', 'description', 'tissue', 'subtissue', 'comments', 'include', 'species', 'GSE.accession', 'GSM.accession', 'chemistry', 'file.format', 'SRR.accession', 'file_link', 'experiment.accession', 'study.accession', 'sample.accession', 'SAMN.accession', 'file_checksum', 'other.accession', 'source', 'manuscript.doi', 'manuscript.pubmed', 'experiment.instrument', 'study.title', 'study.abstract', 'n_genes', 'n_counts', 'n_genes_by_counts', 'total_counts', 'total_counts_mito', 'pct_counts_mito', 'doublet_score', 'predicted_doublet'\n",
       "     var: 'gene_ids', 'feature_types', 'mito', 'n_cells_by_counts', 'mean_counts', 'pct_dropout_by_counts', 'total_counts'\n",
       "     uns: 'scrublet'\n",
       "     layers: 'counts',\n",
       " AnnData object with n_obs × n_vars = 12992 × 61860\n",
       "     obs: 'source.label', 'sample', 'description', 'tissue', 'subtissue', 'comments', 'include', 'species', 'GSE.accession', 'GSM.accession', 'chemistry', 'file.format', 'SRR.accession', 'file_link', 'experiment.accession', 'study.accession', 'sample.accession', 'SAMN.accession', 'file_checksum', 'other.accession', 'source', 'manuscript.doi', 'manuscript.pubmed', 'experiment.instrument', 'study.title', 'study.abstract', 'n_genes', 'n_counts', 'n_genes_by_counts', 'total_counts', 'total_counts_mito', 'pct_counts_mito', 'doublet_score', 'predicted_doublet'\n",
       "     var: 'gene_ids', 'feature_types', 'mito', 'n_cells_by_counts', 'mean_counts', 'pct_dropout_by_counts', 'total_counts'\n",
       "     uns: 'scrublet'\n",
       "     layers: 'counts',\n",
       " AnnData object with n_obs × n_vars = 15314 × 61860\n",
       "     obs: 'source.label', 'sample', 'description', 'tissue', 'subtissue', 'comments', 'include', 'species', 'GSE.accession', 'GSM.accession', 'chemistry', 'file.format', 'SRR.accession', 'file_link', 'experiment.accession', 'study.accession', 'sample.accession', 'SAMN.accession', 'file_checksum', 'other.accession', 'source', 'manuscript.doi', 'manuscript.pubmed', 'experiment.instrument', 'study.title', 'study.abstract', 'n_genes', 'n_counts', 'n_genes_by_counts', 'total_counts', 'total_counts_mito', 'pct_counts_mito', 'doublet_score', 'predicted_doublet'\n",
       "     var: 'gene_ids', 'feature_types', 'mito', 'n_cells_by_counts', 'mean_counts', 'pct_dropout_by_counts', 'total_counts'\n",
       "     uns: 'scrublet'\n",
       "     layers: 'counts',\n",
       " AnnData object with n_obs × n_vars = 5692 × 61860\n",
       "     obs: 'source.label', 'sample', 'description', 'tissue', 'subtissue', 'comments', 'include', 'species', 'GSE.accession', 'GSM.accession', 'chemistry', 'file.format', 'SRR.accession', 'file_link', 'experiment.accession', 'study.accession', 'sample.accession', 'SAMN.accession', 'file_checksum', 'other.accession', 'source', 'manuscript.doi', 'manuscript.pubmed', 'experiment.instrument', 'study.title', 'study.abstract', 'n_genes', 'n_counts', 'n_genes_by_counts', 'total_counts', 'total_counts_mito', 'pct_counts_mito', 'doublet_score', 'predicted_doublet'\n",
       "     var: 'gene_ids', 'feature_types', 'mito', 'n_cells_by_counts', 'mean_counts', 'pct_dropout_by_counts', 'total_counts'\n",
       "     uns: 'scrublet'\n",
       "     layers: 'counts',\n",
       " AnnData object with n_obs × n_vars = 3773 × 61860\n",
       "     obs: 'source.label', 'sample', 'description', 'tissue', 'subtissue', 'comments', 'include', 'species', 'GSE.accession', 'GSM.accession', 'chemistry', 'file.format', 'SRR.accession', 'file_link', 'experiment.accession', 'study.accession', 'sample.accession', 'SAMN.accession', 'file_checksum', 'other.accession', 'source', 'manuscript.doi', 'manuscript.pubmed', 'experiment.instrument', 'study.title', 'study.abstract', 'n_genes', 'n_counts', 'n_genes_by_counts', 'total_counts', 'total_counts_mito', 'pct_counts_mito', 'doublet_score', 'predicted_doublet'\n",
       "     var: 'gene_ids', 'feature_types', 'mito', 'n_cells_by_counts', 'mean_counts', 'pct_dropout_by_counts', 'total_counts'\n",
       "     uns: 'scrublet'\n",
       "     layers: 'counts']"
      ]
     },
     "execution_count": 56,
     "metadata": {},
     "output_type": "execute_result"
    }
   ],
   "source": [
    "scm_list"
   ]
  },
  {
   "cell_type": "code",
   "execution_count": null,
   "id": "f9640d32-0093-4ad5-8c6d-13e0a9fa62be",
   "metadata": {},
   "outputs": [],
   "source": [
    "print(\"Final cell & feature counts:\\n\")\n",
    "for i in range(0,meta.shape[0]):    \n",
    "    scm_list[i] = scm_list[i][scm_list[i].obs[\"doublet_score\"] < cutoff_threshold[i],]\n",
    "    print(meta[\"sample\"][i] + ': ' + str(scm_list[i].shape[0]) + \" cells and \" + str(scm_list[i].shape[1]) +' features...')  \n",
    "    print(\"\")"
   ]
  },
  {
   "cell_type": "markdown",
   "id": "10c272ea-0599-4ad5-a296-54ab8c9c085a",
   "metadata": {},
   "source": [
    "## Merge and save final AnnData object"
   ]
  },
  {
   "cell_type": "code",
   "execution_count": null,
   "id": "7fe7f58b-3a59-47f8-932b-c91f9a6aabb8",
   "metadata": {},
   "outputs": [],
   "source": [
    "scm = scm_list[0].concatenate(\n",
    "    scm_list[1:],\n",
    "    index_unique=None\n",
    "#     join=\"inner\"\n",
    "#     batch_key=\"sample\",\n",
    "#     batch_categories=meta[\"sample\"]\n",
    ")\n",
    "\n",
    "print(scm.shape)"
   ]
  },
  {
   "cell_type": "code",
   "execution_count": 9,
   "id": "c8505adf-91c9-4249-b8f7-27d05d84cbd9",
   "metadata": {},
   "outputs": [
    {
     "data": {
      "text/plain": [
       "0      muscle\n",
       "1      muscle\n",
       "2      muscle\n",
       "3      muscle\n",
       "4      muscle\n",
       "        ...  \n",
       "338    muscle\n",
       "339    muscle\n",
       "340    muscle\n",
       "341    muscle\n",
       "342    muscle\n",
       "Name: tissue, Length: 343, dtype: object"
      ]
     },
     "execution_count": 9,
     "metadata": {},
     "output_type": "execute_result"
    }
   ],
   "source": [
    "meta['tissue']\n"
   ]
  },
  {
   "cell_type": "code",
   "execution_count": null,
   "id": "0a0ac37f-fd23-4055-9c7f-fc1552056f23",
   "metadata": {},
   "outputs": [],
   "source": []
  }
 ],
 "metadata": {
  "kernelspec": {
   "display_name": "Python 3 (ipykernel)",
   "language": "python",
   "name": "python3"
  },
  "language_info": {
   "codemirror_mode": {
    "name": "ipython",
    "version": 3
   },
   "file_extension": ".py",
   "mimetype": "text/x-python",
   "name": "python",
   "nbconvert_exporter": "python",
   "pygments_lexer": "ipython3",
   "version": "3.9.6"
  }
 },
 "nbformat": 4,
 "nbformat_minor": 5
}
