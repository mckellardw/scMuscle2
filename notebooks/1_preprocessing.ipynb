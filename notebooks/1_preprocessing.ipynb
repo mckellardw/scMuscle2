{
 "cells": [
  {
   "cell_type": "markdown",
   "id": "c8109bbc-6998-4006-b00a-f2a93a64f127",
   "metadata": {},
   "source": [
    "# Preprocessing of individual datasets"
   ]
  },
  {
   "cell_type": "markdown",
   "id": "8ad8028d-85b2-4db3-a4cb-3421da5167fc",
   "metadata": {},
   "source": [
    "Import packages... \n",
    "- [scanpy](https://scanpy.readthedocs.io/en/stable/index.html)\n"
   ]
  },
  {
   "cell_type": "code",
   "execution_count": null,
   "id": "5ce71d39-2b08-4d41-b7d7-0543e0d05066",
   "metadata": {},
   "outputs": [],
   "source": [
    "import scanpy as sc\n",
    "import scanpy.external as sce\n",
    "import pandas as pd\n",
    "\n",
    "import os"
   ]
  },
  {
   "cell_type": "code",
   "execution_count": null,
   "id": "9add09aa-98af-49d2-a954-5c5377d8b53e",
   "metadata": {},
   "outputs": [],
   "source": [
    "DATADIR=\"/workdir/dwm269/scMuscle2/data/align_out\""
   ]
  },
  {
   "cell_type": "markdown",
   "id": "aba526dd-37fd-4dc9-bcff-6d302d6e0715",
   "metadata": {},
   "source": [
    "Load metadata"
   ]
  },
  {
   "cell_type": "code",
   "execution_count": null,
   "id": "3bb981bb-0dc6-428f-a859-9d1286be39c5",
   "metadata": {},
   "outputs": [],
   "source": [
    "meta = pd.read_csv(\"../scMuscle2_metadata_v1-0.csv\")\n",
    "meta = meta.loc[meta[\"include\"],] # remove unwanted metadata\n",
    "meta = meta[[x in [\"fastq\", \"bam\"] for x in meta[\"file.format\"]]] # remove samples w/ download issues\n",
    "\n",
    "meta = meta[[x in [\"muscle\", \"tendon\"] for x in meta[\"tissue\"]]] # subset by tissue \n",
    "meta = meta[[x in [\"Homo sapiens\"] for x in meta[\"species\"]]] # subset by species , \"Mus musculus\"\n",
    "# meta = meta.iloc[[8,12,23,34,45],] # subset by row index\n",
    "\n",
    "meta = meta[[x != \"\" for x in meta[\"GSM.accession\"]]] # \n",
    "meta = meta[[x != \"\" for x in meta[\"sample\"]]] # \n",
    "\n",
    "meta.index = list(range(0, len(meta))) # reset row indices\n",
    "meta"
   ]
  },
  {
   "cell_type": "code",
   "execution_count": null,
   "id": "a68dbb35-4bd1-4aff-808c-ce3d883a910a",
   "metadata": {},
   "outputs": [],
   "source": [
    "meta.species.value_counts()"
   ]
  },
  {
   "cell_type": "code",
   "execution_count": null,
   "id": "01955ec1-a2fb-44c8-b130-40b2cefdfe55",
   "metadata": {},
   "outputs": [],
   "source": [
    "# Calculate the number of PCs that contain some proportion (default is 95%) of the variance\n",
    "def npcs(\n",
    "  ADATA,\n",
    "  var_perc=0.95,\n",
    "  reduction=\"pca\"\n",
    "):\n",
    "    import numpy as np\n",
    "    get_var = lambda i: np.var(ADATA.obsm[reduction][:,i])\n",
    "\n",
    "    if ADATA.obsm[reduction] is None:\n",
    "        print(f\"Reduction {reduction}, not found!\")\n",
    "        return None\n",
    "    else:\n",
    "        var_tmp = [get_var(i) for i in list(range(0,ADATA.obsm[reduction].shape[1]))]\n",
    "        var_cut = var_perc * np.sum(var_tmp)\n",
    "        n_pcs = 0\n",
    "        var_sum = 0\n",
    "        while var_sum<var_cut and n_pcs<ADATA.obsm[reduction].shape[1]-1:\n",
    "            var_sum = var_sum + var_tmp[n_pcs]\n",
    "            n_pcs = n_pcs + 1\n",
    "\n",
    "        return(n_pcs)"
   ]
  },
  {
   "cell_type": "markdown",
   "id": "aacf4679-94c8-40a3-8710-24d45a120424",
   "metadata": {},
   "source": [
    "Read in count data & initialize anndata objects. ALso add metadata to each object"
   ]
  },
  {
   "cell_type": "code",
   "execution_count": null,
   "id": "d7bf66d5-996e-4cf0-b477-a5f720c269a6",
   "metadata": {},
   "outputs": [],
   "source": [
    "# try:\n",
    "#     scm_list.index\n",
    "# except:\n",
    "scm_list = pd.Series(\n",
    "    index = meta[\"GSM.accession\"],\n",
    "    data = [\"\"]*meta.shape[0]\n",
    ")"
   ]
  },
  {
   "cell_type": "code",
   "execution_count": null,
   "id": "e19412a5-75c8-4888-ab2e-1ef28905ef9d",
   "metadata": {},
   "outputs": [],
   "source": [
    "for i in range(0,meta.shape[0]):\n",
    "    if os.path.exists(DATADIR+\"/\"+meta[\"GSM.accession\"][i]+\"/STARsolo/Solo.out/GeneFull/filtered/matrix.mtx.gz\"):\n",
    "        print(\"Sample: \" + meta[\"GSM.accession\"][i]) \n",
    "#         try:\n",
    "        scm_list[i] = sc.read_10x_mtx(\n",
    "                path=DATADIR+\"/\"+meta[\"GSM.accession\"][i]+\"/STARsolo/Solo.out/GeneFull/filtered\", \n",
    "                var_names='gene_symbols',\n",
    "                make_unique=True,\n",
    "                cache=True\n",
    "            )\n",
    "          \n",
    "        scm_list[i].var_names_make_unique()  # this is unnecessary if using `var_names='gene_ids'` in `sc.read_10x_mtx`\n",
    "\n",
    "        for j in range(0,meta.shape[1]): #metadata features\n",
    "            scm_list[i].obs[meta.columns[j]] = meta.iloc[i,j]\n",
    "\n",
    "        scm_list[i].layers['counts'] = scm_list[i].X # save counts as a layer for future plotting\n",
    "\n",
    "        print(\"     Loaded \" + str(scm_list[i].shape[0]) + \" cells and \" + str(scm_list[i].shape[1]) + \" genes...\")\n",
    "    else:\n",
    "        print(\"Can't find counts for \" + str(meta[\"GSM.accession\"][i]) + \"...\")\n",
    "#         except:\n",
    "#             print(\"Exception with \" + meta[\"sample\"][i])"
   ]
  },
  {
   "cell_type": "markdown",
   "id": "77190686-bba7-4420-8699-6ca9a06e4456",
   "metadata": {},
   "source": [
    "Add ambient-RNA-scrubbed counts"
   ]
  },
  {
   "cell_type": "code",
   "execution_count": null,
   "id": "a9639b1a-1640-4714-8c65-39b74b7e0b85",
   "metadata": {},
   "outputs": [],
   "source": [
    "#TODO"
   ]
  },
  {
   "cell_type": "code",
   "execution_count": null,
   "id": "61a79f35-0607-4383-ae18-287d0345c010",
   "metadata": {},
   "outputs": [],
   "source": [
    "import gc\n",
    "\n",
    "gc.collect()"
   ]
  },
  {
   "cell_type": "markdown",
   "id": "f5d9260f-0c1e-4e08-b8c3-72a468e68159",
   "metadata": {},
   "source": [
    "QC filter and preprocess individual datasets"
   ]
  },
  {
   "cell_type": "code",
   "execution_count": null,
   "id": "661665b7-17ef-4cc8-81d7-9a475101a77a",
   "metadata": {},
   "outputs": [],
   "source": [
    "# gene/transcript, mito filters count filters\n",
    "for i in range(0,meta.shape[0]):\n",
    "    try:\n",
    "        print(meta[\"GSM.accession\"][i] + ': ' + str(scm_list[i].shape[0]) + \" cells and \" + str(scm_list[i].shape[1]) +' features...')  \n",
    "\n",
    "        # Hard filters for feature and UMI counts\n",
    "        sc.pp.filter_cells(\n",
    "            scm_list[i],\n",
    "            min_genes=500\n",
    "        )\n",
    "        sc.pp.filter_cells(\n",
    "            scm_list[i], \n",
    "            min_counts=1000\n",
    "        )\n",
    "#         sc.pp.filter_cells(\n",
    "#             scm_list[i], \n",
    "#             max_counts=25000\n",
    "#         )\n",
    "\n",
    "        # Hard filter for sparsely detected features\n",
    "#         sc.pp.filter_genes(\n",
    "#             scm_list[i],\n",
    "#             min_cells=5\n",
    "#         ) \n",
    "\n",
    "        scm_list[i].var['mito'] = scm_list[i].var_names.str.startswith('MT-')  # annotate the group of mitochondrial genes as 'mt'\n",
    "        sc.pp.calculate_qc_metrics(\n",
    "            scm_list[i], \n",
    "            qc_vars=['mito'], \n",
    "            percent_top=None, \n",
    "            log1p=False, \n",
    "            inplace=True\n",
    "        )  \n",
    "\n",
    "        # QC filter(s)\n",
    "        scm_list[i] = scm_list[i][scm_list[i].obs.pct_counts_mito < 40, :] \n",
    "\n",
    "        print('After filtering: ' + str(scm_list[i].shape[0]) + \" cells and \" + str(scm_list[i].shape[1]) +' features...')  \n",
    "    \n",
    "    except:\n",
    "            print(\"Exception with \" + meta[\"GSM.accession\"][i])\n",
    "        \n",
    "    print(\" \")"
   ]
  },
  {
   "cell_type": "markdown",
   "id": "1e293663-931f-4c88-b496-4c86432340f1",
   "metadata": {},
   "source": [
    "Add metadata to each object"
   ]
  },
  {
   "cell_type": "markdown",
   "id": "428b8836-81e7-4884-8334-ec2003f74ab9",
   "metadata": {},
   "source": [
    "## Doublet removal via Scrublet"
   ]
  },
  {
   "cell_type": "markdown",
   "id": "9ecef4e5-21b2-4d5d-8dec-0621f8e1ac11",
   "metadata": {},
   "source": [
    "Estimate doublet scores"
   ]
  },
  {
   "cell_type": "code",
   "execution_count": null,
   "id": "5a473a94-49d1-43c1-bb10-4898c1fa1a84",
   "metadata": {},
   "outputs": [],
   "source": [
    "sc.settings.set_figure_params(\n",
    "    fontsize=8\n",
    ")\n",
    "\n",
    "for i in range(0,meta.shape[0]):\n",
    "    try:\n",
    "        sc.external.pp.scrublet(\n",
    "            scm_list[i]\n",
    "        )\n",
    "        sc.external.pl.scrublet_score_distribution(\n",
    "            scm_list[i],\n",
    "            figsize =[6,2.25]\n",
    "        )\n",
    "            \n",
    "    except:\n",
    "            print(\"Exception with \" + meta[\"sample\"][i])\n",
    "        \n",
    "    print(\" \")"
   ]
  },
  {
   "cell_type": "markdown",
   "id": "4b9e5357-3831-49fc-847b-a4af38762895",
   "metadata": {},
   "source": [
    "Estimate doublet score cutoff values for each sample"
   ]
  },
  {
   "cell_type": "code",
   "execution_count": null,
   "id": "085d0cac-6c9a-400d-ad21-add8b1f4ad72",
   "metadata": {},
   "outputs": [],
   "source": [
    "cutoff_threshold = [\n",
    "    0.63, 0.63, \n",
    "    0.59, #D4_200um\n",
    "    0.52, \n",
    "    0.6, #D4_1000um\n",
    "    0.24, \n",
    "    0.2, 0.24,\n",
    "#     0.58, # D20_600um\n",
    "    0.63, # D21_200um\n",
    "    0.18,\n",
    "    0.18 #D21_1000um\n",
    "]"
   ]
  },
  {
   "cell_type": "code",
   "execution_count": null,
   "id": "22f1e3b5-b5c3-4cb5-bde5-22fd60e951c1",
   "metadata": {},
   "outputs": [],
   "source": [
    "scm_list"
   ]
  },
  {
   "cell_type": "code",
   "execution_count": null,
   "id": "f9640d32-0093-4ad5-8c6d-13e0a9fa62be",
   "metadata": {},
   "outputs": [],
   "source": [
    "print(\"Final cell & feature counts:\\n\")\n",
    "for i in range(0,meta.shape[0]):    \n",
    "    scm_list[i] = scm_list[i][scm_list[i].obs[\"doublet_score\"] < cutoff_threshold[i],]\n",
    "    print(meta[\"sample\"][i] + ': ' + str(scm_list[i].shape[0]) + \" cells and \" + str(scm_list[i].shape[1]) +' features...')  \n",
    "    print(\"\")"
   ]
  },
  {
   "cell_type": "markdown",
   "id": "10c272ea-0599-4ad5-a296-54ab8c9c085a",
   "metadata": {},
   "source": [
    "## Merge and save final AnnData object"
   ]
  },
  {
   "cell_type": "code",
   "execution_count": null,
   "id": "7fe7f58b-3a59-47f8-932b-c91f9a6aabb8",
   "metadata": {},
   "outputs": [],
   "source": [
    "scm = scm_list[0].concatenate(\n",
    "    scm_list[1:],\n",
    "    index_unique=None\n",
    "#     join=\"inner\"\n",
    "#     batch_key=\"sample\",\n",
    "#     batch_categories=meta[\"sample\"]\n",
    ")\n",
    "\n",
    "print(scm.shape)"
   ]
  },
  {
   "cell_type": "code",
   "execution_count": null,
   "id": "c8505adf-91c9-4249-b8f7-27d05d84cbd9",
   "metadata": {},
   "outputs": [],
   "source": [
    "meta['tissue']\n"
   ]
  },
  {
   "cell_type": "code",
   "execution_count": null,
   "id": "0a0ac37f-fd23-4055-9c7f-fc1552056f23",
   "metadata": {},
   "outputs": [],
   "source": []
  }
 ],
 "metadata": {
  "kernelspec": {
   "display_name": "Python 3 (ipykernel)",
   "language": "python",
   "name": "python3"
  },
  "language_info": {
   "codemirror_mode": {
    "name": "ipython",
    "version": 3
   },
   "file_extension": ".py",
   "mimetype": "text/x-python",
   "name": "python",
   "nbconvert_exporter": "python",
   "pygments_lexer": "ipython3",
   "version": "3.9.6"
  }
 },
 "nbformat": 4,
 "nbformat_minor": 5
}
