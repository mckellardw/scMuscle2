{
 "cells": [
  {
   "cell_type": "markdown",
   "id": "004c7216-d946-4175-8826-fc0effef7d44",
   "metadata": {},
   "source": [
    "# Integration of datasets using Harmony"
   ]
  },
  {
   "cell_type": "code",
   "execution_count": null,
   "id": "496cd0b1-545c-499c-a638-6954cda43411",
   "metadata": {},
   "outputs": [],
   "source": []
  }
 ],
 "metadata": {
  "kernelspec": {
   "display_name": "Python 3 (ipykernel)",
   "language": "python",
   "name": "python3"
  },
  "language_info": {
   "codemirror_mode": {
    "name": "ipython",
    "version": 3
   },
   "file_extension": ".py",
   "mimetype": "text/x-python",
   "name": "python",
   "nbconvert_exporter": "python",
   "pygments_lexer": "ipython3",
   "version": "3.9.6"
  }
 },
 "nbformat": 4,
 "nbformat_minor": 5
}
